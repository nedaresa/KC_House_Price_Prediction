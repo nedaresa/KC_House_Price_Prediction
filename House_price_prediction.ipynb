{
 "cells": [
  {
   "cell_type": "code",
   "execution_count": 513,
   "metadata": {},
   "outputs": [],
   "source": [
    "import pandas as pd"
   ]
  },
  {
   "cell_type": "code",
   "execution_count": 514,
   "metadata": {},
   "outputs": [
    {
     "name": "stderr",
     "output_type": "stream",
     "text": [
      "/Users/flatironschool/anaconda3/envs/learn/lib/python3.7/site-packages/IPython/core/interactiveshell.py:3049: DtypeWarning: Columns (1,2) have mixed types. Specify dtype option on import or set low_memory=False.\n",
      "  interactivity=interactivity, compiler=compiler, result=result)\n",
      "/Users/flatironschool/anaconda3/envs/learn/lib/python3.7/site-packages/IPython/core/interactiveshell.py:3049: DtypeWarning: Columns (11) have mixed types. Specify dtype option on import or set low_memory=False.\n",
      "  interactivity=interactivity, compiler=compiler, result=result)\n"
     ]
    }
   ],
   "source": [
    "sales_df = pd.read_csv('raw_data/EXTR_RPSale.csv')\n",
    "resbldg_df = pd.read_csv('raw_data/EXTR_ResBldg.txt', sep='\\t')"
   ]
  },
  {
   "cell_type": "code",
   "execution_count": 515,
   "metadata": {},
   "outputs": [
    {
     "name": "stdout",
     "output_type": "stream",
     "text": [
      "   ExciseTaxNbr   Major Minor DocumentDate  SalePrice    RecordingNbr Volume  \\\n",
      "0       2687551  138860   110   08/21/2014     245000  20140828001436          \n",
      "1       1235111  664885    40   07/09/1991          0  199203161090      071   \n",
      "2       2704079  423943    50   10/11/2014          0  20141205000558          \n",
      "3       2584094  403700   715   01/04/2013          0  20130110000910          \n",
      "4       1056831  951120   900   04/20/1989      85000  198904260448      117   \n",
      "\n",
      "  Page PlatNbr PlatType  ... PropertyType PrincipalUse SaleInstrument  \\\n",
      "0                        ...            3            6              3   \n",
      "1  001  664885        C  ...            3            0             26   \n",
      "2                        ...            3            6             15   \n",
      "3                        ...            3            6             15   \n",
      "4  053  951120        P  ...            3            0              2   \n",
      "\n",
      "  AFForestLand  AFCurrentUseLand  AFNonProfitUse  AFHistoricProperty  \\\n",
      "0            N                 N               N                   N   \n",
      "1            N                 N               N                   N   \n",
      "2            N                 N               N                   N   \n",
      "3            N                 N               N                   N   \n",
      "4            N                 N               N                   N   \n",
      "\n",
      "  SaleReason PropertyClass SaleWarning  \n",
      "0          1             8              \n",
      "1         18             3          11  \n",
      "2         18             8    18 31 51  \n",
      "3         11             8    18 31 38  \n",
      "4          1             9          49  \n",
      "\n",
      "[5 rows x 24 columns]\n",
      "   Major   Minor  BldgNbr  NbrLivingUnits                      Address  \\\n",
      "0     440     18        1               1    26503   68TH AVE S  98032   \n",
      "1     520     76        1               1     6740   MARS AVE S  98108   \n",
      "2     640      9        1               1  45521   212TH AVE SE  98022   \n",
      "3     660     11        1               1       520   3RD AVE S  98032   \n",
      "4     680     24        1               1    27124   78TH AVE S  98032   \n",
      "\n",
      "  BuildingNumber Fraction DirectionPrefix  StreetName                 \\\n",
      "0          26503                           68TH                        \n",
      "1          6740                            MARS                        \n",
      "2          45521                           212TH                       \n",
      "3          520                             3RD                         \n",
      "4          27124                           78TH                        \n",
      "\n",
      "  StreetType  ... FpMultiStory FpFreestanding  FpAdditional  YrBuilt  \\\n",
      "0     AVE     ...            0              0             0     1956   \n",
      "1     AVE     ...            1              0             1     1942   \n",
      "2     AVE     ...            0              0             0     1945   \n",
      "3     AVE     ...            0              0             0     1928   \n",
      "4     AVE     ...            0              0             0     1901   \n",
      "\n",
      "   YrRenovated  PcntComplete  Obsolescence  PcntNetCondition  Condition  \\\n",
      "0            0             0             0                 0          3   \n",
      "1            0             0             0                 0          3   \n",
      "2            0             0             0                 0          5   \n",
      "3            0             0             0                 0          4   \n",
      "4         1964             0             0                 0          3   \n",
      "\n",
      "   AddnlCost  \n",
      "0          0  \n",
      "1          0  \n",
      "2          0  \n",
      "3          0  \n",
      "4          0  \n",
      "\n",
      "[5 rows x 50 columns]\n"
     ]
    }
   ],
   "source": [
    "print(sales_df.head())\n",
    "print(resbldg_df.head())"
   ]
  },
  {
   "cell_type": "code",
   "execution_count": 516,
   "metadata": {},
   "outputs": [
    {
     "name": "stdout",
     "output_type": "stream",
     "text": [
      "<class 'pandas.core.frame.DataFrame'>\n",
      "RangeIndex: 2033420 entries, 0 to 2033419\n",
      "Data columns (total 24 columns):\n",
      "ExciseTaxNbr          int64\n",
      "Major                 object\n",
      "Minor                 object\n",
      "DocumentDate          object\n",
      "SalePrice             int64\n",
      "RecordingNbr          object\n",
      "Volume                object\n",
      "Page                  object\n",
      "PlatNbr               object\n",
      "PlatType              object\n",
      "PlatLot               object\n",
      "PlatBlock             object\n",
      "SellerName            object\n",
      "BuyerName             object\n",
      "PropertyType          int64\n",
      "PrincipalUse          int64\n",
      "SaleInstrument        int64\n",
      "AFForestLand          object\n",
      "AFCurrentUseLand      object\n",
      "AFNonProfitUse        object\n",
      "AFHistoricProperty    object\n",
      "SaleReason            int64\n",
      "PropertyClass         int64\n",
      "SaleWarning           object\n",
      "dtypes: int64(7), object(17)\n",
      "memory usage: 372.3+ MB\n",
      "<class 'pandas.core.frame.DataFrame'>\n",
      "RangeIndex: 512548 entries, 0 to 512547\n",
      "Data columns (total 50 columns):\n",
      "Major                        512548 non-null int64\n",
      "Minor                        512548 non-null int64\n",
      "BldgNbr                      512548 non-null int64\n",
      "NbrLivingUnits               512548 non-null int64\n",
      "Address                      512548 non-null object\n",
      "BuildingNumber               512548 non-null object\n",
      "Fraction                     512548 non-null object\n",
      "DirectionPrefix              511984 non-null object\n",
      "StreetName                   512548 non-null object\n",
      "StreetType                   512548 non-null object\n",
      "DirectionSuffix              511984 non-null object\n",
      "ZipCode                      468452 non-null object\n",
      "Stories                      512548 non-null float64\n",
      "BldgGrade                    512548 non-null int64\n",
      "BldgGradeVar                 512548 non-null int64\n",
      "SqFt1stFloor                 512548 non-null int64\n",
      "SqFtHalfFloor                512548 non-null int64\n",
      "SqFt2ndFloor                 512548 non-null int64\n",
      "SqFtUpperFloor               512548 non-null int64\n",
      "SqFtUnfinFull                512548 non-null int64\n",
      "SqFtUnfinHalf                512548 non-null int64\n",
      "SqFtTotLiving                512548 non-null int64\n",
      "SqFtTotBasement              512548 non-null int64\n",
      "SqFtFinBasement              512548 non-null int64\n",
      "FinBasementGrade             512548 non-null int64\n",
      "SqFtGarageBasement           512548 non-null int64\n",
      "SqFtGarageAttached           512548 non-null int64\n",
      "DaylightBasement             512548 non-null object\n",
      "SqFtOpenPorch                512548 non-null int64\n",
      "SqFtEnclosedPorch            512548 non-null int64\n",
      "SqFtDeck                     512548 non-null int64\n",
      "HeatSystem                   512548 non-null int64\n",
      "HeatSource                   512548 non-null int64\n",
      "BrickStone                   512548 non-null int64\n",
      "ViewUtilization              512548 non-null object\n",
      "Bedrooms                     512548 non-null int64\n",
      "BathHalfCount                512548 non-null int64\n",
      "Bath3qtrCount                512548 non-null int64\n",
      "BathFullCount                512548 non-null int64\n",
      "FpSingleStory                512548 non-null int64\n",
      "FpMultiStory                 512548 non-null int64\n",
      "FpFreestanding               512548 non-null int64\n",
      "FpAdditional                 512548 non-null int64\n",
      "YrBuilt                      512548 non-null int64\n",
      "YrRenovated                  512548 non-null int64\n",
      "PcntComplete                 512548 non-null int64\n",
      "Obsolescence                 512548 non-null int64\n",
      "PcntNetCondition             512548 non-null int64\n",
      "Condition                    512548 non-null int64\n",
      "AddnlCost                    512548 non-null int64\n",
      "dtypes: float64(1), int64(39), object(10)\n",
      "memory usage: 195.5+ MB\n"
     ]
    }
   ],
   "source": [
    "sales_df.info()\n",
    "resbldg_df.info()"
   ]
  },
  {
   "cell_type": "code",
   "execution_count": 517,
   "metadata": {},
   "outputs": [
    {
     "name": "stdout",
     "output_type": "stream",
     "text": [
      "(2033420, 24)\n",
      "(2033420, 24)\n"
     ]
    }
   ],
   "source": [
    "sales_df1 = sales_df.loc[:, (sales_df != 0).any(axis=0)]   #\n",
    "print(sales_df.shape)\n",
    "print(sales_df1.shape)"
   ]
  },
  {
   "cell_type": "code",
   "execution_count": 518,
   "metadata": {},
   "outputs": [
    {
     "name": "stdout",
     "output_type": "stream",
     "text": [
      "(512548, 50)\n",
      "(512548, 50)\n"
     ]
    }
   ],
   "source": [
    "resbldg_df1 = resbldg_df.loc[:, (resbldg_df != 0).any(axis=0)]\n",
    "print(resbldg_df.shape)\n",
    "print(resbldg_df1.shape)"
   ]
  },
  {
   "cell_type": "code",
   "execution_count": 519,
   "metadata": {},
   "outputs": [],
   "source": [
    "resbldg_df2 = resbldg_df1.rename(columns={'Major ': 'Major', 'SqFtDeck  ': 'SqFtDeck'})"
   ]
  },
  {
   "cell_type": "code",
   "execution_count": 520,
   "metadata": {},
   "outputs": [
    {
     "data": {
      "text/html": [
       "<div>\n",
       "<style scoped>\n",
       "    .dataframe tbody tr th:only-of-type {\n",
       "        vertical-align: middle;\n",
       "    }\n",
       "\n",
       "    .dataframe tbody tr th {\n",
       "        vertical-align: top;\n",
       "    }\n",
       "\n",
       "    .dataframe thead th {\n",
       "        text-align: right;\n",
       "    }\n",
       "</style>\n",
       "<table border=\"1\" class=\"dataframe\">\n",
       "  <thead>\n",
       "    <tr style=\"text-align: right;\">\n",
       "      <th></th>\n",
       "      <th>Major</th>\n",
       "      <th>Minor</th>\n",
       "      <th>SqFtTotLiving</th>\n",
       "      <th>Bedrooms</th>\n",
       "      <th>SqFtGarageAttached</th>\n",
       "      <th>Condition</th>\n",
       "      <th>SqFtDeck</th>\n",
       "      <th>BathFullCount</th>\n",
       "      <th>ZipCode</th>\n",
       "      <th>HeatSystem</th>\n",
       "      <th>YrBuilt</th>\n",
       "    </tr>\n",
       "  </thead>\n",
       "  <tbody>\n",
       "    <tr>\n",
       "      <th>0</th>\n",
       "      <td>440</td>\n",
       "      <td>18</td>\n",
       "      <td>1430</td>\n",
       "      <td>3</td>\n",
       "      <td>0</td>\n",
       "      <td>3</td>\n",
       "      <td>130</td>\n",
       "      <td>1</td>\n",
       "      <td>98032</td>\n",
       "      <td>5</td>\n",
       "      <td>1956</td>\n",
       "    </tr>\n",
       "    <tr>\n",
       "      <th>1</th>\n",
       "      <td>520</td>\n",
       "      <td>76</td>\n",
       "      <td>2070</td>\n",
       "      <td>3</td>\n",
       "      <td>0</td>\n",
       "      <td>3</td>\n",
       "      <td>0</td>\n",
       "      <td>2</td>\n",
       "      <td>98108</td>\n",
       "      <td>5</td>\n",
       "      <td>1942</td>\n",
       "    </tr>\n",
       "    <tr>\n",
       "      <th>2</th>\n",
       "      <td>640</td>\n",
       "      <td>9</td>\n",
       "      <td>850</td>\n",
       "      <td>2</td>\n",
       "      <td>0</td>\n",
       "      <td>5</td>\n",
       "      <td>0</td>\n",
       "      <td>1</td>\n",
       "      <td>98022</td>\n",
       "      <td>4</td>\n",
       "      <td>1945</td>\n",
       "    </tr>\n",
       "    <tr>\n",
       "      <th>3</th>\n",
       "      <td>660</td>\n",
       "      <td>11</td>\n",
       "      <td>840</td>\n",
       "      <td>2</td>\n",
       "      <td>0</td>\n",
       "      <td>4</td>\n",
       "      <td>0</td>\n",
       "      <td>1</td>\n",
       "      <td>98032</td>\n",
       "      <td>5</td>\n",
       "      <td>1928</td>\n",
       "    </tr>\n",
       "    <tr>\n",
       "      <th>4</th>\n",
       "      <td>680</td>\n",
       "      <td>24</td>\n",
       "      <td>1390</td>\n",
       "      <td>3</td>\n",
       "      <td>0</td>\n",
       "      <td>3</td>\n",
       "      <td>60</td>\n",
       "      <td>1</td>\n",
       "      <td>98032</td>\n",
       "      <td>4</td>\n",
       "      <td>1901</td>\n",
       "    </tr>\n",
       "  </tbody>\n",
       "</table>\n",
       "</div>"
      ],
      "text/plain": [
       "   Major  Minor  SqFtTotLiving  Bedrooms  SqFtGarageAttached  Condition  \\\n",
       "0    440     18           1430         3                   0          3   \n",
       "1    520     76           2070         3                   0          3   \n",
       "2    640      9            850         2                   0          5   \n",
       "3    660     11            840         2                   0          4   \n",
       "4    680     24           1390         3                   0          3   \n",
       "\n",
       "   SqFtDeck  BathFullCount ZipCode  HeatSystem  YrBuilt  \n",
       "0       130              1   98032           5     1956  \n",
       "1         0              2   98108           5     1942  \n",
       "2         0              1   98022           4     1945  \n",
       "3         0              1   98032           5     1928  \n",
       "4        60              1   98032           4     1901  "
      ]
     },
     "execution_count": 520,
     "metadata": {},
     "output_type": "execute_result"
    }
   ],
   "source": [
    "sales_df2 = sales_df1[['Major', 'Minor', 'DocumentDate', 'SalePrice']]\n",
    "resbldg_df3 = resbldg_df2[['Major', 'Minor', 'SqFtTotLiving', 'Bedrooms', 'SqFtGarageAttached',\n",
    "                   'Condition', 'SqFtDeck','BathFullCount', 'ZipCode','HeatSystem', 'YrBuilt']]\n",
    "\n",
    "resbldg_df3.head()"
   ]
  },
  {
   "cell_type": "code",
   "execution_count": 522,
   "metadata": {},
   "outputs": [
    {
     "name": "stderr",
     "output_type": "stream",
     "text": [
      "/Users/flatironschool/anaconda3/envs/learn/lib/python3.7/site-packages/ipykernel_launcher.py:1: SettingWithCopyWarning: \n",
      "A value is trying to be set on a copy of a slice from a DataFrame.\n",
      "Try using .loc[row_indexer,col_indexer] = value instead\n",
      "\n",
      "See the caveats in the documentation: http://pandas.pydata.org/pandas-docs/stable/indexing.html#indexing-view-versus-copy\n",
      "  \"\"\"Entry point for launching an IPython kernel.\n",
      "/Users/flatironschool/anaconda3/envs/learn/lib/python3.7/site-packages/ipykernel_launcher.py:2: SettingWithCopyWarning: \n",
      "A value is trying to be set on a copy of a slice from a DataFrame.\n",
      "Try using .loc[row_indexer,col_indexer] = value instead\n",
      "\n",
      "See the caveats in the documentation: http://pandas.pydata.org/pandas-docs/stable/indexing.html#indexing-view-versus-copy\n",
      "  \n",
      "/Users/flatironschool/anaconda3/envs/learn/lib/python3.7/site-packages/ipykernel_launcher.py:3: SettingWithCopyWarning: \n",
      "A value is trying to be set on a copy of a slice from a DataFrame.\n",
      "Try using .loc[row_indexer,col_indexer] = value instead\n",
      "\n",
      "See the caveats in the documentation: http://pandas.pydata.org/pandas-docs/stable/indexing.html#indexing-view-versus-copy\n",
      "  This is separate from the ipykernel package so we can avoid doing imports until\n"
     ]
    },
    {
     "data": {
      "text/html": [
       "<div>\n",
       "<style scoped>\n",
       "    .dataframe tbody tr th:only-of-type {\n",
       "        vertical-align: middle;\n",
       "    }\n",
       "\n",
       "    .dataframe tbody tr th {\n",
       "        vertical-align: top;\n",
       "    }\n",
       "\n",
       "    .dataframe thead th {\n",
       "        text-align: right;\n",
       "    }\n",
       "</style>\n",
       "<table border=\"1\" class=\"dataframe\">\n",
       "  <thead>\n",
       "    <tr style=\"text-align: right;\">\n",
       "      <th></th>\n",
       "      <th>Major</th>\n",
       "      <th>Minor</th>\n",
       "      <th>DocumentDate</th>\n",
       "      <th>SalePrice</th>\n",
       "      <th>SqFtTotLiving</th>\n",
       "      <th>Bedrooms</th>\n",
       "      <th>SqFtGarageAttached</th>\n",
       "      <th>Condition</th>\n",
       "      <th>SqFtDeck</th>\n",
       "      <th>BathFullCount</th>\n",
       "      <th>ZipCode</th>\n",
       "      <th>HeatSystem</th>\n",
       "      <th>YrBuilt</th>\n",
       "    </tr>\n",
       "  </thead>\n",
       "  <tbody>\n",
       "    <tr>\n",
       "      <th>0</th>\n",
       "      <td>138860.0</td>\n",
       "      <td>110.0</td>\n",
       "      <td>08/21/2014</td>\n",
       "      <td>245000</td>\n",
       "      <td>1490</td>\n",
       "      <td>3</td>\n",
       "      <td>500</td>\n",
       "      <td>3</td>\n",
       "      <td>0</td>\n",
       "      <td>2</td>\n",
       "      <td>98002</td>\n",
       "      <td>5</td>\n",
       "      <td>1989</td>\n",
       "    </tr>\n",
       "    <tr>\n",
       "      <th>1</th>\n",
       "      <td>138860.0</td>\n",
       "      <td>110.0</td>\n",
       "      <td>06/12/1989</td>\n",
       "      <td>109300</td>\n",
       "      <td>1490</td>\n",
       "      <td>3</td>\n",
       "      <td>500</td>\n",
       "      <td>3</td>\n",
       "      <td>0</td>\n",
       "      <td>2</td>\n",
       "      <td>98002</td>\n",
       "      <td>5</td>\n",
       "      <td>1989</td>\n",
       "    </tr>\n",
       "    <tr>\n",
       "      <th>2</th>\n",
       "      <td>138860.0</td>\n",
       "      <td>110.0</td>\n",
       "      <td>01/16/2005</td>\n",
       "      <td>14684</td>\n",
       "      <td>1490</td>\n",
       "      <td>3</td>\n",
       "      <td>500</td>\n",
       "      <td>3</td>\n",
       "      <td>0</td>\n",
       "      <td>2</td>\n",
       "      <td>98002</td>\n",
       "      <td>5</td>\n",
       "      <td>1989</td>\n",
       "    </tr>\n",
       "    <tr>\n",
       "      <th>3</th>\n",
       "      <td>138860.0</td>\n",
       "      <td>110.0</td>\n",
       "      <td>06/08/2005</td>\n",
       "      <td>0</td>\n",
       "      <td>1490</td>\n",
       "      <td>3</td>\n",
       "      <td>500</td>\n",
       "      <td>3</td>\n",
       "      <td>0</td>\n",
       "      <td>2</td>\n",
       "      <td>98002</td>\n",
       "      <td>5</td>\n",
       "      <td>1989</td>\n",
       "    </tr>\n",
       "    <tr>\n",
       "      <th>4</th>\n",
       "      <td>423943.0</td>\n",
       "      <td>50.0</td>\n",
       "      <td>10/11/2014</td>\n",
       "      <td>0</td>\n",
       "      <td>960</td>\n",
       "      <td>3</td>\n",
       "      <td>240</td>\n",
       "      <td>4</td>\n",
       "      <td>0</td>\n",
       "      <td>1</td>\n",
       "      <td>98092</td>\n",
       "      <td>4</td>\n",
       "      <td>1969</td>\n",
       "    </tr>\n",
       "  </tbody>\n",
       "</table>\n",
       "</div>"
      ],
      "text/plain": [
       "      Major  Minor DocumentDate  SalePrice  SqFtTotLiving  Bedrooms  \\\n",
       "0  138860.0  110.0   08/21/2014     245000           1490         3   \n",
       "1  138860.0  110.0   06/12/1989     109300           1490         3   \n",
       "2  138860.0  110.0   01/16/2005      14684           1490         3   \n",
       "3  138860.0  110.0   06/08/2005          0           1490         3   \n",
       "4  423943.0   50.0   10/11/2014          0            960         3   \n",
       "\n",
       "   SqFtGarageAttached  Condition  SqFtDeck  BathFullCount ZipCode  HeatSystem  \\\n",
       "0                 500          3         0              2   98002           5   \n",
       "1                 500          3         0              2   98002           5   \n",
       "2                 500          3         0              2   98002           5   \n",
       "3                 500          3         0              2   98002           5   \n",
       "4                 240          4         0              1   98092           4   \n",
       "\n",
       "   YrBuilt  \n",
       "0     1989  \n",
       "1     1989  \n",
       "2     1989  \n",
       "3     1989  \n",
       "4     1969  "
      ]
     },
     "execution_count": 522,
     "metadata": {},
     "output_type": "execute_result"
    }
   ],
   "source": [
    "sales_df2['Major'] = pd.to_numeric(sales_df2['Major'], errors='coerce')\n",
    "sales_df2['Minor'] = pd.to_numeric(sales_df2['Minor'], errors='coerce')\n",
    "resbldg_df3['Major'] = pd.to_numeric(resbldg_df3['Major'], errors='coerce')\n",
    "\n",
    "sales_data = pd.merge(sales_df2, resbldg_df3, on=['Major', 'Minor'])\n",
    "sales_data.head()"
   ]
  },
  {
   "cell_type": "code",
   "execution_count": 523,
   "metadata": {},
   "outputs": [
    {
     "name": "stdout",
     "output_type": "stream",
     "text": [
      "<class 'pandas.core.frame.DataFrame'>\n",
      "Int64Index: 1451791 entries, 0 to 1451790\n",
      "Data columns (total 13 columns):\n",
      "Major                 1451791 non-null float64\n",
      "Minor                 1451791 non-null float64\n",
      "DocumentDate          1451791 non-null object\n",
      "SalePrice             1451791 non-null int64\n",
      "SqFtTotLiving         1451791 non-null int64\n",
      "Bedrooms              1451791 non-null int64\n",
      "SqFtGarageAttached    1451791 non-null int64\n",
      "Condition             1451791 non-null int64\n",
      "SqFtDeck              1451791 non-null int64\n",
      "BathFullCount         1451791 non-null int64\n",
      "ZipCode               1333409 non-null object\n",
      "HeatSystem            1451791 non-null int64\n",
      "YrBuilt               1451791 non-null int64\n",
      "dtypes: float64(2), int64(9), object(2)\n",
      "memory usage: 155.1+ MB\n"
     ]
    }
   ],
   "source": [
    "sales_data.info()\n",
    "sales_data['date'] = sales_data['DocumentDate'].apply(pd.Timestamp)"
   ]
  },
  {
   "cell_type": "code",
   "execution_count": 524,
   "metadata": {},
   "outputs": [
    {
     "data": {
      "text/html": [
       "<div>\n",
       "<style scoped>\n",
       "    .dataframe tbody tr th:only-of-type {\n",
       "        vertical-align: middle;\n",
       "    }\n",
       "\n",
       "    .dataframe tbody tr th {\n",
       "        vertical-align: top;\n",
       "    }\n",
       "\n",
       "    .dataframe thead th {\n",
       "        text-align: right;\n",
       "    }\n",
       "</style>\n",
       "<table border=\"1\" class=\"dataframe\">\n",
       "  <thead>\n",
       "    <tr style=\"text-align: right;\">\n",
       "      <th></th>\n",
       "      <th>Major</th>\n",
       "      <th>Minor</th>\n",
       "      <th>DocumentDate</th>\n",
       "      <th>SalePrice</th>\n",
       "      <th>SqFtTotLiving</th>\n",
       "      <th>Bedrooms</th>\n",
       "      <th>SqFtGarageAttached</th>\n",
       "      <th>Condition</th>\n",
       "      <th>SqFtDeck</th>\n",
       "      <th>BathFullCount</th>\n",
       "      <th>ZipCode</th>\n",
       "      <th>HeatSystem</th>\n",
       "      <th>YrBuilt</th>\n",
       "      <th>date</th>\n",
       "    </tr>\n",
       "  </thead>\n",
       "  <tbody>\n",
       "    <tr>\n",
       "      <th>0</th>\n",
       "      <td>138860.0</td>\n",
       "      <td>110.0</td>\n",
       "      <td>08/21/2014</td>\n",
       "      <td>245000</td>\n",
       "      <td>1490</td>\n",
       "      <td>3</td>\n",
       "      <td>500</td>\n",
       "      <td>3</td>\n",
       "      <td>0</td>\n",
       "      <td>2</td>\n",
       "      <td>98002</td>\n",
       "      <td>5</td>\n",
       "      <td>1989</td>\n",
       "      <td>2014-08-21</td>\n",
       "    </tr>\n",
       "    <tr>\n",
       "      <th>1</th>\n",
       "      <td>138860.0</td>\n",
       "      <td>110.0</td>\n",
       "      <td>06/12/1989</td>\n",
       "      <td>109300</td>\n",
       "      <td>1490</td>\n",
       "      <td>3</td>\n",
       "      <td>500</td>\n",
       "      <td>3</td>\n",
       "      <td>0</td>\n",
       "      <td>2</td>\n",
       "      <td>98002</td>\n",
       "      <td>5</td>\n",
       "      <td>1989</td>\n",
       "      <td>1989-06-12</td>\n",
       "    </tr>\n",
       "    <tr>\n",
       "      <th>2</th>\n",
       "      <td>138860.0</td>\n",
       "      <td>110.0</td>\n",
       "      <td>01/16/2005</td>\n",
       "      <td>14684</td>\n",
       "      <td>1490</td>\n",
       "      <td>3</td>\n",
       "      <td>500</td>\n",
       "      <td>3</td>\n",
       "      <td>0</td>\n",
       "      <td>2</td>\n",
       "      <td>98002</td>\n",
       "      <td>5</td>\n",
       "      <td>1989</td>\n",
       "      <td>2005-01-16</td>\n",
       "    </tr>\n",
       "    <tr>\n",
       "      <th>3</th>\n",
       "      <td>138860.0</td>\n",
       "      <td>110.0</td>\n",
       "      <td>06/08/2005</td>\n",
       "      <td>0</td>\n",
       "      <td>1490</td>\n",
       "      <td>3</td>\n",
       "      <td>500</td>\n",
       "      <td>3</td>\n",
       "      <td>0</td>\n",
       "      <td>2</td>\n",
       "      <td>98002</td>\n",
       "      <td>5</td>\n",
       "      <td>1989</td>\n",
       "      <td>2005-06-08</td>\n",
       "    </tr>\n",
       "    <tr>\n",
       "      <th>4</th>\n",
       "      <td>423943.0</td>\n",
       "      <td>50.0</td>\n",
       "      <td>10/11/2014</td>\n",
       "      <td>0</td>\n",
       "      <td>960</td>\n",
       "      <td>3</td>\n",
       "      <td>240</td>\n",
       "      <td>4</td>\n",
       "      <td>0</td>\n",
       "      <td>1</td>\n",
       "      <td>98092</td>\n",
       "      <td>4</td>\n",
       "      <td>1969</td>\n",
       "      <td>2014-10-11</td>\n",
       "    </tr>\n",
       "  </tbody>\n",
       "</table>\n",
       "</div>"
      ],
      "text/plain": [
       "      Major  Minor DocumentDate  SalePrice  SqFtTotLiving  Bedrooms  \\\n",
       "0  138860.0  110.0   08/21/2014     245000           1490         3   \n",
       "1  138860.0  110.0   06/12/1989     109300           1490         3   \n",
       "2  138860.0  110.0   01/16/2005      14684           1490         3   \n",
       "3  138860.0  110.0   06/08/2005          0           1490         3   \n",
       "4  423943.0   50.0   10/11/2014          0            960         3   \n",
       "\n",
       "   SqFtGarageAttached  Condition  SqFtDeck  BathFullCount ZipCode  HeatSystem  \\\n",
       "0                 500          3         0              2   98002           5   \n",
       "1                 500          3         0              2   98002           5   \n",
       "2                 500          3         0              2   98002           5   \n",
       "3                 500          3         0              2   98002           5   \n",
       "4                 240          4         0              1   98092           4   \n",
       "\n",
       "   YrBuilt       date  \n",
       "0     1989 2014-08-21  \n",
       "1     1989 1989-06-12  \n",
       "2     1989 2005-01-16  \n",
       "3     1989 2005-06-08  \n",
       "4     1969 2014-10-11  "
      ]
     },
     "execution_count": 524,
     "metadata": {},
     "output_type": "execute_result"
    }
   ],
   "source": [
    "sales_data.head()"
   ]
  },
  {
   "cell_type": "code",
   "execution_count": 525,
   "metadata": {},
   "outputs": [
    {
     "data": {
      "text/plain": [
       "(1451791, 14)"
      ]
     },
     "execution_count": 525,
     "metadata": {},
     "output_type": "execute_result"
    }
   ],
   "source": [
    "sales_data.shape"
   ]
  },
  {
   "cell_type": "code",
   "execution_count": 526,
   "metadata": {},
   "outputs": [
    {
     "name": "stdout",
     "output_type": "stream",
     "text": [
      "                    Null Count\n",
      "Feature                       \n",
      "ZipCode                 118382\n",
      "date                         0\n",
      "YrBuilt                      0\n",
      "HeatSystem                   0\n",
      "BathFullCount                0\n",
      "SqFtDeck                     0\n",
      "Condition                    0\n",
      "SqFtGarageAttached           0\n",
      "Bedrooms                     0\n",
      "SqFtTotLiving                0\n",
      "SalePrice                    0\n",
      "DocumentDate                 0\n",
      "Minor                        0\n",
      "Major                        0\n"
     ]
    }
   ],
   "source": [
    "nulls = pd.DataFrame(sales_data.isnull().sum().sort_values(ascending=False))\n",
    "nulls.columns = ['Null Count']\n",
    "nulls.index.name = 'Feature'\n",
    "print(nulls)"
   ]
  },
  {
   "cell_type": "code",
   "execution_count": 527,
   "metadata": {},
   "outputs": [
    {
     "name": "stdout",
     "output_type": "stream",
     "text": [
      "                    0\n",
      "date                0\n",
      "YrBuilt             0\n",
      "HeatSystem          0\n",
      "ZipCode             0\n",
      "BathFullCount       0\n",
      "SqFtDeck            0\n",
      "Condition           0\n",
      "SqFtGarageAttached  0\n",
      "Bedrooms            0\n",
      "SqFtTotLiving       0\n",
      "SalePrice           0\n",
      "DocumentDate        0\n",
      "Minor               0\n",
      "Major               0\n"
     ]
    },
    {
     "data": {
      "text/plain": [
       "(1333409, 14)"
      ]
     },
     "execution_count": 527,
     "metadata": {},
     "output_type": "execute_result"
    }
   ],
   "source": [
    "sales_data1 = sales_data.dropna(subset = ['ZipCode'])\n",
    "nulls1 = pd.DataFrame(sales_data1.isnull().sum().sort_values(ascending=False))\n",
    "print(nulls1)\n",
    "\n",
    "sales_data1.shape"
   ]
  },
  {
   "cell_type": "code",
   "execution_count": 528,
   "metadata": {},
   "outputs": [],
   "source": [
    "import numpy as np\n",
    "lowest_10percent = np.percentile(sales_data['SalePrice'], 10)\n",
    "highest_90percent = np.percentile(sales_data['SalePrice'], 90)\n",
    "\n",
    "\n",
    "sales_data1 = sales_data[sales_data['SalePrice'] > lowest_10percent]\n",
    "sales_data2 = sales_data1[sales_data1['SalePrice'] < highest_90percent]   "
   ]
  },
  {
   "cell_type": "code",
   "execution_count": 529,
   "metadata": {},
   "outputs": [
    {
     "data": {
      "image/png": "[encoded data removed]",
      "text/plain": [
       "<Figure size 432x288 with 1 Axes>"
      ]
     },
     "metadata": {
      "needs_background": "light"
     },
     "output_type": "display_data"
    }
   ],
   "source": [
    "import matplotlib.pyplot as plt    #to see the dist\n",
    "%matplotlib inline\n",
    "\n",
    "plt.hist(sales_data2['SalePrice'], bins=30000)\n",
    "plt.show()\n",
    "\n",
    "# sales_data.loc[sales_data['SalePrice'] <= 20000].head(100)"
   ]
  },
  {
   "cell_type": "code",
   "execution_count": 530,
   "metadata": {},
   "outputs": [
    {
     "data": {
      "text/plain": [
       "(959055, 14)"
      ]
     },
     "execution_count": 530,
     "metadata": {},
     "output_type": "execute_result"
    }
   ],
   "source": [
    "sales_data = sales_data[sales_data['SalePrice'] > 0]\n",
    "sales_data['SalePrice'].min()\n",
    "sales_data.shape"
   ]
  },
  {
   "cell_type": "code",
   "execution_count": 531,
   "metadata": {},
   "outputs": [
    {
     "data": {
      "image/png": "[encoded data removed]",
      "text/plain": [
       "<Figure size 432x288 with 1 Axes>"
      ]
     },
     "metadata": {
      "needs_background": "light"
     },
     "output_type": "display_data"
    }
   ],
   "source": [
    "fig, ax = plt.subplots()\n",
    "ax.hist(np.log(sales_data[sales_data['SalePrice']> 0]['SalePrice']), bins=50);"
   ]
  },
  {
   "cell_type": "code",
   "execution_count": 532,
   "metadata": {},
   "outputs": [
    {
     "name": "stdout",
     "output_type": "stream",
     "text": [
      "12.576935949401365\n",
      "0.9681104914260303\n",
      "10.640714966549304\n",
      "14.513156932253427\n"
     ]
    }
   ],
   "source": [
    "sales_data['LogSalePrice']=np.log(sales_data['SalePrice'])\n",
    "sales_data.head().T\n",
    "print(sales_data['LogSalePrice'].mean())\n",
    "print(sales_data['LogSalePrice'].std())\n",
    "\n",
    "\n",
    "mean_minus_twostdv = sales_data['LogSalePrice'].mean() - sales_data['LogSalePrice'].std()*2\n",
    "mean_plus_twostdv = sales_data['LogSalePrice'].mean() + sales_data['LogSalePrice'].std()*2\n",
    "print(mean_minus_twostdv)\n",
    "print(mean_plus_twostdv)"
   ]
  },
  {
   "cell_type": "code",
   "execution_count": 533,
   "metadata": {},
   "outputs": [
    {
     "data": {
      "text/plain": [
       "count    919293.000000\n",
       "mean         12.577562\n",
       "std           0.727499\n",
       "min          10.640747\n",
       "25%          12.072541\n",
       "50%          12.584509\n",
       "75%          13.071070\n",
       "max          14.512650\n",
       "Name: LogSalePrice, dtype: float64"
      ]
     },
     "execution_count": 533,
     "metadata": {},
     "output_type": "execute_result"
    }
   ],
   "source": [
    "sales_data3 = sales_data[(sales_data['LogSalePrice'] < mean_plus_twostdv) & \n",
    "                         (mean_minus_twostdv < sales_data['LogSalePrice'])]\n",
    "sales_data3.head()\n",
    "sales_data3['LogSalePrice'].describe()"
   ]
  },
  {
   "cell_type": "code",
   "execution_count": 534,
   "metadata": {},
   "outputs": [
    {
     "data": {
      "text/plain": [
       "75880"
      ]
     },
     "execution_count": 534,
     "metadata": {},
     "output_type": "execute_result"
    }
   ],
   "source": [
    "sales_data3['ZipCode'].isna().sum()"
   ]
  },
  {
   "cell_type": "code",
   "execution_count": 535,
   "metadata": {},
   "outputs": [
    {
     "name": "stdout",
     "output_type": "stream",
     "text": [
      "                    0\n",
      "Major               0\n",
      "Minor               0\n",
      "DocumentDate        0\n",
      "SalePrice           0\n",
      "SqFtTotLiving       0\n",
      "Bedrooms            0\n",
      "SqFtGarageAttached  0\n",
      "Condition           0\n",
      "SqFtDeck            0\n",
      "BathFullCount       0\n",
      "ZipCode             0\n",
      "HeatSystem          0\n",
      "YrBuilt             0\n",
      "date                0\n",
      "LogSalePrice        0\n",
      "(843413, 15)\n"
     ]
    }
   ],
   "source": [
    "sales_data4 = sales_data3.dropna(subset = ['ZipCode'])\n",
    "nulls1 = pd.DataFrame(sales_data4.isnull().sum())\n",
    "print(nulls1)\n",
    "print(sales_data4.shape)"
   ]
  },
  {
   "cell_type": "code",
   "execution_count": 536,
   "metadata": {},
   "outputs": [
    {
     "data": {
      "text/plain": [
       "15064    98033-4917\n",
       "15065    98033-4917\n",
       "15066    98033-4917\n",
       "15067    98033-4917\n",
       "15068    98033-4917\n",
       "Name: ZipCode, dtype: object"
      ]
     },
     "execution_count": 536,
     "metadata": {},
     "output_type": "execute_result"
    }
   ],
   "source": [
    "def is_integer(x):\n",
    "   try:\n",
    "       _ = int(x)\n",
    "   except ValueError:\n",
    "       return False\n",
    "   return True\n",
    "\n",
    "stringed_zips = sales_data4.loc[sales_data4['ZipCode'].apply(is_integer) == False, 'ZipCode']\n",
    "stringed_zips.head()"
   ]
  },
  {
   "cell_type": "code",
   "execution_count": 537,
   "metadata": {},
   "outputs": [
    {
     "name": "stderr",
     "output_type": "stream",
     "text": [
      "/Users/flatironschool/anaconda3/envs/learn/lib/python3.7/site-packages/ipykernel_launcher.py:4: SettingWithCopyWarning: \n",
      "A value is trying to be set on a copy of a slice from a DataFrame.\n",
      "Try using .loc[row_indexer,col_indexer] = value instead\n",
      "\n",
      "See the caveats in the documentation: http://pandas.pydata.org/pandas-docs/stable/indexing.html#indexing-view-versus-copy\n",
      "  after removing the cwd from sys.path.\n"
     ]
    },
    {
     "data": {
      "text/plain": [
       "(843413, 16)"
      ]
     },
     "execution_count": 537,
     "metadata": {},
     "output_type": "execute_result"
    }
   ],
   "source": [
    "def zipcode_short(x):\n",
    "    return str(x)[:5]\n",
    "\n",
    "sales_data4['New_zip'] = sales_data4['ZipCode'].map(zipcode_short)\n",
    "sales_data4.head().T\n",
    "sales_data4.shape\n",
    "\n"
   ]
  },
  {
   "cell_type": "code",
   "execution_count": 538,
   "metadata": {},
   "outputs": [
    {
     "name": "stderr",
     "output_type": "stream",
     "text": [
      "/Users/flatironschool/anaconda3/envs/learn/lib/python3.7/site-packages/pandas/core/frame.py:3940: SettingWithCopyWarning: \n",
      "A value is trying to be set on a copy of a slice from a DataFrame\n",
      "\n",
      "See the caveats in the documentation: http://pandas.pydata.org/pandas-docs/stable/indexing.html#indexing-view-versus-copy\n",
      "  errors=errors)\n"
     ]
    },
    {
     "data": {
      "text/plain": [
       "Series([], Name: New_zip, dtype: object)"
      ]
     },
     "execution_count": 538,
     "metadata": {},
     "output_type": "execute_result"
    }
   ],
   "source": [
    "sales_data4.drop(sales_data4[ sales_data4['New_zip'] == \"WA\" ].index , inplace=True)\n",
    "sales_data4.drop(sales_data4[ sales_data4['New_zip'] == \" \" ].index , inplace=True)\n",
    "sales_data4.drop(sales_data4[ sales_data4['New_zip'] == \"B\" ].index , inplace=True)\n",
    "sales_data4.drop(sales_data4[ sales_data4['New_zip'] == \"A\" ].index , inplace=True)\n",
    "\n",
    "stringed_zips = sales_data4.loc[sales_data4['New_zip'].apply(is_integer) == False, 'New_zip']\n",
    "stringed_zips"
   ]
  },
  {
   "cell_type": "code",
   "execution_count": 539,
   "metadata": {},
   "outputs": [],
   "source": [
    "from sklearn.preprocessing import StandardScaler\n",
    "from sklearn.linear_model import LinearRegression\n",
    "from sklearn.model_selection import train_test_split\n",
    "import sklearn.metrics as metrics\n",
    "import seaborn as sns"
   ]
  },
  {
   "cell_type": "code",
   "execution_count": 540,
   "metadata": {},
   "outputs": [
    {
     "data": {
      "image/png": "[encoded data removed]",
      "text/plain": [
       "<Figure size 1080x720 with 2 Axes>"
      ]
     },
     "metadata": {
      "needs_background": "light"
     },
     "output_type": "display_data"
    }
   ],
   "source": [
    "def correlation_heatmap(df1):\n",
    "   _, ax = plt.subplots(figsize = (15, 10))\n",
    "   colormap= sns.diverging_palette(220, 10, as_cmap = True)\n",
    "   sns.heatmap(df1.corr(), annot=True, cmap = colormap)\n",
    "\n",
    "correlation_heatmap(sales_data4)"
   ]
  },
  {
   "cell_type": "code",
   "execution_count": 541,
   "metadata": {},
   "outputs": [
    {
     "name": "stderr",
     "output_type": "stream",
     "text": [
      "/Users/flatironschool/anaconda3/envs/learn/lib/python3.7/site-packages/ipykernel_launcher.py:1: SettingWithCopyWarning: \n",
      "A value is trying to be set on a copy of a slice from a DataFrame.\n",
      "Try using .loc[row_indexer,col_indexer] = value instead\n",
      "\n",
      "See the caveats in the documentation: http://pandas.pydata.org/pandas-docs/stable/indexing.html#indexing-view-versus-copy\n",
      "  \"\"\"Entry point for launching an IPython kernel.\n",
      "/Users/flatironschool/anaconda3/envs/learn/lib/python3.7/site-packages/ipykernel_launcher.py:2: SettingWithCopyWarning: \n",
      "A value is trying to be set on a copy of a slice from a DataFrame.\n",
      "Try using .loc[row_indexer,col_indexer] = value instead\n",
      "\n",
      "See the caveats in the documentation: http://pandas.pydata.org/pandas-docs/stable/indexing.html#indexing-view-versus-copy\n",
      "  \n"
     ]
    }
   ],
   "source": [
    "sales_data4['Major'] = sales_data4.Major.astype(int)\n",
    "sales_data4['Minor'] = sales_data4.Minor.astype(int)"
   ]
  },
  {
   "cell_type": "code",
   "execution_count": 542,
   "metadata": {},
   "outputs": [
    {
     "name": "stderr",
     "output_type": "stream",
     "text": [
      "/Users/flatironschool/anaconda3/envs/learn/lib/python3.7/site-packages/ipykernel_launcher.py:1: SettingWithCopyWarning: \n",
      "A value is trying to be set on a copy of a slice from a DataFrame.\n",
      "Try using .loc[row_indexer,col_indexer] = value instead\n",
      "\n",
      "See the caveats in the documentation: http://pandas.pydata.org/pandas-docs/stable/indexing.html#indexing-view-versus-copy\n",
      "  \"\"\"Entry point for launching an IPython kernel.\n"
     ]
    },
    {
     "data": {
      "text/plain": [
       "(843402, 17)"
      ]
     },
     "execution_count": 542,
     "metadata": {},
     "output_type": "execute_result"
    }
   ],
   "source": [
    "sales_data4['Pin'] = sales_data4.Major.astype(str) + sales_data4.Minor.astype(str)\n",
    "sales_data4.shape"
   ]
  },
  {
   "cell_type": "code",
   "execution_count": 627,
   "metadata": {},
   "outputs": [
    {
     "data": {
      "text/plain": [
       "(843402, 17)"
      ]
     },
     "execution_count": 627,
     "metadata": {},
     "output_type": "execute_result"
    }
   ],
   "source": [
    "sales_data4.nunique()\n",
    "sales_data4.shape"
   ]
  },
  {
   "cell_type": "code",
   "execution_count": 628,
   "metadata": {},
   "outputs": [
    {
     "data": {
      "text/plain": [
       "(839217, 17)"
      ]
     },
     "execution_count": 628,
     "metadata": {},
     "output_type": "execute_result"
    }
   ],
   "source": [
    "sales_data5 = sales_data4.drop_duplicates()\n",
    "sales_data5.shape"
   ]
  },
  {
   "cell_type": "code",
   "execution_count": 629,
   "metadata": {},
   "outputs": [],
   "source": [
    "sales_data5.columns\n",
    "sales_data6 = sales_data5[['LogSalePrice', 'SqFtTotLiving', 'Bedrooms', 'SqFtGarageAttached', 'SqFtDeck', \n",
    "                          'BathFullCount', 'YrBuilt', 'New_zip', 'Pin']].copy()"
   ]
  },
  {
   "cell_type": "code",
   "execution_count": 630,
   "metadata": {},
   "outputs": [
    {
     "data": {
      "text/html": [
       "<div>\n",
       "<style scoped>\n",
       "    .dataframe tbody tr th:only-of-type {\n",
       "        vertical-align: middle;\n",
       "    }\n",
       "\n",
       "    .dataframe tbody tr th {\n",
       "        vertical-align: top;\n",
       "    }\n",
       "\n",
       "    .dataframe thead th {\n",
       "        text-align: right;\n",
       "    }\n",
       "</style>\n",
       "<table border=\"1\" class=\"dataframe\">\n",
       "  <thead>\n",
       "    <tr style=\"text-align: right;\">\n",
       "      <th></th>\n",
       "      <th>LogSalePrice</th>\n",
       "      <th>SqFtTotLiving</th>\n",
       "      <th>Bedrooms</th>\n",
       "      <th>SqFtGarageAttached</th>\n",
       "      <th>SqFtDeck</th>\n",
       "      <th>BathFullCount</th>\n",
       "      <th>YrBuilt</th>\n",
       "      <th>New_zip</th>\n",
       "      <th>Pin</th>\n",
       "    </tr>\n",
       "  </thead>\n",
       "  <tbody>\n",
       "    <tr>\n",
       "      <th>0</th>\n",
       "      <td>12.409013</td>\n",
       "      <td>1490</td>\n",
       "      <td>3</td>\n",
       "      <td>500</td>\n",
       "      <td>0</td>\n",
       "      <td>2</td>\n",
       "      <td>1989</td>\n",
       "      <td>98002</td>\n",
       "      <td>138860110</td>\n",
       "    </tr>\n",
       "    <tr>\n",
       "      <th>1</th>\n",
       "      <td>11.601852</td>\n",
       "      <td>1490</td>\n",
       "      <td>3</td>\n",
       "      <td>500</td>\n",
       "      <td>0</td>\n",
       "      <td>2</td>\n",
       "      <td>1989</td>\n",
       "      <td>98002</td>\n",
       "      <td>138860110</td>\n",
       "    </tr>\n",
       "    <tr>\n",
       "      <th>6</th>\n",
       "      <td>11.472103</td>\n",
       "      <td>960</td>\n",
       "      <td>3</td>\n",
       "      <td>240</td>\n",
       "      <td>0</td>\n",
       "      <td>1</td>\n",
       "      <td>1969</td>\n",
       "      <td>98092</td>\n",
       "      <td>42394350</td>\n",
       "    </tr>\n",
       "    <tr>\n",
       "      <th>7</th>\n",
       "      <td>11.755872</td>\n",
       "      <td>960</td>\n",
       "      <td>3</td>\n",
       "      <td>240</td>\n",
       "      <td>0</td>\n",
       "      <td>1</td>\n",
       "      <td>1969</td>\n",
       "      <td>98092</td>\n",
       "      <td>42394350</td>\n",
       "    </tr>\n",
       "    <tr>\n",
       "      <th>11</th>\n",
       "      <td>13.048717</td>\n",
       "      <td>1780</td>\n",
       "      <td>4</td>\n",
       "      <td>520</td>\n",
       "      <td>0</td>\n",
       "      <td>1</td>\n",
       "      <td>1957</td>\n",
       "      <td>98008</td>\n",
       "      <td>403700715</td>\n",
       "    </tr>\n",
       "  </tbody>\n",
       "</table>\n",
       "</div>"
      ],
      "text/plain": [
       "    LogSalePrice  SqFtTotLiving  Bedrooms  SqFtGarageAttached  SqFtDeck  \\\n",
       "0      12.409013           1490         3                 500         0   \n",
       "1      11.601852           1490         3                 500         0   \n",
       "6      11.472103            960         3                 240         0   \n",
       "7      11.755872            960         3                 240         0   \n",
       "11     13.048717           1780         4                 520         0   \n",
       "\n",
       "    BathFullCount  YrBuilt New_zip        Pin  \n",
       "0               2     1989   98002  138860110  \n",
       "1               2     1989   98002  138860110  \n",
       "6               1     1969   98092   42394350  \n",
       "7               1     1969   98092   42394350  \n",
       "11              1     1957   98008  403700715  "
      ]
     },
     "execution_count": 630,
     "metadata": {},
     "output_type": "execute_result"
    }
   ],
   "source": [
    "sales_data6.head()"
   ]
  },
  {
   "cell_type": "code",
   "execution_count": 631,
   "metadata": {},
   "outputs": [
    {
     "data": {
      "image/png": "[encoded data removed]",
      "text/plain": [
       "<Figure size 1080x720 with 2 Axes>"
      ]
     },
     "metadata": {
      "needs_background": "light"
     },
     "output_type": "display_data"
    }
   ],
   "source": [
    "def correlation_heatmap(df1):\n",
    "   _, ax = plt.subplots(figsize = (15, 10))\n",
    "   colormap= sns.diverging_palette(220, 10, as_cmap = True)\n",
    "   sns.heatmap(df1.corr(), annot=True, cmap = colormap)\n",
    "\n",
    "correlation_heatmap(sales_data6)"
   ]
  },
  {
   "cell_type": "code",
   "execution_count": 548,
   "metadata": {},
   "outputs": [
    {
     "name": "stdout",
     "output_type": "stream",
     "text": [
      "R^2 is: 0.21443055017690182\n"
     ]
    }
   ],
   "source": [
    "print(\"R^2 is:\", model.score(X_test, y_test)) #Sqt_total vs Saleprice\n"
   ]
  },
  {
   "cell_type": "code",
   "execution_count": 632,
   "metadata": {},
   "outputs": [
    {
     "data": {
      "text/html": [
       "<div>\n",
       "<style scoped>\n",
       "    .dataframe tbody tr th:only-of-type {\n",
       "        vertical-align: middle;\n",
       "    }\n",
       "\n",
       "    .dataframe tbody tr th {\n",
       "        vertical-align: top;\n",
       "    }\n",
       "\n",
       "    .dataframe thead th {\n",
       "        text-align: right;\n",
       "    }\n",
       "</style>\n",
       "<table border=\"1\" class=\"dataframe\">\n",
       "  <thead>\n",
       "    <tr style=\"text-align: right;\">\n",
       "      <th></th>\n",
       "      <th>LogSalePrice</th>\n",
       "      <th>SqFtTotLiving</th>\n",
       "      <th>Bedrooms</th>\n",
       "      <th>SqFtGarageAttached</th>\n",
       "      <th>SqFtDeck</th>\n",
       "      <th>BathFullCount</th>\n",
       "      <th>YrBuilt</th>\n",
       "      <th>New_zip</th>\n",
       "      <th>Pin</th>\n",
       "    </tr>\n",
       "  </thead>\n",
       "  <tbody>\n",
       "    <tr>\n",
       "      <th>0</th>\n",
       "      <td>12.409013</td>\n",
       "      <td>1490</td>\n",
       "      <td>3</td>\n",
       "      <td>500</td>\n",
       "      <td>0</td>\n",
       "      <td>2</td>\n",
       "      <td>1989</td>\n",
       "      <td>98002</td>\n",
       "      <td>138860110</td>\n",
       "    </tr>\n",
       "    <tr>\n",
       "      <th>1</th>\n",
       "      <td>11.601852</td>\n",
       "      <td>1490</td>\n",
       "      <td>3</td>\n",
       "      <td>500</td>\n",
       "      <td>0</td>\n",
       "      <td>2</td>\n",
       "      <td>1989</td>\n",
       "      <td>98002</td>\n",
       "      <td>138860110</td>\n",
       "    </tr>\n",
       "    <tr>\n",
       "      <th>6</th>\n",
       "      <td>11.472103</td>\n",
       "      <td>960</td>\n",
       "      <td>3</td>\n",
       "      <td>240</td>\n",
       "      <td>0</td>\n",
       "      <td>1</td>\n",
       "      <td>1969</td>\n",
       "      <td>98092</td>\n",
       "      <td>42394350</td>\n",
       "    </tr>\n",
       "    <tr>\n",
       "      <th>7</th>\n",
       "      <td>11.755872</td>\n",
       "      <td>960</td>\n",
       "      <td>3</td>\n",
       "      <td>240</td>\n",
       "      <td>0</td>\n",
       "      <td>1</td>\n",
       "      <td>1969</td>\n",
       "      <td>98092</td>\n",
       "      <td>42394350</td>\n",
       "    </tr>\n",
       "    <tr>\n",
       "      <th>11</th>\n",
       "      <td>13.048717</td>\n",
       "      <td>1780</td>\n",
       "      <td>4</td>\n",
       "      <td>520</td>\n",
       "      <td>0</td>\n",
       "      <td>1</td>\n",
       "      <td>1957</td>\n",
       "      <td>98008</td>\n",
       "      <td>403700715</td>\n",
       "    </tr>\n",
       "  </tbody>\n",
       "</table>\n",
       "</div>"
      ],
      "text/plain": [
       "    LogSalePrice  SqFtTotLiving  Bedrooms  SqFtGarageAttached  SqFtDeck  \\\n",
       "0      12.409013           1490         3                 500         0   \n",
       "1      11.601852           1490         3                 500         0   \n",
       "6      11.472103            960         3                 240         0   \n",
       "7      11.755872            960         3                 240         0   \n",
       "11     13.048717           1780         4                 520         0   \n",
       "\n",
       "    BathFullCount  YrBuilt New_zip        Pin  \n",
       "0               2     1989   98002  138860110  \n",
       "1               2     1989   98002  138860110  \n",
       "6               1     1969   98092   42394350  \n",
       "7               1     1969   98092   42394350  \n",
       "11              1     1957   98008  403700715  "
      ]
     },
     "execution_count": 632,
     "metadata": {},
     "output_type": "execute_result"
    }
   ],
   "source": [
    "sales_data6.head()"
   ]
  },
  {
   "cell_type": "code",
   "execution_count": 633,
   "metadata": {},
   "outputs": [
    {
     "data": {
      "text/plain": [
       "(array([57.,  6.,  8., 17., 14.,  6.,  7.,  5.,  3.,  2.]),\n",
       " array([1.00000e+00, 2.66710e+03, 5.33320e+03, 7.99930e+03, 1.06654e+04,\n",
       "        1.33315e+04, 1.59976e+04, 1.86637e+04, 2.13298e+04, 2.39959e+04,\n",
       "        2.66620e+04]),\n",
       " <a list of 10 Patch objects>)"
      ]
     },
     "execution_count": 633,
     "metadata": {},
     "output_type": "execute_result"
    },
    {
     "data": {
      "image/png": "[encoded data removed]",
      "text/plain": [
       "<Figure size 432x288 with 1 Axes>"
      ]
     },
     "metadata": {
      "needs_background": "light"
     },
     "output_type": "display_data"
    }
   ],
   "source": [
    "plt.hist(sales_data6['New_zip'].value_counts())"
   ]
  },
  {
   "cell_type": "code",
   "execution_count": 636,
   "metadata": {},
   "outputs": [],
   "source": [
    "zipcode_counts = sales_data6['New_zip'].value_counts().to_dict()"
   ]
  },
  {
   "cell_type": "code",
   "execution_count": 637,
   "metadata": {},
   "outputs": [],
   "source": [
    "sales_data6['Zip_count'] = sales_data6['New_zip'].apply(lambda z: zipcode_counts[z])"
   ]
  },
  {
   "cell_type": "code",
   "execution_count": 640,
   "metadata": {},
   "outputs": [
    {
     "data": {
      "text/html": [
       "<div>\n",
       "<style scoped>\n",
       "    .dataframe tbody tr th:only-of-type {\n",
       "        vertical-align: middle;\n",
       "    }\n",
       "\n",
       "    .dataframe tbody tr th {\n",
       "        vertical-align: top;\n",
       "    }\n",
       "\n",
       "    .dataframe thead th {\n",
       "        text-align: right;\n",
       "    }\n",
       "</style>\n",
       "<table border=\"1\" class=\"dataframe\">\n",
       "  <thead>\n",
       "    <tr style=\"text-align: right;\">\n",
       "      <th></th>\n",
       "      <th>LogSalePrice</th>\n",
       "      <th>SqFtTotLiving</th>\n",
       "      <th>Bedrooms</th>\n",
       "      <th>SqFtGarageAttached</th>\n",
       "      <th>SqFtDeck</th>\n",
       "      <th>BathFullCount</th>\n",
       "      <th>YrBuilt</th>\n",
       "      <th>New_zip</th>\n",
       "      <th>Pin</th>\n",
       "      <th>Zip_count</th>\n",
       "    </tr>\n",
       "  </thead>\n",
       "  <tbody>\n",
       "    <tr>\n",
       "      <th>6</th>\n",
       "      <td>11.472103</td>\n",
       "      <td>960</td>\n",
       "      <td>3</td>\n",
       "      <td>240</td>\n",
       "      <td>0</td>\n",
       "      <td>1</td>\n",
       "      <td>1969</td>\n",
       "      <td>98092</td>\n",
       "      <td>42394350</td>\n",
       "      <td>15206</td>\n",
       "    </tr>\n",
       "    <tr>\n",
       "      <th>7</th>\n",
       "      <td>11.755872</td>\n",
       "      <td>960</td>\n",
       "      <td>3</td>\n",
       "      <td>240</td>\n",
       "      <td>0</td>\n",
       "      <td>1</td>\n",
       "      <td>1969</td>\n",
       "      <td>98092</td>\n",
       "      <td>42394350</td>\n",
       "      <td>15206</td>\n",
       "    </tr>\n",
       "    <tr>\n",
       "      <th>16</th>\n",
       "      <td>11.849040</td>\n",
       "      <td>2050</td>\n",
       "      <td>4</td>\n",
       "      <td>0</td>\n",
       "      <td>260</td>\n",
       "      <td>1</td>\n",
       "      <td>1967</td>\n",
       "      <td>98058</td>\n",
       "      <td>98400380</td>\n",
       "      <td>19996</td>\n",
       "    </tr>\n",
       "    <tr>\n",
       "      <th>17</th>\n",
       "      <td>12.993393</td>\n",
       "      <td>2050</td>\n",
       "      <td>4</td>\n",
       "      <td>0</td>\n",
       "      <td>260</td>\n",
       "      <td>1</td>\n",
       "      <td>1967</td>\n",
       "      <td>98058</td>\n",
       "      <td>98400380</td>\n",
       "      <td>19996</td>\n",
       "    </tr>\n",
       "    <tr>\n",
       "      <th>19</th>\n",
       "      <td>12.721886</td>\n",
       "      <td>2210</td>\n",
       "      <td>3</td>\n",
       "      <td>650</td>\n",
       "      <td>500</td>\n",
       "      <td>2</td>\n",
       "      <td>1994</td>\n",
       "      <td>98038</td>\n",
       "      <td>3303951610</td>\n",
       "      <td>21788</td>\n",
       "    </tr>\n",
       "  </tbody>\n",
       "</table>\n",
       "</div>"
      ],
      "text/plain": [
       "    LogSalePrice  SqFtTotLiving  Bedrooms  SqFtGarageAttached  SqFtDeck  \\\n",
       "6      11.472103            960         3                 240         0   \n",
       "7      11.755872            960         3                 240         0   \n",
       "16     11.849040           2050         4                   0       260   \n",
       "17     12.993393           2050         4                   0       260   \n",
       "19     12.721886           2210         3                 650       500   \n",
       "\n",
       "    BathFullCount  YrBuilt New_zip         Pin  Zip_count  \n",
       "6               1     1969   98092    42394350      15206  \n",
       "7               1     1969   98092    42394350      15206  \n",
       "16              1     1967   98058    98400380      19996  \n",
       "17              1     1967   98058    98400380      19996  \n",
       "19              2     1994   98038  3303951610      21788  "
      ]
     },
     "execution_count": 640,
     "metadata": {},
     "output_type": "execute_result"
    }
   ],
   "source": [
    "sales_data6_over_15k = sales_data6[sales_data6['Zip_count'] > 15000]\n",
    "sales_data6_over_15k.head()"
   ]
  },
  {
   "cell_type": "code",
   "execution_count": 649,
   "metadata": {},
   "outputs": [
    {
     "data": {
      "text/plain": [
       "New_zip\n",
       "98023    12.203355\n",
       "98001    12.212264\n",
       "98031    12.279791\n",
       "98118    12.296802\n",
       "98042    12.325804\n",
       "98133    12.360206\n",
       "98058    12.370415\n",
       "98155    12.376924\n",
       "98092    12.381462\n",
       "98056    12.467520\n",
       "98038    12.501267\n",
       "98034    12.542458\n",
       "98117    12.570815\n",
       "98059    12.610166\n",
       "98103    12.633340\n",
       "98115    12.644634\n",
       "98052    12.729893\n",
       "98033    12.823937\n",
       "98074    12.857212\n",
       "98006    12.887069\n",
       "Name: LogSalePrice, dtype: float64"
      ]
     },
     "execution_count": 649,
     "metadata": {},
     "output_type": "execute_result"
    }
   ],
   "source": [
    "Zip_by_price = sales_data6_over_15k.groupby('New_zip')['LogSalePrice'].mean().sort_values()\n",
    "Zip_by_price"
   ]
  },
  {
   "cell_type": "code",
   "execution_count": 650,
   "metadata": {},
   "outputs": [
    {
     "name": "stderr",
     "output_type": "stream",
     "text": [
      "/Users/flatironschool/anaconda3/envs/learn/lib/python3.7/site-packages/ipykernel_launcher.py:13: SettingWithCopyWarning: \n",
      "A value is trying to be set on a copy of a slice from a DataFrame.\n",
      "Try using .loc[row_indexer,col_indexer] = value instead\n",
      "\n",
      "See the caveats in the documentation: http://pandas.pydata.org/pandas-docs/stable/indexing.html#indexing-view-versus-copy\n",
      "  del sys.path[0]\n"
     ]
    }
   ],
   "source": [
    "zcodes = list(Zip_by_price.index)\n",
    "for zc in zcodes:\n",
    "    sales_data6_over_15k[zc] = (sales_data6_over_15k['New_zip'] == zc).astype(int)"
   ]
  },
  {
   "cell_type": "code",
   "execution_count": 664,
   "metadata": {},
   "outputs": [
    {
     "data": {
      "text/html": [
       "<div>\n",
       "<style scoped>\n",
       "    .dataframe tbody tr th:only-of-type {\n",
       "        vertical-align: middle;\n",
       "    }\n",
       "\n",
       "    .dataframe tbody tr th {\n",
       "        vertical-align: top;\n",
       "    }\n",
       "\n",
       "    .dataframe thead th {\n",
       "        text-align: right;\n",
       "    }\n",
       "</style>\n",
       "<table border=\"1\" class=\"dataframe\">\n",
       "  <thead>\n",
       "    <tr style=\"text-align: right;\">\n",
       "      <th></th>\n",
       "      <th>LogSalePrice</th>\n",
       "      <th>SqFtTotLiving</th>\n",
       "      <th>Bedrooms</th>\n",
       "      <th>SqFtGarageAttached</th>\n",
       "      <th>SqFtDeck</th>\n",
       "      <th>BathFullCount</th>\n",
       "      <th>YrBuilt</th>\n",
       "      <th>New_zip</th>\n",
       "      <th>Pin</th>\n",
       "      <th>Zip_count</th>\n",
       "      <th>...</th>\n",
       "      <th>98038</th>\n",
       "      <th>98034</th>\n",
       "      <th>98117</th>\n",
       "      <th>98059</th>\n",
       "      <th>98103</th>\n",
       "      <th>98115</th>\n",
       "      <th>98052</th>\n",
       "      <th>98033</th>\n",
       "      <th>98074</th>\n",
       "      <th>98006</th>\n",
       "    </tr>\n",
       "  </thead>\n",
       "  <tbody>\n",
       "    <tr>\n",
       "      <th>107</th>\n",
       "      <td>12.400817</td>\n",
       "      <td>1550</td>\n",
       "      <td>3</td>\n",
       "      <td>360</td>\n",
       "      <td>310</td>\n",
       "      <td>1</td>\n",
       "      <td>1955</td>\n",
       "      <td>98006</td>\n",
       "      <td>556610245</td>\n",
       "      <td>20522</td>\n",
       "      <td>...</td>\n",
       "      <td>0</td>\n",
       "      <td>0</td>\n",
       "      <td>0</td>\n",
       "      <td>0</td>\n",
       "      <td>0</td>\n",
       "      <td>0</td>\n",
       "      <td>0</td>\n",
       "      <td>0</td>\n",
       "      <td>0</td>\n",
       "      <td>1</td>\n",
       "    </tr>\n",
       "    <tr>\n",
       "      <th>109</th>\n",
       "      <td>12.138864</td>\n",
       "      <td>1550</td>\n",
       "      <td>3</td>\n",
       "      <td>360</td>\n",
       "      <td>310</td>\n",
       "      <td>1</td>\n",
       "      <td>1955</td>\n",
       "      <td>98006</td>\n",
       "      <td>556610245</td>\n",
       "      <td>20522</td>\n",
       "      <td>...</td>\n",
       "      <td>0</td>\n",
       "      <td>0</td>\n",
       "      <td>0</td>\n",
       "      <td>0</td>\n",
       "      <td>0</td>\n",
       "      <td>0</td>\n",
       "      <td>0</td>\n",
       "      <td>0</td>\n",
       "      <td>0</td>\n",
       "      <td>1</td>\n",
       "    </tr>\n",
       "    <tr>\n",
       "      <th>252</th>\n",
       "      <td>12.691580</td>\n",
       "      <td>2250</td>\n",
       "      <td>4</td>\n",
       "      <td>550</td>\n",
       "      <td>0</td>\n",
       "      <td>1</td>\n",
       "      <td>1972</td>\n",
       "      <td>98006</td>\n",
       "      <td>934690280</td>\n",
       "      <td>20522</td>\n",
       "      <td>...</td>\n",
       "      <td>0</td>\n",
       "      <td>0</td>\n",
       "      <td>0</td>\n",
       "      <td>0</td>\n",
       "      <td>0</td>\n",
       "      <td>0</td>\n",
       "      <td>0</td>\n",
       "      <td>0</td>\n",
       "      <td>0</td>\n",
       "      <td>1</td>\n",
       "    </tr>\n",
       "    <tr>\n",
       "      <th>253</th>\n",
       "      <td>12.660328</td>\n",
       "      <td>2250</td>\n",
       "      <td>4</td>\n",
       "      <td>550</td>\n",
       "      <td>0</td>\n",
       "      <td>1</td>\n",
       "      <td>1972</td>\n",
       "      <td>98006</td>\n",
       "      <td>934690280</td>\n",
       "      <td>20522</td>\n",
       "      <td>...</td>\n",
       "      <td>0</td>\n",
       "      <td>0</td>\n",
       "      <td>0</td>\n",
       "      <td>0</td>\n",
       "      <td>0</td>\n",
       "      <td>0</td>\n",
       "      <td>0</td>\n",
       "      <td>0</td>\n",
       "      <td>0</td>\n",
       "      <td>1</td>\n",
       "    </tr>\n",
       "    <tr>\n",
       "      <th>255</th>\n",
       "      <td>13.811503</td>\n",
       "      <td>2250</td>\n",
       "      <td>4</td>\n",
       "      <td>550</td>\n",
       "      <td>0</td>\n",
       "      <td>1</td>\n",
       "      <td>1972</td>\n",
       "      <td>98006</td>\n",
       "      <td>934690280</td>\n",
       "      <td>20522</td>\n",
       "      <td>...</td>\n",
       "      <td>0</td>\n",
       "      <td>0</td>\n",
       "      <td>0</td>\n",
       "      <td>0</td>\n",
       "      <td>0</td>\n",
       "      <td>0</td>\n",
       "      <td>0</td>\n",
       "      <td>0</td>\n",
       "      <td>0</td>\n",
       "      <td>1</td>\n",
       "    </tr>\n",
       "    <tr>\n",
       "      <th>256</th>\n",
       "      <td>13.132314</td>\n",
       "      <td>2250</td>\n",
       "      <td>4</td>\n",
       "      <td>550</td>\n",
       "      <td>0</td>\n",
       "      <td>1</td>\n",
       "      <td>1972</td>\n",
       "      <td>98006</td>\n",
       "      <td>934690280</td>\n",
       "      <td>20522</td>\n",
       "      <td>...</td>\n",
       "      <td>0</td>\n",
       "      <td>0</td>\n",
       "      <td>0</td>\n",
       "      <td>0</td>\n",
       "      <td>0</td>\n",
       "      <td>0</td>\n",
       "      <td>0</td>\n",
       "      <td>0</td>\n",
       "      <td>0</td>\n",
       "      <td>1</td>\n",
       "    </tr>\n",
       "    <tr>\n",
       "      <th>732</th>\n",
       "      <td>12.433208</td>\n",
       "      <td>1880</td>\n",
       "      <td>4</td>\n",
       "      <td>480</td>\n",
       "      <td>0</td>\n",
       "      <td>1</td>\n",
       "      <td>1962</td>\n",
       "      <td>98006</td>\n",
       "      <td>60718090</td>\n",
       "      <td>20522</td>\n",
       "      <td>...</td>\n",
       "      <td>0</td>\n",
       "      <td>0</td>\n",
       "      <td>0</td>\n",
       "      <td>0</td>\n",
       "      <td>0</td>\n",
       "      <td>0</td>\n",
       "      <td>0</td>\n",
       "      <td>0</td>\n",
       "      <td>0</td>\n",
       "      <td>1</td>\n",
       "    </tr>\n",
       "    <tr>\n",
       "      <th>733</th>\n",
       "      <td>12.240474</td>\n",
       "      <td>1880</td>\n",
       "      <td>4</td>\n",
       "      <td>480</td>\n",
       "      <td>0</td>\n",
       "      <td>1</td>\n",
       "      <td>1962</td>\n",
       "      <td>98006</td>\n",
       "      <td>60718090</td>\n",
       "      <td>20522</td>\n",
       "      <td>...</td>\n",
       "      <td>0</td>\n",
       "      <td>0</td>\n",
       "      <td>0</td>\n",
       "      <td>0</td>\n",
       "      <td>0</td>\n",
       "      <td>0</td>\n",
       "      <td>0</td>\n",
       "      <td>0</td>\n",
       "      <td>0</td>\n",
       "      <td>1</td>\n",
       "    </tr>\n",
       "    <tr>\n",
       "      <th>734</th>\n",
       "      <td>12.433208</td>\n",
       "      <td>1880</td>\n",
       "      <td>4</td>\n",
       "      <td>480</td>\n",
       "      <td>0</td>\n",
       "      <td>1</td>\n",
       "      <td>1962</td>\n",
       "      <td>98006</td>\n",
       "      <td>60718090</td>\n",
       "      <td>20522</td>\n",
       "      <td>...</td>\n",
       "      <td>0</td>\n",
       "      <td>0</td>\n",
       "      <td>0</td>\n",
       "      <td>0</td>\n",
       "      <td>0</td>\n",
       "      <td>0</td>\n",
       "      <td>0</td>\n",
       "      <td>0</td>\n",
       "      <td>0</td>\n",
       "      <td>1</td>\n",
       "    </tr>\n",
       "    <tr>\n",
       "      <th>735</th>\n",
       "      <td>11.954401</td>\n",
       "      <td>1880</td>\n",
       "      <td>4</td>\n",
       "      <td>480</td>\n",
       "      <td>0</td>\n",
       "      <td>1</td>\n",
       "      <td>1962</td>\n",
       "      <td>98006</td>\n",
       "      <td>60718090</td>\n",
       "      <td>20522</td>\n",
       "      <td>...</td>\n",
       "      <td>0</td>\n",
       "      <td>0</td>\n",
       "      <td>0</td>\n",
       "      <td>0</td>\n",
       "      <td>0</td>\n",
       "      <td>0</td>\n",
       "      <td>0</td>\n",
       "      <td>0</td>\n",
       "      <td>0</td>\n",
       "      <td>1</td>\n",
       "    </tr>\n",
       "    <tr>\n",
       "      <th>826</th>\n",
       "      <td>12.628067</td>\n",
       "      <td>3100</td>\n",
       "      <td>4</td>\n",
       "      <td>420</td>\n",
       "      <td>350</td>\n",
       "      <td>2</td>\n",
       "      <td>1979</td>\n",
       "      <td>98006</td>\n",
       "      <td>260001300</td>\n",
       "      <td>20522</td>\n",
       "      <td>...</td>\n",
       "      <td>0</td>\n",
       "      <td>0</td>\n",
       "      <td>0</td>\n",
       "      <td>0</td>\n",
       "      <td>0</td>\n",
       "      <td>0</td>\n",
       "      <td>0</td>\n",
       "      <td>0</td>\n",
       "      <td>0</td>\n",
       "      <td>1</td>\n",
       "    </tr>\n",
       "    <tr>\n",
       "      <th>827</th>\n",
       "      <td>14.003649</td>\n",
       "      <td>3100</td>\n",
       "      <td>4</td>\n",
       "      <td>420</td>\n",
       "      <td>350</td>\n",
       "      <td>2</td>\n",
       "      <td>1979</td>\n",
       "      <td>98006</td>\n",
       "      <td>260001300</td>\n",
       "      <td>20522</td>\n",
       "      <td>...</td>\n",
       "      <td>0</td>\n",
       "      <td>0</td>\n",
       "      <td>0</td>\n",
       "      <td>0</td>\n",
       "      <td>0</td>\n",
       "      <td>0</td>\n",
       "      <td>0</td>\n",
       "      <td>0</td>\n",
       "      <td>0</td>\n",
       "      <td>1</td>\n",
       "    </tr>\n",
       "    <tr>\n",
       "      <th>863</th>\n",
       "      <td>13.234799</td>\n",
       "      <td>2740</td>\n",
       "      <td>4</td>\n",
       "      <td>0</td>\n",
       "      <td>100</td>\n",
       "      <td>2</td>\n",
       "      <td>1966</td>\n",
       "      <td>98006</td>\n",
       "      <td>38640060</td>\n",
       "      <td>20522</td>\n",
       "      <td>...</td>\n",
       "      <td>0</td>\n",
       "      <td>0</td>\n",
       "      <td>0</td>\n",
       "      <td>0</td>\n",
       "      <td>0</td>\n",
       "      <td>0</td>\n",
       "      <td>0</td>\n",
       "      <td>0</td>\n",
       "      <td>0</td>\n",
       "      <td>1</td>\n",
       "    </tr>\n",
       "    <tr>\n",
       "      <th>864</th>\n",
       "      <td>12.520883</td>\n",
       "      <td>2740</td>\n",
       "      <td>4</td>\n",
       "      <td>0</td>\n",
       "      <td>100</td>\n",
       "      <td>2</td>\n",
       "      <td>1966</td>\n",
       "      <td>98006</td>\n",
       "      <td>38640060</td>\n",
       "      <td>20522</td>\n",
       "      <td>...</td>\n",
       "      <td>0</td>\n",
       "      <td>0</td>\n",
       "      <td>0</td>\n",
       "      <td>0</td>\n",
       "      <td>0</td>\n",
       "      <td>0</td>\n",
       "      <td>0</td>\n",
       "      <td>0</td>\n",
       "      <td>0</td>\n",
       "      <td>1</td>\n",
       "    </tr>\n",
       "    <tr>\n",
       "      <th>1500</th>\n",
       "      <td>11.711776</td>\n",
       "      <td>3480</td>\n",
       "      <td>4</td>\n",
       "      <td>870</td>\n",
       "      <td>870</td>\n",
       "      <td>2</td>\n",
       "      <td>1995</td>\n",
       "      <td>98006</td>\n",
       "      <td>413942460</td>\n",
       "      <td>20522</td>\n",
       "      <td>...</td>\n",
       "      <td>0</td>\n",
       "      <td>0</td>\n",
       "      <td>0</td>\n",
       "      <td>0</td>\n",
       "      <td>0</td>\n",
       "      <td>0</td>\n",
       "      <td>0</td>\n",
       "      <td>0</td>\n",
       "      <td>0</td>\n",
       "      <td>1</td>\n",
       "    </tr>\n",
       "    <tr>\n",
       "      <th>1501</th>\n",
       "      <td>14.304091</td>\n",
       "      <td>3480</td>\n",
       "      <td>4</td>\n",
       "      <td>870</td>\n",
       "      <td>870</td>\n",
       "      <td>2</td>\n",
       "      <td>1995</td>\n",
       "      <td>98006</td>\n",
       "      <td>413942460</td>\n",
       "      <td>20522</td>\n",
       "      <td>...</td>\n",
       "      <td>0</td>\n",
       "      <td>0</td>\n",
       "      <td>0</td>\n",
       "      <td>0</td>\n",
       "      <td>0</td>\n",
       "      <td>0</td>\n",
       "      <td>0</td>\n",
       "      <td>0</td>\n",
       "      <td>0</td>\n",
       "      <td>1</td>\n",
       "    </tr>\n",
       "    <tr>\n",
       "      <th>1502</th>\n",
       "      <td>13.195614</td>\n",
       "      <td>3480</td>\n",
       "      <td>4</td>\n",
       "      <td>870</td>\n",
       "      <td>870</td>\n",
       "      <td>2</td>\n",
       "      <td>1995</td>\n",
       "      <td>98006</td>\n",
       "      <td>413942460</td>\n",
       "      <td>20522</td>\n",
       "      <td>...</td>\n",
       "      <td>0</td>\n",
       "      <td>0</td>\n",
       "      <td>0</td>\n",
       "      <td>0</td>\n",
       "      <td>0</td>\n",
       "      <td>0</td>\n",
       "      <td>0</td>\n",
       "      <td>0</td>\n",
       "      <td>0</td>\n",
       "      <td>1</td>\n",
       "    </tr>\n",
       "    <tr>\n",
       "      <th>1612</th>\n",
       "      <td>12.889169</td>\n",
       "      <td>1970</td>\n",
       "      <td>2</td>\n",
       "      <td>460</td>\n",
       "      <td>170</td>\n",
       "      <td>2</td>\n",
       "      <td>1985</td>\n",
       "      <td>98006</td>\n",
       "      <td>259221210</td>\n",
       "      <td>20522</td>\n",
       "      <td>...</td>\n",
       "      <td>0</td>\n",
       "      <td>0</td>\n",
       "      <td>0</td>\n",
       "      <td>0</td>\n",
       "      <td>0</td>\n",
       "      <td>0</td>\n",
       "      <td>0</td>\n",
       "      <td>0</td>\n",
       "      <td>0</td>\n",
       "      <td>1</td>\n",
       "    </tr>\n",
       "    <tr>\n",
       "      <th>1613</th>\n",
       "      <td>13.190022</td>\n",
       "      <td>1970</td>\n",
       "      <td>2</td>\n",
       "      <td>460</td>\n",
       "      <td>170</td>\n",
       "      <td>2</td>\n",
       "      <td>1985</td>\n",
       "      <td>98006</td>\n",
       "      <td>259221210</td>\n",
       "      <td>20522</td>\n",
       "      <td>...</td>\n",
       "      <td>0</td>\n",
       "      <td>0</td>\n",
       "      <td>0</td>\n",
       "      <td>0</td>\n",
       "      <td>0</td>\n",
       "      <td>0</td>\n",
       "      <td>0</td>\n",
       "      <td>0</td>\n",
       "      <td>0</td>\n",
       "      <td>1</td>\n",
       "    </tr>\n",
       "    <tr>\n",
       "      <th>1614</th>\n",
       "      <td>12.345835</td>\n",
       "      <td>1970</td>\n",
       "      <td>2</td>\n",
       "      <td>460</td>\n",
       "      <td>170</td>\n",
       "      <td>2</td>\n",
       "      <td>1985</td>\n",
       "      <td>98006</td>\n",
       "      <td>259221210</td>\n",
       "      <td>20522</td>\n",
       "      <td>...</td>\n",
       "      <td>0</td>\n",
       "      <td>0</td>\n",
       "      <td>0</td>\n",
       "      <td>0</td>\n",
       "      <td>0</td>\n",
       "      <td>0</td>\n",
       "      <td>0</td>\n",
       "      <td>0</td>\n",
       "      <td>0</td>\n",
       "      <td>1</td>\n",
       "    </tr>\n",
       "    <tr>\n",
       "      <th>1615</th>\n",
       "      <td>12.345835</td>\n",
       "      <td>1970</td>\n",
       "      <td>2</td>\n",
       "      <td>460</td>\n",
       "      <td>170</td>\n",
       "      <td>2</td>\n",
       "      <td>1985</td>\n",
       "      <td>98006</td>\n",
       "      <td>259221210</td>\n",
       "      <td>20522</td>\n",
       "      <td>...</td>\n",
       "      <td>0</td>\n",
       "      <td>0</td>\n",
       "      <td>0</td>\n",
       "      <td>0</td>\n",
       "      <td>0</td>\n",
       "      <td>0</td>\n",
       "      <td>0</td>\n",
       "      <td>0</td>\n",
       "      <td>0</td>\n",
       "      <td>1</td>\n",
       "    </tr>\n",
       "    <tr>\n",
       "      <th>2010</th>\n",
       "      <td>11.274034</td>\n",
       "      <td>3570</td>\n",
       "      <td>3</td>\n",
       "      <td>620</td>\n",
       "      <td>0</td>\n",
       "      <td>2</td>\n",
       "      <td>2007</td>\n",
       "      <td>98006</td>\n",
       "      <td>1624059216</td>\n",
       "      <td>20522</td>\n",
       "      <td>...</td>\n",
       "      <td>0</td>\n",
       "      <td>0</td>\n",
       "      <td>0</td>\n",
       "      <td>0</td>\n",
       "      <td>0</td>\n",
       "      <td>0</td>\n",
       "      <td>0</td>\n",
       "      <td>0</td>\n",
       "      <td>0</td>\n",
       "      <td>1</td>\n",
       "    </tr>\n",
       "    <tr>\n",
       "      <th>2011</th>\n",
       "      <td>13.820497</td>\n",
       "      <td>3570</td>\n",
       "      <td>3</td>\n",
       "      <td>620</td>\n",
       "      <td>0</td>\n",
       "      <td>2</td>\n",
       "      <td>2007</td>\n",
       "      <td>98006</td>\n",
       "      <td>1624059216</td>\n",
       "      <td>20522</td>\n",
       "      <td>...</td>\n",
       "      <td>0</td>\n",
       "      <td>0</td>\n",
       "      <td>0</td>\n",
       "      <td>0</td>\n",
       "      <td>0</td>\n",
       "      <td>0</td>\n",
       "      <td>0</td>\n",
       "      <td>0</td>\n",
       "      <td>0</td>\n",
       "      <td>1</td>\n",
       "    </tr>\n",
       "    <tr>\n",
       "      <th>2012</th>\n",
       "      <td>13.122363</td>\n",
       "      <td>3570</td>\n",
       "      <td>3</td>\n",
       "      <td>620</td>\n",
       "      <td>0</td>\n",
       "      <td>2</td>\n",
       "      <td>2007</td>\n",
       "      <td>98006</td>\n",
       "      <td>1624059216</td>\n",
       "      <td>20522</td>\n",
       "      <td>...</td>\n",
       "      <td>0</td>\n",
       "      <td>0</td>\n",
       "      <td>0</td>\n",
       "      <td>0</td>\n",
       "      <td>0</td>\n",
       "      <td>0</td>\n",
       "      <td>0</td>\n",
       "      <td>0</td>\n",
       "      <td>0</td>\n",
       "      <td>1</td>\n",
       "    </tr>\n",
       "    <tr>\n",
       "      <th>2173</th>\n",
       "      <td>12.317167</td>\n",
       "      <td>2580</td>\n",
       "      <td>4</td>\n",
       "      <td>900</td>\n",
       "      <td>0</td>\n",
       "      <td>1</td>\n",
       "      <td>1987</td>\n",
       "      <td>98006</td>\n",
       "      <td>260013420</td>\n",
       "      <td>20522</td>\n",
       "      <td>...</td>\n",
       "      <td>0</td>\n",
       "      <td>0</td>\n",
       "      <td>0</td>\n",
       "      <td>0</td>\n",
       "      <td>0</td>\n",
       "      <td>0</td>\n",
       "      <td>0</td>\n",
       "      <td>0</td>\n",
       "      <td>0</td>\n",
       "      <td>1</td>\n",
       "    </tr>\n",
       "    <tr>\n",
       "      <th>2175</th>\n",
       "      <td>12.660328</td>\n",
       "      <td>2580</td>\n",
       "      <td>4</td>\n",
       "      <td>900</td>\n",
       "      <td>0</td>\n",
       "      <td>1</td>\n",
       "      <td>1987</td>\n",
       "      <td>98006</td>\n",
       "      <td>260013420</td>\n",
       "      <td>20522</td>\n",
       "      <td>...</td>\n",
       "      <td>0</td>\n",
       "      <td>0</td>\n",
       "      <td>0</td>\n",
       "      <td>0</td>\n",
       "      <td>0</td>\n",
       "      <td>0</td>\n",
       "      <td>0</td>\n",
       "      <td>0</td>\n",
       "      <td>0</td>\n",
       "      <td>1</td>\n",
       "    </tr>\n",
       "    <tr>\n",
       "      <th>2176</th>\n",
       "      <td>13.246349</td>\n",
       "      <td>2580</td>\n",
       "      <td>4</td>\n",
       "      <td>900</td>\n",
       "      <td>0</td>\n",
       "      <td>1</td>\n",
       "      <td>1987</td>\n",
       "      <td>98006</td>\n",
       "      <td>260013420</td>\n",
       "      <td>20522</td>\n",
       "      <td>...</td>\n",
       "      <td>0</td>\n",
       "      <td>0</td>\n",
       "      <td>0</td>\n",
       "      <td>0</td>\n",
       "      <td>0</td>\n",
       "      <td>0</td>\n",
       "      <td>0</td>\n",
       "      <td>0</td>\n",
       "      <td>0</td>\n",
       "      <td>1</td>\n",
       "    </tr>\n",
       "    <tr>\n",
       "      <th>2639</th>\n",
       "      <td>12.154516</td>\n",
       "      <td>2520</td>\n",
       "      <td>4</td>\n",
       "      <td>480</td>\n",
       "      <td>0</td>\n",
       "      <td>1</td>\n",
       "      <td>1960</td>\n",
       "      <td>98006</td>\n",
       "      <td>607130720</td>\n",
       "      <td>20522</td>\n",
       "      <td>...</td>\n",
       "      <td>0</td>\n",
       "      <td>0</td>\n",
       "      <td>0</td>\n",
       "      <td>0</td>\n",
       "      <td>0</td>\n",
       "      <td>0</td>\n",
       "      <td>0</td>\n",
       "      <td>0</td>\n",
       "      <td>0</td>\n",
       "      <td>1</td>\n",
       "    </tr>\n",
       "    <tr>\n",
       "      <th>2640</th>\n",
       "      <td>12.778181</td>\n",
       "      <td>2520</td>\n",
       "      <td>4</td>\n",
       "      <td>480</td>\n",
       "      <td>0</td>\n",
       "      <td>1</td>\n",
       "      <td>1960</td>\n",
       "      <td>98006</td>\n",
       "      <td>607130720</td>\n",
       "      <td>20522</td>\n",
       "      <td>...</td>\n",
       "      <td>0</td>\n",
       "      <td>0</td>\n",
       "      <td>0</td>\n",
       "      <td>0</td>\n",
       "      <td>0</td>\n",
       "      <td>0</td>\n",
       "      <td>0</td>\n",
       "      <td>0</td>\n",
       "      <td>0</td>\n",
       "      <td>1</td>\n",
       "    </tr>\n",
       "    <tr>\n",
       "      <th>2641</th>\n",
       "      <td>13.081437</td>\n",
       "      <td>2520</td>\n",
       "      <td>4</td>\n",
       "      <td>480</td>\n",
       "      <td>0</td>\n",
       "      <td>1</td>\n",
       "      <td>1960</td>\n",
       "      <td>98006</td>\n",
       "      <td>607130720</td>\n",
       "      <td>20522</td>\n",
       "      <td>...</td>\n",
       "      <td>0</td>\n",
       "      <td>0</td>\n",
       "      <td>0</td>\n",
       "      <td>0</td>\n",
       "      <td>0</td>\n",
       "      <td>0</td>\n",
       "      <td>0</td>\n",
       "      <td>0</td>\n",
       "      <td>0</td>\n",
       "      <td>1</td>\n",
       "    </tr>\n",
       "    <tr>\n",
       "      <th>...</th>\n",
       "      <td>...</td>\n",
       "      <td>...</td>\n",
       "      <td>...</td>\n",
       "      <td>...</td>\n",
       "      <td>...</td>\n",
       "      <td>...</td>\n",
       "      <td>...</td>\n",
       "      <td>...</td>\n",
       "      <td>...</td>\n",
       "      <td>...</td>\n",
       "      <td>...</td>\n",
       "      <td>...</td>\n",
       "      <td>...</td>\n",
       "      <td>...</td>\n",
       "      <td>...</td>\n",
       "      <td>...</td>\n",
       "      <td>...</td>\n",
       "      <td>...</td>\n",
       "      <td>...</td>\n",
       "      <td>...</td>\n",
       "      <td>...</td>\n",
       "    </tr>\n",
       "    <tr>\n",
       "      <th>1450000</th>\n",
       "      <td>13.592367</td>\n",
       "      <td>2970</td>\n",
       "      <td>4</td>\n",
       "      <td>480</td>\n",
       "      <td>410</td>\n",
       "      <td>2</td>\n",
       "      <td>1981</td>\n",
       "      <td>98006</td>\n",
       "      <td>93236030</td>\n",
       "      <td>20522</td>\n",
       "      <td>...</td>\n",
       "      <td>0</td>\n",
       "      <td>0</td>\n",
       "      <td>0</td>\n",
       "      <td>0</td>\n",
       "      <td>0</td>\n",
       "      <td>0</td>\n",
       "      <td>0</td>\n",
       "      <td>0</td>\n",
       "      <td>0</td>\n",
       "      <td>1</td>\n",
       "    </tr>\n",
       "    <tr>\n",
       "      <th>1450011</th>\n",
       "      <td>11.407565</td>\n",
       "      <td>2300</td>\n",
       "      <td>4</td>\n",
       "      <td>240</td>\n",
       "      <td>140</td>\n",
       "      <td>1</td>\n",
       "      <td>1977</td>\n",
       "      <td>98006</td>\n",
       "      <td>606790390</td>\n",
       "      <td>20522</td>\n",
       "      <td>...</td>\n",
       "      <td>0</td>\n",
       "      <td>0</td>\n",
       "      <td>0</td>\n",
       "      <td>0</td>\n",
       "      <td>0</td>\n",
       "      <td>0</td>\n",
       "      <td>0</td>\n",
       "      <td>0</td>\n",
       "      <td>0</td>\n",
       "      <td>1</td>\n",
       "    </tr>\n",
       "    <tr>\n",
       "      <th>1450043</th>\n",
       "      <td>13.312984</td>\n",
       "      <td>3340</td>\n",
       "      <td>4</td>\n",
       "      <td>600</td>\n",
       "      <td>420</td>\n",
       "      <td>3</td>\n",
       "      <td>1958</td>\n",
       "      <td>98006</td>\n",
       "      <td>346030150</td>\n",
       "      <td>20522</td>\n",
       "      <td>...</td>\n",
       "      <td>0</td>\n",
       "      <td>0</td>\n",
       "      <td>0</td>\n",
       "      <td>0</td>\n",
       "      <td>0</td>\n",
       "      <td>0</td>\n",
       "      <td>0</td>\n",
       "      <td>0</td>\n",
       "      <td>0</td>\n",
       "      <td>1</td>\n",
       "    </tr>\n",
       "    <tr>\n",
       "      <th>1450079</th>\n",
       "      <td>11.976659</td>\n",
       "      <td>1640</td>\n",
       "      <td>3</td>\n",
       "      <td>300</td>\n",
       "      <td>140</td>\n",
       "      <td>1</td>\n",
       "      <td>1980</td>\n",
       "      <td>98006</td>\n",
       "      <td>3343301597</td>\n",
       "      <td>20522</td>\n",
       "      <td>...</td>\n",
       "      <td>0</td>\n",
       "      <td>0</td>\n",
       "      <td>0</td>\n",
       "      <td>0</td>\n",
       "      <td>0</td>\n",
       "      <td>0</td>\n",
       "      <td>0</td>\n",
       "      <td>0</td>\n",
       "      <td>0</td>\n",
       "      <td>1</td>\n",
       "    </tr>\n",
       "    <tr>\n",
       "      <th>1450087</th>\n",
       "      <td>10.712193</td>\n",
       "      <td>1540</td>\n",
       "      <td>4</td>\n",
       "      <td>0</td>\n",
       "      <td>0</td>\n",
       "      <td>1</td>\n",
       "      <td>1954</td>\n",
       "      <td>98006</td>\n",
       "      <td>220050320</td>\n",
       "      <td>20522</td>\n",
       "      <td>...</td>\n",
       "      <td>0</td>\n",
       "      <td>0</td>\n",
       "      <td>0</td>\n",
       "      <td>0</td>\n",
       "      <td>0</td>\n",
       "      <td>0</td>\n",
       "      <td>0</td>\n",
       "      <td>0</td>\n",
       "      <td>0</td>\n",
       "      <td>1</td>\n",
       "    </tr>\n",
       "    <tr>\n",
       "      <th>1450120</th>\n",
       "      <td>11.429544</td>\n",
       "      <td>2900</td>\n",
       "      <td>3</td>\n",
       "      <td>690</td>\n",
       "      <td>0</td>\n",
       "      <td>2</td>\n",
       "      <td>1995</td>\n",
       "      <td>98006</td>\n",
       "      <td>413945430</td>\n",
       "      <td>20522</td>\n",
       "      <td>...</td>\n",
       "      <td>0</td>\n",
       "      <td>0</td>\n",
       "      <td>0</td>\n",
       "      <td>0</td>\n",
       "      <td>0</td>\n",
       "      <td>0</td>\n",
       "      <td>0</td>\n",
       "      <td>0</td>\n",
       "      <td>0</td>\n",
       "      <td>1</td>\n",
       "    </tr>\n",
       "    <tr>\n",
       "      <th>1450232</th>\n",
       "      <td>13.527828</td>\n",
       "      <td>1670</td>\n",
       "      <td>3</td>\n",
       "      <td>220</td>\n",
       "      <td>0</td>\n",
       "      <td>1</td>\n",
       "      <td>1975</td>\n",
       "      <td>98006</td>\n",
       "      <td>195180760</td>\n",
       "      <td>20522</td>\n",
       "      <td>...</td>\n",
       "      <td>0</td>\n",
       "      <td>0</td>\n",
       "      <td>0</td>\n",
       "      <td>0</td>\n",
       "      <td>0</td>\n",
       "      <td>0</td>\n",
       "      <td>0</td>\n",
       "      <td>0</td>\n",
       "      <td>0</td>\n",
       "      <td>1</td>\n",
       "    </tr>\n",
       "    <tr>\n",
       "      <th>1450239</th>\n",
       "      <td>12.524526</td>\n",
       "      <td>3820</td>\n",
       "      <td>4</td>\n",
       "      <td>740</td>\n",
       "      <td>330</td>\n",
       "      <td>2</td>\n",
       "      <td>1985</td>\n",
       "      <td>98006</td>\n",
       "      <td>896552140</td>\n",
       "      <td>20522</td>\n",
       "      <td>...</td>\n",
       "      <td>0</td>\n",
       "      <td>0</td>\n",
       "      <td>0</td>\n",
       "      <td>0</td>\n",
       "      <td>0</td>\n",
       "      <td>0</td>\n",
       "      <td>0</td>\n",
       "      <td>0</td>\n",
       "      <td>0</td>\n",
       "      <td>1</td>\n",
       "    </tr>\n",
       "    <tr>\n",
       "      <th>1450280</th>\n",
       "      <td>11.728037</td>\n",
       "      <td>2240</td>\n",
       "      <td>3</td>\n",
       "      <td>0</td>\n",
       "      <td>150</td>\n",
       "      <td>1</td>\n",
       "      <td>1982</td>\n",
       "      <td>98006</td>\n",
       "      <td>2592201720</td>\n",
       "      <td>20522</td>\n",
       "      <td>...</td>\n",
       "      <td>0</td>\n",
       "      <td>0</td>\n",
       "      <td>0</td>\n",
       "      <td>0</td>\n",
       "      <td>0</td>\n",
       "      <td>0</td>\n",
       "      <td>0</td>\n",
       "      <td>0</td>\n",
       "      <td>0</td>\n",
       "      <td>1</td>\n",
       "    </tr>\n",
       "    <tr>\n",
       "      <th>1450376</th>\n",
       "      <td>10.976782</td>\n",
       "      <td>2660</td>\n",
       "      <td>3</td>\n",
       "      <td>770</td>\n",
       "      <td>1100</td>\n",
       "      <td>2</td>\n",
       "      <td>1987</td>\n",
       "      <td>98006</td>\n",
       "      <td>780546660</td>\n",
       "      <td>20522</td>\n",
       "      <td>...</td>\n",
       "      <td>0</td>\n",
       "      <td>0</td>\n",
       "      <td>0</td>\n",
       "      <td>0</td>\n",
       "      <td>0</td>\n",
       "      <td>0</td>\n",
       "      <td>0</td>\n",
       "      <td>0</td>\n",
       "      <td>0</td>\n",
       "      <td>1</td>\n",
       "    </tr>\n",
       "    <tr>\n",
       "      <th>1450415</th>\n",
       "      <td>11.813030</td>\n",
       "      <td>3240</td>\n",
       "      <td>3</td>\n",
       "      <td>770</td>\n",
       "      <td>450</td>\n",
       "      <td>1</td>\n",
       "      <td>1961</td>\n",
       "      <td>98006</td>\n",
       "      <td>785560780</td>\n",
       "      <td>20522</td>\n",
       "      <td>...</td>\n",
       "      <td>0</td>\n",
       "      <td>0</td>\n",
       "      <td>0</td>\n",
       "      <td>0</td>\n",
       "      <td>0</td>\n",
       "      <td>0</td>\n",
       "      <td>0</td>\n",
       "      <td>0</td>\n",
       "      <td>0</td>\n",
       "      <td>1</td>\n",
       "    </tr>\n",
       "    <tr>\n",
       "      <th>1450553</th>\n",
       "      <td>12.806282</td>\n",
       "      <td>2270</td>\n",
       "      <td>4</td>\n",
       "      <td>550</td>\n",
       "      <td>190</td>\n",
       "      <td>2</td>\n",
       "      <td>1987</td>\n",
       "      <td>98006</td>\n",
       "      <td>259222160</td>\n",
       "      <td>20522</td>\n",
       "      <td>...</td>\n",
       "      <td>0</td>\n",
       "      <td>0</td>\n",
       "      <td>0</td>\n",
       "      <td>0</td>\n",
       "      <td>0</td>\n",
       "      <td>0</td>\n",
       "      <td>0</td>\n",
       "      <td>0</td>\n",
       "      <td>0</td>\n",
       "      <td>1</td>\n",
       "    </tr>\n",
       "    <tr>\n",
       "      <th>1450570</th>\n",
       "      <td>11.665647</td>\n",
       "      <td>1420</td>\n",
       "      <td>2</td>\n",
       "      <td>460</td>\n",
       "      <td>0</td>\n",
       "      <td>2</td>\n",
       "      <td>1986</td>\n",
       "      <td>98006</td>\n",
       "      <td>670511150</td>\n",
       "      <td>20522</td>\n",
       "      <td>...</td>\n",
       "      <td>0</td>\n",
       "      <td>0</td>\n",
       "      <td>0</td>\n",
       "      <td>0</td>\n",
       "      <td>0</td>\n",
       "      <td>0</td>\n",
       "      <td>0</td>\n",
       "      <td>0</td>\n",
       "      <td>0</td>\n",
       "      <td>1</td>\n",
       "    </tr>\n",
       "    <tr>\n",
       "      <th>1450574</th>\n",
       "      <td>12.873902</td>\n",
       "      <td>3040</td>\n",
       "      <td>5</td>\n",
       "      <td>500</td>\n",
       "      <td>490</td>\n",
       "      <td>2</td>\n",
       "      <td>1976</td>\n",
       "      <td>98006</td>\n",
       "      <td>785661360</td>\n",
       "      <td>20522</td>\n",
       "      <td>...</td>\n",
       "      <td>0</td>\n",
       "      <td>0</td>\n",
       "      <td>0</td>\n",
       "      <td>0</td>\n",
       "      <td>0</td>\n",
       "      <td>0</td>\n",
       "      <td>0</td>\n",
       "      <td>0</td>\n",
       "      <td>0</td>\n",
       "      <td>1</td>\n",
       "    </tr>\n",
       "    <tr>\n",
       "      <th>1450637</th>\n",
       "      <td>12.100712</td>\n",
       "      <td>2860</td>\n",
       "      <td>4</td>\n",
       "      <td>0</td>\n",
       "      <td>410</td>\n",
       "      <td>1</td>\n",
       "      <td>1962</td>\n",
       "      <td>98006</td>\n",
       "      <td>607190290</td>\n",
       "      <td>20522</td>\n",
       "      <td>...</td>\n",
       "      <td>0</td>\n",
       "      <td>0</td>\n",
       "      <td>0</td>\n",
       "      <td>0</td>\n",
       "      <td>0</td>\n",
       "      <td>0</td>\n",
       "      <td>0</td>\n",
       "      <td>0</td>\n",
       "      <td>0</td>\n",
       "      <td>1</td>\n",
       "    </tr>\n",
       "    <tr>\n",
       "      <th>1450696</th>\n",
       "      <td>13.361380</td>\n",
       "      <td>2960</td>\n",
       "      <td>4</td>\n",
       "      <td>0</td>\n",
       "      <td>140</td>\n",
       "      <td>2</td>\n",
       "      <td>1972</td>\n",
       "      <td>98006</td>\n",
       "      <td>856280440</td>\n",
       "      <td>20522</td>\n",
       "      <td>...</td>\n",
       "      <td>0</td>\n",
       "      <td>0</td>\n",
       "      <td>0</td>\n",
       "      <td>0</td>\n",
       "      <td>0</td>\n",
       "      <td>0</td>\n",
       "      <td>0</td>\n",
       "      <td>0</td>\n",
       "      <td>0</td>\n",
       "      <td>1</td>\n",
       "    </tr>\n",
       "    <tr>\n",
       "      <th>1450775</th>\n",
       "      <td>12.019743</td>\n",
       "      <td>1770</td>\n",
       "      <td>3</td>\n",
       "      <td>130</td>\n",
       "      <td>280</td>\n",
       "      <td>1</td>\n",
       "      <td>1969</td>\n",
       "      <td>98006</td>\n",
       "      <td>386410140</td>\n",
       "      <td>20522</td>\n",
       "      <td>...</td>\n",
       "      <td>0</td>\n",
       "      <td>0</td>\n",
       "      <td>0</td>\n",
       "      <td>0</td>\n",
       "      <td>0</td>\n",
       "      <td>0</td>\n",
       "      <td>0</td>\n",
       "      <td>0</td>\n",
       "      <td>0</td>\n",
       "      <td>1</td>\n",
       "    </tr>\n",
       "    <tr>\n",
       "      <th>1450780</th>\n",
       "      <td>11.350407</td>\n",
       "      <td>1640</td>\n",
       "      <td>3</td>\n",
       "      <td>760</td>\n",
       "      <td>0</td>\n",
       "      <td>1</td>\n",
       "      <td>1954</td>\n",
       "      <td>98006</td>\n",
       "      <td>220050400</td>\n",
       "      <td>20522</td>\n",
       "      <td>...</td>\n",
       "      <td>0</td>\n",
       "      <td>0</td>\n",
       "      <td>0</td>\n",
       "      <td>0</td>\n",
       "      <td>0</td>\n",
       "      <td>0</td>\n",
       "      <td>0</td>\n",
       "      <td>0</td>\n",
       "      <td>0</td>\n",
       "      <td>1</td>\n",
       "    </tr>\n",
       "    <tr>\n",
       "      <th>1450853</th>\n",
       "      <td>11.648330</td>\n",
       "      <td>2700</td>\n",
       "      <td>4</td>\n",
       "      <td>550</td>\n",
       "      <td>150</td>\n",
       "      <td>1</td>\n",
       "      <td>1961</td>\n",
       "      <td>98006</td>\n",
       "      <td>56037085</td>\n",
       "      <td>20522</td>\n",
       "      <td>...</td>\n",
       "      <td>0</td>\n",
       "      <td>0</td>\n",
       "      <td>0</td>\n",
       "      <td>0</td>\n",
       "      <td>0</td>\n",
       "      <td>0</td>\n",
       "      <td>0</td>\n",
       "      <td>0</td>\n",
       "      <td>0</td>\n",
       "      <td>1</td>\n",
       "    </tr>\n",
       "    <tr>\n",
       "      <th>1450873</th>\n",
       "      <td>11.429544</td>\n",
       "      <td>1720</td>\n",
       "      <td>3</td>\n",
       "      <td>460</td>\n",
       "      <td>0</td>\n",
       "      <td>1</td>\n",
       "      <td>1967</td>\n",
       "      <td>98006</td>\n",
       "      <td>785670360</td>\n",
       "      <td>20522</td>\n",
       "      <td>...</td>\n",
       "      <td>0</td>\n",
       "      <td>0</td>\n",
       "      <td>0</td>\n",
       "      <td>0</td>\n",
       "      <td>0</td>\n",
       "      <td>0</td>\n",
       "      <td>0</td>\n",
       "      <td>0</td>\n",
       "      <td>0</td>\n",
       "      <td>1</td>\n",
       "    </tr>\n",
       "    <tr>\n",
       "      <th>1451090</th>\n",
       "      <td>12.736671</td>\n",
       "      <td>3230</td>\n",
       "      <td>4</td>\n",
       "      <td>550</td>\n",
       "      <td>0</td>\n",
       "      <td>2</td>\n",
       "      <td>1992</td>\n",
       "      <td>98006</td>\n",
       "      <td>259753400</td>\n",
       "      <td>20522</td>\n",
       "      <td>...</td>\n",
       "      <td>0</td>\n",
       "      <td>0</td>\n",
       "      <td>0</td>\n",
       "      <td>0</td>\n",
       "      <td>0</td>\n",
       "      <td>0</td>\n",
       "      <td>0</td>\n",
       "      <td>0</td>\n",
       "      <td>0</td>\n",
       "      <td>1</td>\n",
       "    </tr>\n",
       "    <tr>\n",
       "      <th>1451191</th>\n",
       "      <td>13.416524</td>\n",
       "      <td>4980</td>\n",
       "      <td>4</td>\n",
       "      <td>750</td>\n",
       "      <td>520</td>\n",
       "      <td>3</td>\n",
       "      <td>1991</td>\n",
       "      <td>98006</td>\n",
       "      <td>808102240</td>\n",
       "      <td>20522</td>\n",
       "      <td>...</td>\n",
       "      <td>0</td>\n",
       "      <td>0</td>\n",
       "      <td>0</td>\n",
       "      <td>0</td>\n",
       "      <td>0</td>\n",
       "      <td>0</td>\n",
       "      <td>0</td>\n",
       "      <td>0</td>\n",
       "      <td>0</td>\n",
       "      <td>1</td>\n",
       "    </tr>\n",
       "    <tr>\n",
       "      <th>1451241</th>\n",
       "      <td>14.070153</td>\n",
       "      <td>3580</td>\n",
       "      <td>4</td>\n",
       "      <td>530</td>\n",
       "      <td>520</td>\n",
       "      <td>1</td>\n",
       "      <td>1976</td>\n",
       "      <td>98006</td>\n",
       "      <td>7855801680</td>\n",
       "      <td>20522</td>\n",
       "      <td>...</td>\n",
       "      <td>0</td>\n",
       "      <td>0</td>\n",
       "      <td>0</td>\n",
       "      <td>0</td>\n",
       "      <td>0</td>\n",
       "      <td>0</td>\n",
       "      <td>0</td>\n",
       "      <td>0</td>\n",
       "      <td>0</td>\n",
       "      <td>1</td>\n",
       "    </tr>\n",
       "    <tr>\n",
       "      <th>1451408</th>\n",
       "      <td>13.045482</td>\n",
       "      <td>3300</td>\n",
       "      <td>4</td>\n",
       "      <td>820</td>\n",
       "      <td>490</td>\n",
       "      <td>2</td>\n",
       "      <td>1985</td>\n",
       "      <td>98006</td>\n",
       "      <td>780545940</td>\n",
       "      <td>20522</td>\n",
       "      <td>...</td>\n",
       "      <td>0</td>\n",
       "      <td>0</td>\n",
       "      <td>0</td>\n",
       "      <td>0</td>\n",
       "      <td>0</td>\n",
       "      <td>0</td>\n",
       "      <td>0</td>\n",
       "      <td>0</td>\n",
       "      <td>0</td>\n",
       "      <td>1</td>\n",
       "    </tr>\n",
       "    <tr>\n",
       "      <th>1451465</th>\n",
       "      <td>13.008074</td>\n",
       "      <td>2580</td>\n",
       "      <td>3</td>\n",
       "      <td>530</td>\n",
       "      <td>390</td>\n",
       "      <td>1</td>\n",
       "      <td>1977</td>\n",
       "      <td>98006</td>\n",
       "      <td>260000370</td>\n",
       "      <td>20522</td>\n",
       "      <td>...</td>\n",
       "      <td>0</td>\n",
       "      <td>0</td>\n",
       "      <td>0</td>\n",
       "      <td>0</td>\n",
       "      <td>0</td>\n",
       "      <td>0</td>\n",
       "      <td>0</td>\n",
       "      <td>0</td>\n",
       "      <td>0</td>\n",
       "      <td>1</td>\n",
       "    </tr>\n",
       "    <tr>\n",
       "      <th>1451574</th>\n",
       "      <td>11.608236</td>\n",
       "      <td>2210</td>\n",
       "      <td>5</td>\n",
       "      <td>0</td>\n",
       "      <td>620</td>\n",
       "      <td>1</td>\n",
       "      <td>1974</td>\n",
       "      <td>98006</td>\n",
       "      <td>11155070</td>\n",
       "      <td>20522</td>\n",
       "      <td>...</td>\n",
       "      <td>0</td>\n",
       "      <td>0</td>\n",
       "      <td>0</td>\n",
       "      <td>0</td>\n",
       "      <td>0</td>\n",
       "      <td>0</td>\n",
       "      <td>0</td>\n",
       "      <td>0</td>\n",
       "      <td>0</td>\n",
       "      <td>1</td>\n",
       "    </tr>\n",
       "    <tr>\n",
       "      <th>1451612</th>\n",
       "      <td>12.821258</td>\n",
       "      <td>1490</td>\n",
       "      <td>3</td>\n",
       "      <td>0</td>\n",
       "      <td>160</td>\n",
       "      <td>1</td>\n",
       "      <td>1966</td>\n",
       "      <td>98006</td>\n",
       "      <td>22050015</td>\n",
       "      <td>20522</td>\n",
       "      <td>...</td>\n",
       "      <td>0</td>\n",
       "      <td>0</td>\n",
       "      <td>0</td>\n",
       "      <td>0</td>\n",
       "      <td>0</td>\n",
       "      <td>0</td>\n",
       "      <td>0</td>\n",
       "      <td>0</td>\n",
       "      <td>0</td>\n",
       "      <td>1</td>\n",
       "    </tr>\n",
       "    <tr>\n",
       "      <th>1451629</th>\n",
       "      <td>12.611538</td>\n",
       "      <td>1790</td>\n",
       "      <td>4</td>\n",
       "      <td>0</td>\n",
       "      <td>250</td>\n",
       "      <td>1</td>\n",
       "      <td>1958</td>\n",
       "      <td>98006</td>\n",
       "      <td>22070040</td>\n",
       "      <td>20522</td>\n",
       "      <td>...</td>\n",
       "      <td>0</td>\n",
       "      <td>0</td>\n",
       "      <td>0</td>\n",
       "      <td>0</td>\n",
       "      <td>0</td>\n",
       "      <td>0</td>\n",
       "      <td>0</td>\n",
       "      <td>0</td>\n",
       "      <td>0</td>\n",
       "      <td>1</td>\n",
       "    </tr>\n",
       "    <tr>\n",
       "      <th>1451698</th>\n",
       "      <td>12.524526</td>\n",
       "      <td>1850</td>\n",
       "      <td>3</td>\n",
       "      <td>230</td>\n",
       "      <td>280</td>\n",
       "      <td>1</td>\n",
       "      <td>1977</td>\n",
       "      <td>98006</td>\n",
       "      <td>214133370</td>\n",
       "      <td>20522</td>\n",
       "      <td>...</td>\n",
       "      <td>0</td>\n",
       "      <td>0</td>\n",
       "      <td>0</td>\n",
       "      <td>0</td>\n",
       "      <td>0</td>\n",
       "      <td>0</td>\n",
       "      <td>0</td>\n",
       "      <td>0</td>\n",
       "      <td>0</td>\n",
       "      <td>1</td>\n",
       "    </tr>\n",
       "    <tr>\n",
       "      <th>1451706</th>\n",
       "      <td>13.407542</td>\n",
       "      <td>3790</td>\n",
       "      <td>5</td>\n",
       "      <td>530</td>\n",
       "      <td>400</td>\n",
       "      <td>2</td>\n",
       "      <td>1960</td>\n",
       "      <td>98006</td>\n",
       "      <td>785500450</td>\n",
       "      <td>20522</td>\n",
       "      <td>...</td>\n",
       "      <td>0</td>\n",
       "      <td>0</td>\n",
       "      <td>0</td>\n",
       "      <td>0</td>\n",
       "      <td>0</td>\n",
       "      <td>0</td>\n",
       "      <td>0</td>\n",
       "      <td>0</td>\n",
       "      <td>0</td>\n",
       "      <td>1</td>\n",
       "    </tr>\n",
       "  </tbody>\n",
       "</table>\n",
       "<p>20522 rows × 30 columns</p>\n",
       "</div>"
      ],
      "text/plain": [
       "         LogSalePrice  SqFtTotLiving  Bedrooms  SqFtGarageAttached  SqFtDeck  \\\n",
       "107         12.400817           1550         3                 360       310   \n",
       "109         12.138864           1550         3                 360       310   \n",
       "252         12.691580           2250         4                 550         0   \n",
       "253         12.660328           2250         4                 550         0   \n",
       "255         13.811503           2250         4                 550         0   \n",
       "256         13.132314           2250         4                 550         0   \n",
       "732         12.433208           1880         4                 480         0   \n",
       "733         12.240474           1880         4                 480         0   \n",
       "734         12.433208           1880         4                 480         0   \n",
       "735         11.954401           1880         4                 480         0   \n",
       "826         12.628067           3100         4                 420       350   \n",
       "827         14.003649           3100         4                 420       350   \n",
       "863         13.234799           2740         4                   0       100   \n",
       "864         12.520883           2740         4                   0       100   \n",
       "1500        11.711776           3480         4                 870       870   \n",
       "1501        14.304091           3480         4                 870       870   \n",
       "1502        13.195614           3480         4                 870       870   \n",
       "1612        12.889169           1970         2                 460       170   \n",
       "1613        13.190022           1970         2                 460       170   \n",
       "1614        12.345835           1970         2                 460       170   \n",
       "1615        12.345835           1970         2                 460       170   \n",
       "2010        11.274034           3570         3                 620         0   \n",
       "2011        13.820497           3570         3                 620         0   \n",
       "2012        13.122363           3570         3                 620         0   \n",
       "2173        12.317167           2580         4                 900         0   \n",
       "2175        12.660328           2580         4                 900         0   \n",
       "2176        13.246349           2580         4                 900         0   \n",
       "2639        12.154516           2520         4                 480         0   \n",
       "2640        12.778181           2520         4                 480         0   \n",
       "2641        13.081437           2520         4                 480         0   \n",
       "...               ...            ...       ...                 ...       ...   \n",
       "1450000     13.592367           2970         4                 480       410   \n",
       "1450011     11.407565           2300         4                 240       140   \n",
       "1450043     13.312984           3340         4                 600       420   \n",
       "1450079     11.976659           1640         3                 300       140   \n",
       "1450087     10.712193           1540         4                   0         0   \n",
       "1450120     11.429544           2900         3                 690         0   \n",
       "1450232     13.527828           1670         3                 220         0   \n",
       "1450239     12.524526           3820         4                 740       330   \n",
       "1450280     11.728037           2240         3                   0       150   \n",
       "1450376     10.976782           2660         3                 770      1100   \n",
       "1450415     11.813030           3240         3                 770       450   \n",
       "1450553     12.806282           2270         4                 550       190   \n",
       "1450570     11.665647           1420         2                 460         0   \n",
       "1450574     12.873902           3040         5                 500       490   \n",
       "1450637     12.100712           2860         4                   0       410   \n",
       "1450696     13.361380           2960         4                   0       140   \n",
       "1450775     12.019743           1770         3                 130       280   \n",
       "1450780     11.350407           1640         3                 760         0   \n",
       "1450853     11.648330           2700         4                 550       150   \n",
       "1450873     11.429544           1720         3                 460         0   \n",
       "1451090     12.736671           3230         4                 550         0   \n",
       "1451191     13.416524           4980         4                 750       520   \n",
       "1451241     14.070153           3580         4                 530       520   \n",
       "1451408     13.045482           3300         4                 820       490   \n",
       "1451465     13.008074           2580         3                 530       390   \n",
       "1451574     11.608236           2210         5                   0       620   \n",
       "1451612     12.821258           1490         3                   0       160   \n",
       "1451629     12.611538           1790         4                   0       250   \n",
       "1451698     12.524526           1850         3                 230       280   \n",
       "1451706     13.407542           3790         5                 530       400   \n",
       "\n",
       "         BathFullCount  YrBuilt New_zip         Pin  Zip_count  ...  98038  \\\n",
       "107                  1     1955   98006   556610245      20522  ...      0   \n",
       "109                  1     1955   98006   556610245      20522  ...      0   \n",
       "252                  1     1972   98006   934690280      20522  ...      0   \n",
       "253                  1     1972   98006   934690280      20522  ...      0   \n",
       "255                  1     1972   98006   934690280      20522  ...      0   \n",
       "256                  1     1972   98006   934690280      20522  ...      0   \n",
       "732                  1     1962   98006    60718090      20522  ...      0   \n",
       "733                  1     1962   98006    60718090      20522  ...      0   \n",
       "734                  1     1962   98006    60718090      20522  ...      0   \n",
       "735                  1     1962   98006    60718090      20522  ...      0   \n",
       "826                  2     1979   98006   260001300      20522  ...      0   \n",
       "827                  2     1979   98006   260001300      20522  ...      0   \n",
       "863                  2     1966   98006    38640060      20522  ...      0   \n",
       "864                  2     1966   98006    38640060      20522  ...      0   \n",
       "1500                 2     1995   98006   413942460      20522  ...      0   \n",
       "1501                 2     1995   98006   413942460      20522  ...      0   \n",
       "1502                 2     1995   98006   413942460      20522  ...      0   \n",
       "1612                 2     1985   98006   259221210      20522  ...      0   \n",
       "1613                 2     1985   98006   259221210      20522  ...      0   \n",
       "1614                 2     1985   98006   259221210      20522  ...      0   \n",
       "1615                 2     1985   98006   259221210      20522  ...      0   \n",
       "2010                 2     2007   98006  1624059216      20522  ...      0   \n",
       "2011                 2     2007   98006  1624059216      20522  ...      0   \n",
       "2012                 2     2007   98006  1624059216      20522  ...      0   \n",
       "2173                 1     1987   98006   260013420      20522  ...      0   \n",
       "2175                 1     1987   98006   260013420      20522  ...      0   \n",
       "2176                 1     1987   98006   260013420      20522  ...      0   \n",
       "2639                 1     1960   98006   607130720      20522  ...      0   \n",
       "2640                 1     1960   98006   607130720      20522  ...      0   \n",
       "2641                 1     1960   98006   607130720      20522  ...      0   \n",
       "...                ...      ...     ...         ...        ...  ...    ...   \n",
       "1450000              2     1981   98006    93236030      20522  ...      0   \n",
       "1450011              1     1977   98006   606790390      20522  ...      0   \n",
       "1450043              3     1958   98006   346030150      20522  ...      0   \n",
       "1450079              1     1980   98006  3343301597      20522  ...      0   \n",
       "1450087              1     1954   98006   220050320      20522  ...      0   \n",
       "1450120              2     1995   98006   413945430      20522  ...      0   \n",
       "1450232              1     1975   98006   195180760      20522  ...      0   \n",
       "1450239              2     1985   98006   896552140      20522  ...      0   \n",
       "1450280              1     1982   98006  2592201720      20522  ...      0   \n",
       "1450376              2     1987   98006   780546660      20522  ...      0   \n",
       "1450415              1     1961   98006   785560780      20522  ...      0   \n",
       "1450553              2     1987   98006   259222160      20522  ...      0   \n",
       "1450570              2     1986   98006   670511150      20522  ...      0   \n",
       "1450574              2     1976   98006   785661360      20522  ...      0   \n",
       "1450637              1     1962   98006   607190290      20522  ...      0   \n",
       "1450696              2     1972   98006   856280440      20522  ...      0   \n",
       "1450775              1     1969   98006   386410140      20522  ...      0   \n",
       "1450780              1     1954   98006   220050400      20522  ...      0   \n",
       "1450853              1     1961   98006    56037085      20522  ...      0   \n",
       "1450873              1     1967   98006   785670360      20522  ...      0   \n",
       "1451090              2     1992   98006   259753400      20522  ...      0   \n",
       "1451191              3     1991   98006   808102240      20522  ...      0   \n",
       "1451241              1     1976   98006  7855801680      20522  ...      0   \n",
       "1451408              2     1985   98006   780545940      20522  ...      0   \n",
       "1451465              1     1977   98006   260000370      20522  ...      0   \n",
       "1451574              1     1974   98006    11155070      20522  ...      0   \n",
       "1451612              1     1966   98006    22050015      20522  ...      0   \n",
       "1451629              1     1958   98006    22070040      20522  ...      0   \n",
       "1451698              1     1977   98006   214133370      20522  ...      0   \n",
       "1451706              2     1960   98006   785500450      20522  ...      0   \n",
       "\n",
       "         98034  98117  98059  98103  98115  98052  98033  98074  98006  \n",
       "107          0      0      0      0      0      0      0      0      1  \n",
       "109          0      0      0      0      0      0      0      0      1  \n",
       "252          0      0      0      0      0      0      0      0      1  \n",
       "253          0      0      0      0      0      0      0      0      1  \n",
       "255          0      0      0      0      0      0      0      0      1  \n",
       "256          0      0      0      0      0      0      0      0      1  \n",
       "732          0      0      0      0      0      0      0      0      1  \n",
       "733          0      0      0      0      0      0      0      0      1  \n",
       "734          0      0      0      0      0      0      0      0      1  \n",
       "735          0      0      0      0      0      0      0      0      1  \n",
       "826          0      0      0      0      0      0      0      0      1  \n",
       "827          0      0      0      0      0      0      0      0      1  \n",
       "863          0      0      0      0      0      0      0      0      1  \n",
       "864          0      0      0      0      0      0      0      0      1  \n",
       "1500         0      0      0      0      0      0      0      0      1  \n",
       "1501         0      0      0      0      0      0      0      0      1  \n",
       "1502         0      0      0      0      0      0      0      0      1  \n",
       "1612         0      0      0      0      0      0      0      0      1  \n",
       "1613         0      0      0      0      0      0      0      0      1  \n",
       "1614         0      0      0      0      0      0      0      0      1  \n",
       "1615         0      0      0      0      0      0      0      0      1  \n",
       "2010         0      0      0      0      0      0      0      0      1  \n",
       "2011         0      0      0      0      0      0      0      0      1  \n",
       "2012         0      0      0      0      0      0      0      0      1  \n",
       "2173         0      0      0      0      0      0      0      0      1  \n",
       "2175         0      0      0      0      0      0      0      0      1  \n",
       "2176         0      0      0      0      0      0      0      0      1  \n",
       "2639         0      0      0      0      0      0      0      0      1  \n",
       "2640         0      0      0      0      0      0      0      0      1  \n",
       "2641         0      0      0      0      0      0      0      0      1  \n",
       "...        ...    ...    ...    ...    ...    ...    ...    ...    ...  \n",
       "1450000      0      0      0      0      0      0      0      0      1  \n",
       "1450011      0      0      0      0      0      0      0      0      1  \n",
       "1450043      0      0      0      0      0      0      0      0      1  \n",
       "1450079      0      0      0      0      0      0      0      0      1  \n",
       "1450087      0      0      0      0      0      0      0      0      1  \n",
       "1450120      0      0      0      0      0      0      0      0      1  \n",
       "1450232      0      0      0      0      0      0      0      0      1  \n",
       "1450239      0      0      0      0      0      0      0      0      1  \n",
       "1450280      0      0      0      0      0      0      0      0      1  \n",
       "1450376      0      0      0      0      0      0      0      0      1  \n",
       "1450415      0      0      0      0      0      0      0      0      1  \n",
       "1450553      0      0      0      0      0      0      0      0      1  \n",
       "1450570      0      0      0      0      0      0      0      0      1  \n",
       "1450574      0      0      0      0      0      0      0      0      1  \n",
       "1450637      0      0      0      0      0      0      0      0      1  \n",
       "1450696      0      0      0      0      0      0      0      0      1  \n",
       "1450775      0      0      0      0      0      0      0      0      1  \n",
       "1450780      0      0      0      0      0      0      0      0      1  \n",
       "1450853      0      0      0      0      0      0      0      0      1  \n",
       "1450873      0      0      0      0      0      0      0      0      1  \n",
       "1451090      0      0      0      0      0      0      0      0      1  \n",
       "1451191      0      0      0      0      0      0      0      0      1  \n",
       "1451241      0      0      0      0      0      0      0      0      1  \n",
       "1451408      0      0      0      0      0      0      0      0      1  \n",
       "1451465      0      0      0      0      0      0      0      0      1  \n",
       "1451574      0      0      0      0      0      0      0      0      1  \n",
       "1451612      0      0      0      0      0      0      0      0      1  \n",
       "1451629      0      0      0      0      0      0      0      0      1  \n",
       "1451698      0      0      0      0      0      0      0      0      1  \n",
       "1451706      0      0      0      0      0      0      0      0      1  \n",
       "\n",
       "[20522 rows x 30 columns]"
      ]
     },
     "execution_count": 664,
     "metadata": {},
     "output_type": "execute_result"
    }
   ],
   "source": [
    "sales_data6_over_15k.head()"
   ]
  },
  {
   "cell_type": "code",
   "execution_count": 666,
   "metadata": {},
   "outputs": [
    {
     "name": "stdout",
     "output_type": "stream",
     "text": [
      "20522\n",
      "107        20522\n",
      "109        20522\n",
      "252        20522\n",
      "253        20522\n",
      "255        20522\n",
      "256        20522\n",
      "732        20522\n",
      "733        20522\n",
      "734        20522\n",
      "735        20522\n",
      "826        20522\n",
      "827        20522\n",
      "863        20522\n",
      "864        20522\n",
      "1500       20522\n",
      "1501       20522\n",
      "1502       20522\n",
      "1612       20522\n",
      "1613       20522\n",
      "1614       20522\n",
      "1615       20522\n",
      "2010       20522\n",
      "2011       20522\n",
      "2012       20522\n",
      "2173       20522\n",
      "2175       20522\n",
      "2176       20522\n",
      "2639       20522\n",
      "2640       20522\n",
      "2641       20522\n",
      "           ...  \n",
      "1450000    20522\n",
      "1450011    20522\n",
      "1450043    20522\n",
      "1450079    20522\n",
      "1450087    20522\n",
      "1450120    20522\n",
      "1450232    20522\n",
      "1450239    20522\n",
      "1450280    20522\n",
      "1450376    20522\n",
      "1450415    20522\n",
      "1450553    20522\n",
      "1450570    20522\n",
      "1450574    20522\n",
      "1450637    20522\n",
      "1450696    20522\n",
      "1450775    20522\n",
      "1450780    20522\n",
      "1450853    20522\n",
      "1450873    20522\n",
      "1451090    20522\n",
      "1451191    20522\n",
      "1451241    20522\n",
      "1451408    20522\n",
      "1451465    20522\n",
      "1451574    20522\n",
      "1451612    20522\n",
      "1451629    20522\n",
      "1451698    20522\n",
      "1451706    20522\n",
      "Name: Zip_count, Length: 20522, dtype: int64\n"
     ]
    }
   ],
   "source": [
    "print(sales_data6_over_15k['98006'].sum())\n",
    "print(sales_data6_over_15k.loc[sales_data6_over_15k['New_zip'] == '98006']['Zip_count'])"
   ]
  },
  {
   "cell_type": "code",
   "execution_count": 712,
   "metadata": {},
   "outputs": [
    {
     "data": {
      "image/png": "[encoded data removed]",
      "text/plain": [
       "<Figure size 1080x720 with 2 Axes>"
      ]
     },
     "metadata": {
      "needs_background": "light"
     },
     "output_type": "display_data"
    }
   ],
   "source": [
    "correlation_heatmap(sales_data6_over_15k)"
   ]
  },
  {
   "cell_type": "code",
   "execution_count": 706,
   "metadata": {},
   "outputs": [
    {
     "name": "stdout",
     "output_type": "stream",
     "text": [
      "['LogSalePrice', 'SqFtTotLiving', 'Bedrooms', 'SqFtGarageAttached', 'SqFtDeck', 'BathFullCount', 'YrBuilt', 'New_zip', 'Pin', 'Zip_count', '98023', '98001', '98031', '98118', '98042', '98133', '98058', '98155', '98092', '98056', '98038', '98034', '98117', '98059', '98103', '98115', '98052', '98033', '98074', '98006']\n"
     ]
    }
   ],
   "source": [
    "Y = sales_data6_over_15k['LogSalePrice']\n",
    "print(list(sales_data6_over_15k.columns))\n",
    "\n",
    "important_feat = [ele for ele in sales_data6_over_15k.columns if ele not in {'LogSalePrice','New_zip', 'Pin','Zip_count'}] \n",
    "X = sales_data6_over_15k[important_feat]\n"
   ]
  },
  {
   "cell_type": "code",
   "execution_count": 705,
   "metadata": {},
   "outputs": [
    {
     "data": {
      "text/plain": [
       "['SqFtTotLiving',\n",
       " 'Bedrooms',\n",
       " 'SqFtGarageAttached',\n",
       " 'SqFtDeck',\n",
       " 'BathFullCount',\n",
       " 'YrBuilt',\n",
       " '98023',\n",
       " '98001',\n",
       " '98031',\n",
       " '98118',\n",
       " '98042',\n",
       " '98133',\n",
       " '98058',\n",
       " '98155',\n",
       " '98092',\n",
       " '98056',\n",
       " '98038',\n",
       " '98034',\n",
       " '98117',\n",
       " '98059',\n",
       " '98103',\n",
       " '98115',\n",
       " '98052',\n",
       " '98033',\n",
       " '98074',\n",
       " '98006']"
      ]
     },
     "execution_count": 705,
     "metadata": {},
     "output_type": "execute_result"
    }
   ],
   "source": [
    "X"
   ]
  },
  {
   "cell_type": "code",
   "execution_count": 714,
   "metadata": {},
   "outputs": [
    {
     "name": "stdout",
     "output_type": "stream",
     "text": [
      "['LogSalePrice', 'SqFtTotLiving', 'Bedrooms', 'SqFtGarageAttached', 'SqFtDeck', 'BathFullCount', 'YrBuilt', 'New_zip', 'Pin', 'Zip_count', '98023', '98001', '98031', '98118', '98042', '98133', '98058', '98155', '98092', '98056', '98038', '98034', '98117', '98059', '98103', '98115', '98052', '98033', '98074', '98006']\n"
     ]
    }
   ],
   "source": [
    "Y = sales_data6_over_15k['LogSalePrice']\n",
    "print(list(sales_data6_over_15k.columns))\n",
    "\n",
    "important_feat = [ele for ele in sales_data6_over_15k.columns if ele in {'SqFtTotLiving', 'BathFullCount', 'Bedrooms', 'SqFtGarageAttached','SqFtDeck','HeatSystem','YrBuilt','98006'}] \n",
    "X = sales_data6_over_15k[important_feat]\n"
   ]
  },
  {
   "cell_type": "code",
   "execution_count": 707,
   "metadata": {},
   "outputs": [],
   "source": [
    "from sklearn.model_selection import train_test_split\n",
    "from sklearn.metrics import mean_squared_error\n",
    "from sklearn import linear_model\n",
    "\n",
    "X_train, X_test, y_train, y_test = train_test_split(X, Y, random_state = 1000, test_size=.3)\n",
    "\n",
    "lr = linear_model.LinearRegression()\n",
    "\n"
   ]
  },
  {
   "cell_type": "code",
   "execution_count": 708,
   "metadata": {},
   "outputs": [
    {
     "name": "stdout",
     "output_type": "stream",
     "text": [
      "R^2 is: 0.22240408858699612\n"
     ]
    }
   ],
   "source": [
    "model = lr.fit(X_train, y_train)\n",
    "print(\"R^2 is:\", model.score(X_test, y_test))"
   ]
  },
  {
   "cell_type": "code",
   "execution_count": 711,
   "metadata": {},
   "outputs": [
    {
     "data": {
      "text/plain": [
       "0.47100992716793166"
      ]
     },
     "execution_count": 711,
     "metadata": {},
     "output_type": "execute_result"
    }
   ],
   "source": [
    "metrics.mean_absolute_error(y_test, lr.predict(X_test))"
   ]
  },
  {
   "cell_type": "code",
   "execution_count": 301,
   "metadata": {},
   "outputs": [
    {
     "name": "stdout",
     "output_type": "stream",
     "text": [
      "RSSE is: 251788.73528190135\n"
     ]
    }
   ],
   "source": [
    "prediction = model.predict(X_test)\n",
    "print(\"RSSE is:\", (mean_squared_error(y_test, prediction)**.5))"
   ]
  },
  {
   "cell_type": "code",
   "execution_count": 302,
   "metadata": {},
   "outputs": [
    {
     "data": {
      "image/png": "[encoded data removed]",
      "text/plain": [
       "<Figure size 432x288 with 1 Axes>"
      ]
     },
     "metadata": {
      "needs_background": "light"
     },
     "output_type": "display_data"
    }
   ],
   "source": [
    "actual_values = y_test\n",
    "plt.scatter(prediction, actual_values, alpha=.2, color='b') \n",
    "plt.xlabel('Predicted Price')\n",
    "plt.ylabel('Actual Price')\n",
    "plt.show()"
   ]
  },
  {
   "cell_type": "code",
   "execution_count": 303,
   "metadata": {},
   "outputs": [
    {
     "data": {
      "image/png": "[encoded data removed]",
      "text/plain": [
       "<Figure size 720x864 with 1 Axes>"
      ]
     },
     "metadata": {
      "needs_background": "light"
     },
     "output_type": "display_data"
    }
   ],
   "source": [
    "_, ax = plt.subplots(figsize= (10, 12))\n",
    "plt.scatter(X_test, y_test, color= 'darkgreen', label = 'data')\n",
    "plt.plot(X_test, prediction, color='red', label= ' Predicted Regression line')\n",
    "plt.xlabel('Living Space (sqft)')\n",
    "plt.ylabel('price')\n",
    "plt.legend()\n",
    "plt.gca().spines['right'].set_visible(False)\n",
    "plt.gca().spines['right'].set_visible(False)"
   ]
  },
  {
   "cell_type": "code",
   "execution_count": 304,
   "metadata": {},
   "outputs": [
    {
     "data": {
      "text/plain": [
       "21"
      ]
     },
     "execution_count": 304,
     "metadata": {},
     "output_type": "execute_result"
    }
   ],
   "source": [
    "Y = sales_data6['SalePrice']\n",
    "X = sales_data6['SqFtTotLiving',]"
   ]
  },
  {
   "cell_type": "code",
   "execution_count": null,
   "metadata": {},
   "outputs": [],
   "source": [
    "sal"
   ]
  },
  {
   "cell_type": "code",
   "execution_count": null,
   "metadata": {},
   "outputs": [],
   "source": [
    "data.columns"
   ]
  },
  {
   "cell_type": "code",
   "execution_count": null,
   "metadata": {},
   "outputs": [],
   "source": [
    "import numpy as np "
   ]
  },
  {
   "cell_type": "code",
   "execution_count": null,
   "metadata": {},
   "outputs": [],
   "source": [
    "## Assume cloud = nan means 0\n",
    "data[data['Cloud9am'] == np.nan ] = 0 "
   ]
  },
  {
   "cell_type": "code",
   "execution_count": null,
   "metadata": {},
   "outputs": [],
   "source": [
    "data[data['Cloud3pm'] == np.nan ] = 0 "
   ]
  },
  {
   "cell_type": "code",
   "execution_count": null,
   "metadata": {},
   "outputs": [],
   "source": [
    "# lets remove all columns with greater than 35% missing values "
   ]
  },
  {
   "cell_type": "code",
   "execution_count": null,
   "metadata": {},
   "outputs": [],
   "source": [
    "list(data.columns)"
   ]
  },
  {
   "cell_type": "code",
   "execution_count": null,
   "metadata": {},
   "outputs": [],
   "source": [
    "df = data"
   ]
  },
  {
   "cell_type": "code",
   "execution_count": null,
   "metadata": {},
   "outputs": [],
   "source": [
    "for column in list(data.columns):\n",
    "    if (df[df[column].isna()].shape[0] / df.shape[0]) > 0.35 : \n",
    "        print ('+1')\n",
    "        print(column)\n",
    "        df = df.drop(column, axis =1)"
   ]
  },
  {
   "cell_type": "code",
   "execution_count": null,
   "metadata": {},
   "outputs": [],
   "source": [
    "# RiSK MM would give hinsight so let's remove it\n",
    "df = df.drop('RISK_MM', axis =1)"
   ]
  },
  {
   "cell_type": "code",
   "execution_count": null,
   "metadata": {},
   "outputs": [],
   "source": [
    "df.head()"
   ]
  },
  {
   "cell_type": "code",
   "execution_count": null,
   "metadata": {
    "scrolled": true
   },
   "outputs": [],
   "source": [
    " df.isna().sum()"
   ]
  },
  {
   "cell_type": "code",
   "execution_count": null,
   "metadata": {},
   "outputs": [],
   "source": [
    "# to fill Rain Today let's find out the mode for that month of this column"
   ]
  },
  {
   "cell_type": "code",
   "execution_count": null,
   "metadata": {},
   "outputs": [],
   "source": [
    "# lets add a month column"
   ]
  },
  {
   "cell_type": "code",
   "execution_count": null,
   "metadata": {},
   "outputs": [],
   "source": [
    "(df.Date[1]).split('-')[1]"
   ]
  },
  {
   "cell_type": "code",
   "execution_count": null,
   "metadata": {},
   "outputs": [],
   "source": [
    "df['Date'].apply(lambda x: x.split('-'))"
   ]
  },
  {
   "cell_type": "code",
   "execution_count": null,
   "metadata": {},
   "outputs": [],
   "source": [
    "df['Month'] = df['Date'].apply(lambda x: x.split('-')[1])"
   ]
  },
  {
   "cell_type": "code",
   "execution_count": null,
   "metadata": {},
   "outputs": [],
   "source": [
    "df['Year'] = df['Date'].apply(lambda x: x.split('-')[0])"
   ]
  },
  {
   "cell_type": "code",
   "execution_count": null,
   "metadata": {},
   "outputs": [],
   "source": [
    "df['Day'] = df['Date'].apply(lambda x: x.split('-')[2])"
   ]
  },
  {
   "cell_type": "code",
   "execution_count": null,
   "metadata": {},
   "outputs": [],
   "source": [
    "df.Year.unique()"
   ]
  },
  {
   "cell_type": "code",
   "execution_count": null,
   "metadata": {},
   "outputs": [],
   "source": [
    "df[['Year','Month','RainTomorrow']]"
   ]
  },
  {
   "cell_type": "code",
   "execution_count": null,
   "metadata": {},
   "outputs": [],
   "source": [
    "df[['Year','Month','RainTomorrow']].groupby(['Year','Month']).mode()"
   ]
  },
  {
   "cell_type": "code",
   "execution_count": null,
   "metadata": {},
   "outputs": [],
   "source": [
    "import scipy.stats"
   ]
  },
  {
   "cell_type": "code",
   "execution_count": null,
   "metadata": {},
   "outputs": [],
   "source": [
    "df.columns"
   ]
  },
  {
   "cell_type": "code",
   "execution_count": null,
   "metadata": {},
   "outputs": [],
   "source": [
    "df[['Location','Year','Month','RainToday']]"
   ]
  },
  {
   "cell_type": "code",
   "execution_count": null,
   "metadata": {
    "scrolled": true
   },
   "outputs": [],
   "source": [
    "rain_today_mode = df[['Location','Year','Month','RainToday']][~df['RainToday'].isna()].groupby(['Location', 'Year','Month']).agg(lambda x: scipy.stats.mode(x)[0])['RainToday'].reset_index()"
   ]
  },
  {
   "cell_type": "code",
   "execution_count": null,
   "metadata": {},
   "outputs": [],
   "source": [
    "df[df['RainToday'].isna()]['RainToday']"
   ]
  },
  {
   "cell_type": "code",
   "execution_count": null,
   "metadata": {},
   "outputs": [],
   "source": [
    "df2 = pd.merge(df, rain_today_mode, on=['Location','Year','Month'])"
   ]
  },
  {
   "cell_type": "code",
   "execution_count": null,
   "metadata": {},
   "outputs": [],
   "source": [
    "df2"
   ]
  },
  {
   "cell_type": "code",
   "execution_count": null,
   "metadata": {},
   "outputs": [],
   "source": [
    "df2[df2['RainToday_x'].isna()]['RainToday_y']"
   ]
  },
  {
   "cell_type": "code",
   "execution_count": null,
   "metadata": {},
   "outputs": [],
   "source": [
    "df2.loc[df2['RainToday_x'].isna(), 'RainToday_x'] = df2[df2['RainToday_x'].isna()]['RainToday_y']"
   ]
  },
  {
   "cell_type": "code",
   "execution_count": null,
   "metadata": {},
   "outputs": [],
   "source": [
    "df2['RainToday_x'].unique()"
   ]
  },
  {
   "cell_type": "code",
   "execution_count": null,
   "metadata": {},
   "outputs": [],
   "source": [
    "df3 = df2.drop('RainToday_y', axis=1)"
   ]
  },
  {
   "cell_type": "code",
   "execution_count": null,
   "metadata": {},
   "outputs": [],
   "source": [
    "# lets check if rainToday is always missing together with Rainfall ? "
   ]
  },
  {
   "cell_type": "code",
   "execution_count": null,
   "metadata": {},
   "outputs": [],
   "source": [
    "df.loc[df['RainToday'].isna(), 'Rainfall'].shape"
   ]
  },
  {
   "cell_type": "code",
   "execution_count": null,
   "metadata": {},
   "outputs": [],
   "source": [
    "# Yes all are missing together! \\\n",
    "#which means whenever we took the mode to be No we should insert 0 otherwise we will take the monthly average? "
   ]
  },
  {
   "cell_type": "code",
   "execution_count": null,
   "metadata": {},
   "outputs": [],
   "source": [
    "rainfall_mean = df[['Location','Year','Month','Rainfall']][~df['Rainfall'].isna()].groupby(['Location', 'Year','Month']).mean()['Rainfall'].reset_index()"
   ]
  },
  {
   "cell_type": "code",
   "execution_count": null,
   "metadata": {},
   "outputs": [],
   "source": [
    "rainfall_mean"
   ]
  },
  {
   "cell_type": "code",
   "execution_count": null,
   "metadata": {},
   "outputs": [],
   "source": [
    " df4 = pd.merge(df3, rainfall_mean, on=['Location','Year','Month'])"
   ]
  },
  {
   "cell_type": "code",
   "execution_count": null,
   "metadata": {},
   "outputs": [],
   "source": [
    "type(df4['RainToday_x'][1])"
   ]
  },
  {
   "cell_type": "code",
   "execution_count": null,
   "metadata": {},
   "outputs": [],
   "source": [
    "df4"
   ]
  },
  {
   "cell_type": "code",
   "execution_count": null,
   "metadata": {},
   "outputs": [],
   "source": [
    "df4.columns"
   ]
  },
  {
   "cell_type": "code",
   "execution_count": null,
   "metadata": {
    "scrolled": false
   },
   "outputs": [],
   "source": [
    "a = df4[['Rainfall_x', 'Rainfall_y', 'RainToday_x']].apply(lambda x: x['Rainfall_y'] if x['RainToday_x'] == 'Yes' else 0 , axis =1)"
   ]
  },
  {
   "cell_type": "code",
   "execution_count": null,
   "metadata": {},
   "outputs": [],
   "source": [
    "# assign 0 to rainfall whenever Rain today = No else assign mean"
   ]
  },
  {
   "cell_type": "code",
   "execution_count": null,
   "metadata": {},
   "outputs": [],
   "source": [
    "df4['Rainfall_x'] = df4[['Rainfall_x', 'Rainfall_y', 'RainToday_x']].apply(lambda x: x['Rainfall_y'] if x['RainToday_x'] == 'Yes' else 0 , axis =1)"
   ]
  },
  {
   "cell_type": "code",
   "execution_count": null,
   "metadata": {},
   "outputs": [],
   "source": [
    "# drop rainfall y"
   ]
  },
  {
   "cell_type": "code",
   "execution_count": null,
   "metadata": {},
   "outputs": [],
   "source": [
    "df5 = df4.drop('Rainfall_y', axis = 1)"
   ]
  },
  {
   "cell_type": "code",
   "execution_count": null,
   "metadata": {},
   "outputs": [],
   "source": [
    "# let's pick the mode also for the wind direction per location "
   ]
  },
  {
   "cell_type": "code",
   "execution_count": null,
   "metadata": {},
   "outputs": [],
   "source": [
    "wind_dir_9 = df[['Location','Year','Month','WindDir9am']][~df['WindDir9am'].isna()].groupby(['Location', 'Year','Month']).agg(lambda x: scipy.stats.mode(x)[0])['WindDir9am'].reset_index()"
   ]
  },
  {
   "cell_type": "code",
   "execution_count": null,
   "metadata": {},
   "outputs": [],
   "source": [
    "wind_dir_9"
   ]
  },
  {
   "cell_type": "code",
   "execution_count": null,
   "metadata": {},
   "outputs": [],
   "source": [
    "wind_dir_9.WindDir9am.unique()"
   ]
  },
  {
   "cell_type": "code",
   "execution_count": null,
   "metadata": {},
   "outputs": [],
   "source": [
    "wind_dir_3pm = df[['Location','Year','Month','WindDir3pm']][~df['WindDir3pm'].isna()].groupby(['Location', 'Year','Month']).agg(lambda x: scipy.stats.mode(x)[0])['WindDir3pm'].reset_index()"
   ]
  },
  {
   "cell_type": "code",
   "execution_count": null,
   "metadata": {},
   "outputs": [],
   "source": [
    " df6 = pd.merge(df5, wind_dir_9, on=['Location','Year','Month'])"
   ]
  },
  {
   "cell_type": "code",
   "execution_count": null,
   "metadata": {},
   "outputs": [],
   "source": [
    "df6"
   ]
  },
  {
   "cell_type": "code",
   "execution_count": null,
   "metadata": {},
   "outputs": [],
   "source": [
    "df6.loc[df6['WindDir9am_x'].isna(), 'WindDir9am_x'] "
   ]
  },
  {
   "cell_type": "code",
   "execution_count": null,
   "metadata": {
    "scrolled": false
   },
   "outputs": [],
   "source": [
    "df6.loc[df6['WindDir9am_x'].isna(), 'WindDir9am_x'] = df6[df6['WindDir9am_x'].isna()]['WindDir9am_y']"
   ]
  },
  {
   "cell_type": "code",
   "execution_count": null,
   "metadata": {},
   "outputs": [],
   "source": [
    " df7 = pd.merge(df6, wind_dir_3pm, on=['Location','Year','Month'])"
   ]
  },
  {
   "cell_type": "code",
   "execution_count": null,
   "metadata": {},
   "outputs": [],
   "source": [
    "df7.loc[df7['WindDir3pm_x'].isna(), 'WindDir3pm_x'] = df7[df7['WindDir3pm_x'].isna()]['WindDir3pm_y']"
   ]
  },
  {
   "cell_type": "code",
   "execution_count": null,
   "metadata": {},
   "outputs": [],
   "source": [
    "# let's check there are no more winDir nan"
   ]
  },
  {
   "cell_type": "code",
   "execution_count": null,
   "metadata": {},
   "outputs": [],
   "source": [
    "list(df7.columns[(df7.isna().sum() > 0)])"
   ]
  },
  {
   "cell_type": "code",
   "execution_count": null,
   "metadata": {},
   "outputs": [],
   "source": [
    "df7[df7.isna().sum() > 0]"
   ]
  },
  {
   "cell_type": "code",
   "execution_count": null,
   "metadata": {},
   "outputs": [],
   "source": [
    "# let's drop the y columnms of WindDir"
   ]
  },
  {
   "cell_type": "code",
   "execution_count": null,
   "metadata": {},
   "outputs": [],
   "source": [
    "df8 = df7.drop(['WindDir3pm_y', 'WindDir9am_y'], axis=1)"
   ]
  },
  {
   "cell_type": "code",
   "execution_count": null,
   "metadata": {},
   "outputs": [],
   "source": [
    "df8['WindGustDir'].unique()"
   ]
  },
  {
   "cell_type": "code",
   "execution_count": null,
   "metadata": {},
   "outputs": [],
   "source": [
    "WindGustDir = df[['Location','Year','Month','WindGustDir']][~df['WindGustDir'].isna()].groupby(['Location', 'Year','Month']).agg(lambda x: scipy.stats.mode(x)[0])['WindGustDir'].reset_index()"
   ]
  },
  {
   "cell_type": "code",
   "execution_count": null,
   "metadata": {},
   "outputs": [],
   "source": [
    " df9 = pd.merge(df8, WindGustDir, on=['Location','Year','Month'])"
   ]
  },
  {
   "cell_type": "code",
   "execution_count": null,
   "metadata": {},
   "outputs": [],
   "source": [
    "df9.loc[df9['WindGustDir_x'].isna(), 'WindGustDir_x'] = df9[df9['WindGustDir_x'].isna()]['WindGustDir_y']"
   ]
  },
  {
   "cell_type": "code",
   "execution_count": null,
   "metadata": {},
   "outputs": [],
   "source": [
    "df9"
   ]
  },
  {
   "cell_type": "code",
   "execution_count": null,
   "metadata": {},
   "outputs": [],
   "source": [
    "# lets look at the distribution of columns with missing values per location per month"
   ]
  },
  {
   "cell_type": "code",
   "execution_count": null,
   "metadata": {},
   "outputs": [],
   "source": [
    "dist_outlook = df9.groupby(['Location', 'Month', 'Day']).mean().reset_index()"
   ]
  },
  {
   "cell_type": "code",
   "execution_count": null,
   "metadata": {},
   "outputs": [],
   "source": [
    "import matplotlib.pyplot as plt"
   ]
  },
  {
   "cell_type": "code",
   "execution_count": null,
   "metadata": {},
   "outputs": [],
   "source": [
    "for i in range(1, 13):\n",
    "    if i < 10:\n",
    "        month = '0' + str(i)\n",
    "    else: \n",
    "        month = str(i)\n",
    "    plt.hist(dist_outlook.loc[(dist_outlook['Location']=='Adelaide') & (dist_outlook['Month'] == month) , 'MinTemp'])\n",
    "    plt.show()"
   ]
  },
  {
   "cell_type": "code",
   "execution_count": null,
   "metadata": {
    "scrolled": true
   },
   "outputs": [],
   "source": [
    "import seaborn as sns\n",
    "corr_plots = sns.PairGrid(df9)\n",
    "corr_plots.map(plt.scatter);"
   ]
  },
  {
   "cell_type": "code",
   "execution_count": null,
   "metadata": {},
   "outputs": [],
   "source": [
    "# let's choose the median for all other values to avoid surprises from outliers"
   ]
  },
  {
   "cell_type": "code",
   "execution_count": null,
   "metadata": {},
   "outputs": [],
   "source": [
    "for column in list(df9.columns[(df9.isna().sum() > 0)]):\n",
    "    median = df[['Location','Year','Month',column]][~df[column].isna()].groupby(['Location', 'Year','Month']).median().reset_index()\n",
    "    df9 = pd.merge(df9, median, on=['Location','Year','Month'])\n",
    "    df9.loc[df9[column + '_x'].isna(), column + '_x'] = df9[df9[column + '_x'].isna()][column + '_y']\n",
    "    \n",
    "    "
   ]
  },
  {
   "cell_type": "code",
   "execution_count": null,
   "metadata": {},
   "outputs": [],
   "source": [
    "# Do we still have missing values? "
   ]
  },
  {
   "cell_type": "code",
   "execution_count": null,
   "metadata": {},
   "outputs": [],
   "source": [
    "sum(df9.isna().sum())"
   ]
  },
  {
   "cell_type": "code",
   "execution_count": null,
   "metadata": {},
   "outputs": [],
   "source": [
    "# Yayy No missing values"
   ]
  },
  {
   "cell_type": "code",
   "execution_count": null,
   "metadata": {},
   "outputs": [],
   "source": [
    "# let's remove any column ending with _y "
   ]
  },
  {
   "cell_type": "code",
   "execution_count": null,
   "metadata": {},
   "outputs": [],
   "source": [
    "print (~df9.columns.str.endswith('_y'))"
   ]
  },
  {
   "cell_type": "code",
   "execution_count": null,
   "metadata": {},
   "outputs": [],
   "source": [
    "df9 = df9.loc[:,~df9.columns.str.endswith('_y')]"
   ]
  },
  {
   "cell_type": "code",
   "execution_count": null,
   "metadata": {},
   "outputs": [],
   "source": [
    "df9.columns"
   ]
  },
  {
   "cell_type": "code",
   "execution_count": null,
   "metadata": {},
   "outputs": [],
   "source": [
    "# Next step would be to get rid of Date column since we have the year, Month, Day columns (we need to turn them to numeric values - they don't need to be categorical under a tree model)\n",
    "# and then turn all categorical to dummies"
   ]
  },
  {
   "cell_type": "code",
   "execution_count": null,
   "metadata": {},
   "outputs": [],
   "source": [
    "pd.get_dummies(df8[['Location', 'WindDir9am_x']])"
   ]
  },
  {
   "cell_type": "code",
   "execution_count": null,
   "metadata": {},
   "outputs": [],
   "source": [
    "dummies =  pd.get_dummies(df9[['Location', 'WindGustDir_x', 'WindDir9am_x', 'WindDir3pm_x', 'RainToday_x']], ['Location', 'WindGustDir_x', 'WindDir9am_x', 'WindDir3pm_x', 'RainToday_x'])"
   ]
  },
  {
   "cell_type": "code",
   "execution_count": null,
   "metadata": {},
   "outputs": [],
   "source": [
    "df9 = df9.drop(['Location', 'WindGustDir_x', 'WindDir9am_x', 'WindDir3pm_x', 'RainToday_x'], axis =1)"
   ]
  },
  {
   "cell_type": "code",
   "execution_count": null,
   "metadata": {},
   "outputs": [],
   "source": [
    "df9 = pd.concat([df9, dummies], axis=1)"
   ]
  },
  {
   "cell_type": "code",
   "execution_count": null,
   "metadata": {},
   "outputs": [],
   "source": []
  },
  {
   "cell_type": "code",
   "execution_count": null,
   "metadata": {},
   "outputs": [],
   "source": [
    "df9['Year'] = df9['Year'].astype(int)"
   ]
  },
  {
   "cell_type": "code",
   "execution_count": null,
   "metadata": {},
   "outputs": [],
   "source": [
    "df9 = df9.drop('Date', axis =1)"
   ]
  },
  {
   "cell_type": "code",
   "execution_count": null,
   "metadata": {},
   "outputs": [],
   "source": [
    "index_split = df9['Year'] > 2014"
   ]
  },
  {
   "cell_type": "code",
   "execution_count": null,
   "metadata": {},
   "outputs": [],
   "source": [
    "# let's split the data according to year"
   ]
  },
  {
   "cell_type": "code",
   "execution_count": null,
   "metadata": {},
   "outputs": [],
   "source": [
    "index_split"
   ]
  },
  {
   "cell_type": "code",
   "execution_count": null,
   "metadata": {},
   "outputs": [],
   "source": [
    "# let's turn the RainTomorrow column to numeric 0/1"
   ]
  },
  {
   "cell_type": "code",
   "execution_count": null,
   "metadata": {},
   "outputs": [],
   "source": [
    "df9['RainTomorrow'] = df9['RainTomorrow'].apply(lambda x: 1 if x == 'Yes' else 0)"
   ]
  },
  {
   "cell_type": "code",
   "execution_count": null,
   "metadata": {},
   "outputs": [],
   "source": [
    "tr_x, tr_y, te_x, te_y = df9.loc[index_split, df9.columns != 'RainTomorrow'], df9.loc[index_split, 'RainTomorrow'], df9.loc[~index_split, df9.columns != 'RainTomorrow'], df9.loc[~index_split,'RainTomorrow'] "
   ]
  },
  {
   "cell_type": "code",
   "execution_count": null,
   "metadata": {},
   "outputs": [],
   "source": [
    "from sklearn import tree, ensemble"
   ]
  },
  {
   "cell_type": "code",
   "execution_count": null,
   "metadata": {},
   "outputs": [],
   "source": [
    "clf = tree.DecisionTreeClassifier()"
   ]
  },
  {
   "cell_type": "code",
   "execution_count": null,
   "metadata": {},
   "outputs": [],
   "source": [
    "clf = clf.fit(tr_x, tr_y)"
   ]
  },
  {
   "cell_type": "code",
   "execution_count": null,
   "metadata": {},
   "outputs": [],
   "source": [
    "y_hat = clf.predict(te_x)"
   ]
  },
  {
   "cell_type": "code",
   "execution_count": null,
   "metadata": {},
   "outputs": [],
   "source": [
    "np.sum(y_hat)/ len(y_hat)"
   ]
  },
  {
   "cell_type": "code",
   "execution_count": null,
   "metadata": {},
   "outputs": [],
   "source": [
    "# let's calculate the misclassification error "
   ]
  },
  {
   "cell_type": "code",
   "execution_count": null,
   "metadata": {},
   "outputs": [],
   "source": [
    "np.where((y_hat == te_y) == False)[0].shape[0]/ te_y.shape[0]"
   ]
  },
  {
   "cell_type": "code",
   "execution_count": null,
   "metadata": {},
   "outputs": [],
   "source": [
    "clf = ensemble.RandomForestClassifier()"
   ]
  },
  {
   "cell_type": "code",
   "execution_count": null,
   "metadata": {},
   "outputs": [],
   "source": [
    "clf = clf.fit(tr_x, tr_y)"
   ]
  },
  {
   "cell_type": "code",
   "execution_count": null,
   "metadata": {},
   "outputs": [],
   "source": [
    "y_hat = clf.predict(te_x)"
   ]
  },
  {
   "cell_type": "code",
   "execution_count": null,
   "metadata": {},
   "outputs": [],
   "source": [
    "np.where((y_hat == te_y) == False)[0].shape[0]/ te_y.shape[0]"
   ]
  },
  {
   "cell_type": "code",
   "execution_count": null,
   "metadata": {},
   "outputs": [],
   "source": []
  },
  {
   "cell_type": "code",
   "execution_count": null,
   "metadata": {},
   "outputs": [],
   "source": []
  }
 ],
 "metadata": {
  "kernelspec": {
   "display_name": "Python 3",
   "language": "python",
   "name": "python3"
  },
  "language_info": {
   "codemirror_mode": {
    "name": "ipython",
    "version": 3
   },
   "file_extension": ".py",
   "mimetype": "text/x-python",
   "name": "python",
   "nbconvert_exporter": "python",
   "pygments_lexer": "ipython3",
   "version": "3.7.3"
  }
 },
 "nbformat": 4,
 "nbformat_minor": 2
}
