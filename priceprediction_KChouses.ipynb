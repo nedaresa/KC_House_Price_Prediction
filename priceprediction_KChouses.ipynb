{
 "cells": [
  {
   "cell_type": "markdown",
   "metadata": {},
   "source": [
    "## Data Preparation"
   ]
  },
  {
   "cell_type": "code",
   "execution_count": 70,
   "metadata": {},
   "outputs": [],
   "source": [
    "import pandas as pd"
   ]
  },
  {
   "cell_type": "code",
   "execution_count": 71,
   "metadata": {},
   "outputs": [],
   "source": [
    "sales_df = pd.read_csv('raw_data/EXTR_RPSale.csv')\n",
    "resbldg_df = pd.read_csv('raw_data/EXTR_ResBldg.txt', sep='\\t')"
   ]
  },
  {
   "cell_type": "markdown",
   "metadata": {},
   "source": [
    "## Exploring Data"
   ]
  },
  {
   "cell_type": "code",
   "execution_count": 72,
   "metadata": {},
   "outputs": [
    {
     "data": {
      "text/html": [
       "<div>\n",
       "<style scoped>\n",
       "    .dataframe tbody tr th:only-of-type {\n",
       "        vertical-align: middle;\n",
       "    }\n",
       "\n",
       "    .dataframe tbody tr th {\n",
       "        vertical-align: top;\n",
       "    }\n",
       "\n",
       "    .dataframe thead th {\n",
       "        text-align: right;\n",
       "    }\n",
       "</style>\n",
       "<table border=\"1\" class=\"dataframe\">\n",
       "  <thead>\n",
       "    <tr style=\"text-align: right;\">\n",
       "      <th></th>\n",
       "      <th>Major</th>\n",
       "      <th>Minor</th>\n",
       "      <th>BldgNbr</th>\n",
       "      <th>NbrLivingUnits</th>\n",
       "      <th>Address</th>\n",
       "      <th>BuildingNumber</th>\n",
       "      <th>Fraction</th>\n",
       "      <th>DirectionPrefix</th>\n",
       "      <th>StreetName</th>\n",
       "      <th>StreetType</th>\n",
       "      <th>...</th>\n",
       "      <th>FpMultiStory</th>\n",
       "      <th>FpFreestanding</th>\n",
       "      <th>FpAdditional</th>\n",
       "      <th>YrBuilt</th>\n",
       "      <th>YrRenovated</th>\n",
       "      <th>PcntComplete</th>\n",
       "      <th>Obsolescence</th>\n",
       "      <th>PcntNetCondition</th>\n",
       "      <th>Condition</th>\n",
       "      <th>AddnlCost</th>\n",
       "    </tr>\n",
       "  </thead>\n",
       "  <tbody>\n",
       "    <tr>\n",
       "      <th>0</th>\n",
       "      <td>440</td>\n",
       "      <td>18</td>\n",
       "      <td>1</td>\n",
       "      <td>1</td>\n",
       "      <td>26503   68TH AVE S  98032</td>\n",
       "      <td>26503</td>\n",
       "      <td></td>\n",
       "      <td></td>\n",
       "      <td>68TH</td>\n",
       "      <td>AVE</td>\n",
       "      <td>...</td>\n",
       "      <td>0</td>\n",
       "      <td>0</td>\n",
       "      <td>0</td>\n",
       "      <td>1956</td>\n",
       "      <td>0</td>\n",
       "      <td>0</td>\n",
       "      <td>0</td>\n",
       "      <td>0</td>\n",
       "      <td>3</td>\n",
       "      <td>0</td>\n",
       "    </tr>\n",
       "    <tr>\n",
       "      <th>1</th>\n",
       "      <td>520</td>\n",
       "      <td>76</td>\n",
       "      <td>1</td>\n",
       "      <td>1</td>\n",
       "      <td>6740   MARS AVE S  98108</td>\n",
       "      <td>6740</td>\n",
       "      <td></td>\n",
       "      <td></td>\n",
       "      <td>MARS</td>\n",
       "      <td>AVE</td>\n",
       "      <td>...</td>\n",
       "      <td>1</td>\n",
       "      <td>0</td>\n",
       "      <td>1</td>\n",
       "      <td>1942</td>\n",
       "      <td>0</td>\n",
       "      <td>0</td>\n",
       "      <td>0</td>\n",
       "      <td>0</td>\n",
       "      <td>3</td>\n",
       "      <td>0</td>\n",
       "    </tr>\n",
       "    <tr>\n",
       "      <th>2</th>\n",
       "      <td>640</td>\n",
       "      <td>9</td>\n",
       "      <td>1</td>\n",
       "      <td>1</td>\n",
       "      <td>45521   212TH AVE SE  98022</td>\n",
       "      <td>45521</td>\n",
       "      <td></td>\n",
       "      <td></td>\n",
       "      <td>212TH</td>\n",
       "      <td>AVE</td>\n",
       "      <td>...</td>\n",
       "      <td>0</td>\n",
       "      <td>0</td>\n",
       "      <td>0</td>\n",
       "      <td>1945</td>\n",
       "      <td>0</td>\n",
       "      <td>0</td>\n",
       "      <td>0</td>\n",
       "      <td>0</td>\n",
       "      <td>5</td>\n",
       "      <td>0</td>\n",
       "    </tr>\n",
       "    <tr>\n",
       "      <th>3</th>\n",
       "      <td>660</td>\n",
       "      <td>11</td>\n",
       "      <td>1</td>\n",
       "      <td>1</td>\n",
       "      <td>520   3RD AVE S  98032</td>\n",
       "      <td>520</td>\n",
       "      <td></td>\n",
       "      <td></td>\n",
       "      <td>3RD</td>\n",
       "      <td>AVE</td>\n",
       "      <td>...</td>\n",
       "      <td>0</td>\n",
       "      <td>0</td>\n",
       "      <td>0</td>\n",
       "      <td>1928</td>\n",
       "      <td>0</td>\n",
       "      <td>0</td>\n",
       "      <td>0</td>\n",
       "      <td>0</td>\n",
       "      <td>4</td>\n",
       "      <td>0</td>\n",
       "    </tr>\n",
       "    <tr>\n",
       "      <th>4</th>\n",
       "      <td>680</td>\n",
       "      <td>24</td>\n",
       "      <td>1</td>\n",
       "      <td>1</td>\n",
       "      <td>27124   78TH AVE S  98032</td>\n",
       "      <td>27124</td>\n",
       "      <td></td>\n",
       "      <td></td>\n",
       "      <td>78TH</td>\n",
       "      <td>AVE</td>\n",
       "      <td>...</td>\n",
       "      <td>0</td>\n",
       "      <td>0</td>\n",
       "      <td>0</td>\n",
       "      <td>1901</td>\n",
       "      <td>1964</td>\n",
       "      <td>0</td>\n",
       "      <td>0</td>\n",
       "      <td>0</td>\n",
       "      <td>3</td>\n",
       "      <td>0</td>\n",
       "    </tr>\n",
       "  </tbody>\n",
       "</table>\n",
       "<p>5 rows × 50 columns</p>\n",
       "</div>"
      ],
      "text/plain": [
       "   Major   Minor  BldgNbr  NbrLivingUnits                      Address  \\\n",
       "0     440     18        1               1    26503   68TH AVE S  98032   \n",
       "1     520     76        1               1     6740   MARS AVE S  98108   \n",
       "2     640      9        1               1  45521   212TH AVE SE  98022   \n",
       "3     660     11        1               1       520   3RD AVE S  98032   \n",
       "4     680     24        1               1    27124   78TH AVE S  98032   \n",
       "\n",
       "  BuildingNumber Fraction DirectionPrefix  StreetName                 \\\n",
       "0          26503                           68TH                        \n",
       "1          6740                            MARS                        \n",
       "2          45521                           212TH                       \n",
       "3          520                             3RD                         \n",
       "4          27124                           78TH                        \n",
       "\n",
       "  StreetType  ... FpMultiStory FpFreestanding  FpAdditional  YrBuilt  \\\n",
       "0     AVE     ...            0              0             0     1956   \n",
       "1     AVE     ...            1              0             1     1942   \n",
       "2     AVE     ...            0              0             0     1945   \n",
       "3     AVE     ...            0              0             0     1928   \n",
       "4     AVE     ...            0              0             0     1901   \n",
       "\n",
       "   YrRenovated  PcntComplete  Obsolescence  PcntNetCondition  Condition  \\\n",
       "0            0             0             0                 0          3   \n",
       "1            0             0             0                 0          3   \n",
       "2            0             0             0                 0          5   \n",
       "3            0             0             0                 0          4   \n",
       "4         1964             0             0                 0          3   \n",
       "\n",
       "   AddnlCost  \n",
       "0          0  \n",
       "1          0  \n",
       "2          0  \n",
       "3          0  \n",
       "4          0  \n",
       "\n",
       "[5 rows x 50 columns]"
      ]
     },
     "execution_count": 72,
     "metadata": {},
     "output_type": "execute_result"
    }
   ],
   "source": [
    "sales_df.head()\n",
    "resbldg_df.head()"
   ]
  },
  {
   "cell_type": "code",
   "execution_count": 73,
   "metadata": {},
   "outputs": [
    {
     "name": "stdout",
     "output_type": "stream",
     "text": [
      "<class 'pandas.core.frame.DataFrame'>\n",
      "RangeIndex: 2033420 entries, 0 to 2033419\n",
      "Data columns (total 24 columns):\n",
      "ExciseTaxNbr          int64\n",
      "Major                 object\n",
      "Minor                 object\n",
      "DocumentDate          object\n",
      "SalePrice             int64\n",
      "RecordingNbr          object\n",
      "Volume                object\n",
      "Page                  object\n",
      "PlatNbr               object\n",
      "PlatType              object\n",
      "PlatLot               object\n",
      "PlatBlock             object\n",
      "SellerName            object\n",
      "BuyerName             object\n",
      "PropertyType          int64\n",
      "PrincipalUse          int64\n",
      "SaleInstrument        int64\n",
      "AFForestLand          object\n",
      "AFCurrentUseLand      object\n",
      "AFNonProfitUse        object\n",
      "AFHistoricProperty    object\n",
      "SaleReason            int64\n",
      "PropertyClass         int64\n",
      "SaleWarning           object\n",
      "dtypes: int64(7), object(17)\n",
      "memory usage: 372.3+ MB\n",
      "<class 'pandas.core.frame.DataFrame'>\n",
      "RangeIndex: 512548 entries, 0 to 512547\n",
      "Data columns (total 50 columns):\n",
      "Major                        512548 non-null int64\n",
      "Minor                        512548 non-null int64\n",
      "BldgNbr                      512548 non-null int64\n",
      "NbrLivingUnits               512548 non-null int64\n",
      "Address                      512548 non-null object\n",
      "BuildingNumber               512548 non-null object\n",
      "Fraction                     512548 non-null object\n",
      "DirectionPrefix              511984 non-null object\n",
      "StreetName                   512548 non-null object\n",
      "StreetType                   512548 non-null object\n",
      "DirectionSuffix              511984 non-null object\n",
      "ZipCode                      468452 non-null object\n",
      "Stories                      512548 non-null float64\n",
      "BldgGrade                    512548 non-null int64\n",
      "BldgGradeVar                 512548 non-null int64\n",
      "SqFt1stFloor                 512548 non-null int64\n",
      "SqFtHalfFloor                512548 non-null int64\n",
      "SqFt2ndFloor                 512548 non-null int64\n",
      "SqFtUpperFloor               512548 non-null int64\n",
      "SqFtUnfinFull                512548 non-null int64\n",
      "SqFtUnfinHalf                512548 non-null int64\n",
      "SqFtTotLiving                512548 non-null int64\n",
      "SqFtTotBasement              512548 non-null int64\n",
      "SqFtFinBasement              512548 non-null int64\n",
      "FinBasementGrade             512548 non-null int64\n",
      "SqFtGarageBasement           512548 non-null int64\n",
      "SqFtGarageAttached           512548 non-null int64\n",
      "DaylightBasement             512548 non-null object\n",
      "SqFtOpenPorch                512548 non-null int64\n",
      "SqFtEnclosedPorch            512548 non-null int64\n",
      "SqFtDeck                     512548 non-null int64\n",
      "HeatSystem                   512548 non-null int64\n",
      "HeatSource                   512548 non-null int64\n",
      "BrickStone                   512548 non-null int64\n",
      "ViewUtilization              512548 non-null object\n",
      "Bedrooms                     512548 non-null int64\n",
      "BathHalfCount                512548 non-null int64\n",
      "Bath3qtrCount                512548 non-null int64\n",
      "BathFullCount                512548 non-null int64\n",
      "FpSingleStory                512548 non-null int64\n",
      "FpMultiStory                 512548 non-null int64\n",
      "FpFreestanding               512548 non-null int64\n",
      "FpAdditional                 512548 non-null int64\n",
      "YrBuilt                      512548 non-null int64\n",
      "YrRenovated                  512548 non-null int64\n",
      "PcntComplete                 512548 non-null int64\n",
      "Obsolescence                 512548 non-null int64\n",
      "PcntNetCondition             512548 non-null int64\n",
      "Condition                    512548 non-null int64\n",
      "AddnlCost                    512548 non-null int64\n",
      "dtypes: float64(1), int64(39), object(10)\n",
      "memory usage: 195.5+ MB\n"
     ]
    }
   ],
   "source": [
    "sales_df.info()\n",
    "resbldg_df.info()"
   ]
  },
  {
   "cell_type": "code",
   "execution_count": 74,
   "metadata": {},
   "outputs": [
    {
     "data": {
      "text/html": [
       "<div>\n",
       "<style scoped>\n",
       "    .dataframe tbody tr th:only-of-type {\n",
       "        vertical-align: middle;\n",
       "    }\n",
       "\n",
       "    .dataframe tbody tr th {\n",
       "        vertical-align: top;\n",
       "    }\n",
       "\n",
       "    .dataframe thead th {\n",
       "        text-align: right;\n",
       "    }\n",
       "</style>\n",
       "<table border=\"1\" class=\"dataframe\">\n",
       "  <thead>\n",
       "    <tr style=\"text-align: right;\">\n",
       "      <th></th>\n",
       "      <th>count</th>\n",
       "      <th>mean</th>\n",
       "      <th>std</th>\n",
       "      <th>min</th>\n",
       "      <th>25%</th>\n",
       "      <th>50%</th>\n",
       "      <th>75%</th>\n",
       "      <th>max</th>\n",
       "    </tr>\n",
       "  </thead>\n",
       "  <tbody>\n",
       "    <tr>\n",
       "      <th>ExciseTaxNbr</th>\n",
       "      <td>2033420.0</td>\n",
       "      <td>2.036498e+06</td>\n",
       "      <td>5.652761e+05</td>\n",
       "      <td>456583.0</td>\n",
       "      <td>1577760.75</td>\n",
       "      <td>2048009.5</td>\n",
       "      <td>2516264.25</td>\n",
       "      <td>2998042.0</td>\n",
       "    </tr>\n",
       "    <tr>\n",
       "      <th>SalePrice</th>\n",
       "      <td>2033420.0</td>\n",
       "      <td>5.925071e+05</td>\n",
       "      <td>6.009803e+06</td>\n",
       "      <td>-600.0</td>\n",
       "      <td>0.00</td>\n",
       "      <td>150000.0</td>\n",
       "      <td>350000.00</td>\n",
       "      <td>739885000.0</td>\n",
       "    </tr>\n",
       "    <tr>\n",
       "      <th>PropertyType</th>\n",
       "      <td>2033420.0</td>\n",
       "      <td>3.171057e+00</td>\n",
       "      <td>3.932915e+00</td>\n",
       "      <td>0.0</td>\n",
       "      <td>3.00</td>\n",
       "      <td>3.0</td>\n",
       "      <td>3.00</td>\n",
       "      <td>99.0</td>\n",
       "    </tr>\n",
       "    <tr>\n",
       "      <th>PrincipalUse</th>\n",
       "      <td>2033420.0</td>\n",
       "      <td>4.607211e+00</td>\n",
       "      <td>2.617056e+00</td>\n",
       "      <td>0.0</td>\n",
       "      <td>2.00</td>\n",
       "      <td>6.0</td>\n",
       "      <td>6.00</td>\n",
       "      <td>11.0</td>\n",
       "    </tr>\n",
       "    <tr>\n",
       "      <th>SaleInstrument</th>\n",
       "      <td>2033420.0</td>\n",
       "      <td>7.348003e+00</td>\n",
       "      <td>6.612247e+00</td>\n",
       "      <td>0.0</td>\n",
       "      <td>3.00</td>\n",
       "      <td>3.0</td>\n",
       "      <td>15.00</td>\n",
       "      <td>28.0</td>\n",
       "    </tr>\n",
       "    <tr>\n",
       "      <th>SaleReason</th>\n",
       "      <td>2033420.0</td>\n",
       "      <td>5.401358e+00</td>\n",
       "      <td>6.235909e+00</td>\n",
       "      <td>0.0</td>\n",
       "      <td>1.00</td>\n",
       "      <td>1.0</td>\n",
       "      <td>10.00</td>\n",
       "      <td>19.0</td>\n",
       "    </tr>\n",
       "    <tr>\n",
       "      <th>PropertyClass</th>\n",
       "      <td>2033420.0</td>\n",
       "      <td>6.509844e+00</td>\n",
       "      <td>2.483860e+00</td>\n",
       "      <td>0.0</td>\n",
       "      <td>3.00</td>\n",
       "      <td>8.0</td>\n",
       "      <td>8.00</td>\n",
       "      <td>9.0</td>\n",
       "    </tr>\n",
       "  </tbody>\n",
       "</table>\n",
       "</div>"
      ],
      "text/plain": [
       "                    count          mean           std       min         25%  \\\n",
       "ExciseTaxNbr    2033420.0  2.036498e+06  5.652761e+05  456583.0  1577760.75   \n",
       "SalePrice       2033420.0  5.925071e+05  6.009803e+06    -600.0        0.00   \n",
       "PropertyType    2033420.0  3.171057e+00  3.932915e+00       0.0        3.00   \n",
       "PrincipalUse    2033420.0  4.607211e+00  2.617056e+00       0.0        2.00   \n",
       "SaleInstrument  2033420.0  7.348003e+00  6.612247e+00       0.0        3.00   \n",
       "SaleReason      2033420.0  5.401358e+00  6.235909e+00       0.0        1.00   \n",
       "PropertyClass   2033420.0  6.509844e+00  2.483860e+00       0.0        3.00   \n",
       "\n",
       "                      50%         75%          max  \n",
       "ExciseTaxNbr    2048009.5  2516264.25    2998042.0  \n",
       "SalePrice        150000.0   350000.00  739885000.0  \n",
       "PropertyType          3.0        3.00         99.0  \n",
       "PrincipalUse          6.0        6.00         11.0  \n",
       "SaleInstrument        3.0       15.00         28.0  \n",
       "SaleReason            1.0       10.00         19.0  \n",
       "PropertyClass         8.0        8.00          9.0  "
      ]
     },
     "execution_count": 74,
     "metadata": {},
     "output_type": "execute_result"
    }
   ],
   "source": [
    "sales_df.describe().T"
   ]
  },
  {
   "cell_type": "code",
   "execution_count": 79,
   "metadata": {},
   "outputs": [
    {
     "data": {
      "text/plain": [
       "0"
      ]
     },
     "execution_count": 79,
     "metadata": {},
     "output_type": "execute_result"
    }
   ],
   "source": [
    "sales_df.duplicated().sum() #0 duplicated rows\n",
    "resbldg_df.duplicated().sum()    #0 duplicated rows"
   ]
  },
  {
   "cell_type": "code",
   "execution_count": 76,
   "metadata": {},
   "outputs": [
    {
     "data": {
      "text/plain": [
       "Major                            0\n",
       "Minor                            0\n",
       "BldgNbr                          0\n",
       "NbrLivingUnits                   0\n",
       "Address                          0\n",
       "BuildingNumber                   0\n",
       "Fraction                         0\n",
       "DirectionPrefix                564\n",
       "StreetName                       0\n",
       "StreetType                       0\n",
       "DirectionSuffix                564\n",
       "ZipCode                      44096\n",
       "Stories                          0\n",
       "BldgGrade                        0\n",
       "BldgGradeVar                     0\n",
       "SqFt1stFloor                     0\n",
       "SqFtHalfFloor                    0\n",
       "SqFt2ndFloor                     0\n",
       "SqFtUpperFloor                   0\n",
       "SqFtUnfinFull                    0\n",
       "SqFtUnfinHalf                    0\n",
       "SqFtTotLiving                    0\n",
       "SqFtTotBasement                  0\n",
       "SqFtFinBasement                  0\n",
       "FinBasementGrade                 0\n",
       "SqFtGarageBasement               0\n",
       "SqFtGarageAttached               0\n",
       "DaylightBasement                 0\n",
       "SqFtOpenPorch                    0\n",
       "SqFtEnclosedPorch                0\n",
       "SqFtDeck                         0\n",
       "HeatSystem                       0\n",
       "HeatSource                       0\n",
       "BrickStone                       0\n",
       "ViewUtilization                  0\n",
       "Bedrooms                         0\n",
       "BathHalfCount                    0\n",
       "Bath3qtrCount                    0\n",
       "BathFullCount                    0\n",
       "FpSingleStory                    0\n",
       "FpMultiStory                     0\n",
       "FpFreestanding                   0\n",
       "FpAdditional                     0\n",
       "YrBuilt                          0\n",
       "YrRenovated                      0\n",
       "PcntComplete                     0\n",
       "Obsolescence                     0\n",
       "PcntNetCondition                 0\n",
       "Condition                        0\n",
       "AddnlCost                        0\n",
       "dtype: int64"
      ]
     },
     "execution_count": 76,
     "metadata": {},
     "output_type": "execute_result"
    }
   ],
   "source": [
    "sales_df.isna().sum()    #no NAs\n",
    "resbldg_df.isna().sum()     #has NAs"
   ]
  },
  {
   "cell_type": "code",
   "execution_count": 80,
   "metadata": {},
   "outputs": [
    {
     "name": "stdout",
     "output_type": "stream",
     "text": [
      "(2033420, 24)\n",
      "(2033420, 24)\n"
     ]
    }
   ],
   "source": [
    "sales_df1 = sales_df.loc[:, (sales_df != 0).any(axis=0)]   #No rows with all zeros\n",
    "print(sales_df.shape)\n",
    "print(sales_df1.shape)"
   ]
  },
  {
   "cell_type": "code",
   "execution_count": 81,
   "metadata": {},
   "outputs": [
    {
     "name": "stdout",
     "output_type": "stream",
     "text": [
      "(512548, 50)\n",
      "(512548, 50)\n"
     ]
    }
   ],
   "source": [
    "resbldg_df1 = resbldg_df.loc[:, (resbldg_df != 0).any(axis=0)]   #No rows with all zeros\n",
    "print(resbldg_df.shape)\n",
    "print(resbldg_df1.shape)"
   ]
  },
  {
   "cell_type": "code",
   "execution_count": 82,
   "metadata": {},
   "outputs": [
    {
     "data": {
      "text/plain": [
       "Index(['Major ', 'Minor', 'BldgNbr', 'NbrLivingUnits', 'Address',\n",
       "       'BuildingNumber', 'Fraction', 'DirectionPrefix',\n",
       "       'StreetName               ', 'StreetType', 'DirectionSuffix', 'ZipCode',\n",
       "       'Stories   ', 'BldgGrade', 'BldgGradeVar', 'SqFt1stFloor',\n",
       "       'SqFtHalfFloor', 'SqFt2ndFloor', 'SqFtUpperFloor', 'SqFtUnfinFull',\n",
       "       'SqFtUnfinHalf', 'SqFtTotLiving', 'SqFtTotBasement', 'SqFtFinBasement',\n",
       "       'FinBasementGrade', 'SqFtGarageBasement', 'SqFtGarageAttached',\n",
       "       'DaylightBasement', 'SqFtOpenPorch', 'SqFtEnclosedPorch', 'SqFtDeck  ',\n",
       "       'HeatSystem', 'HeatSource', 'BrickStone', 'ViewUtilization', 'Bedrooms',\n",
       "       'BathHalfCount', 'Bath3qtrCount', 'BathFullCount', 'FpSingleStory',\n",
       "       'FpMultiStory', 'FpFreestanding', 'FpAdditional', 'YrBuilt',\n",
       "       'YrRenovated', 'PcntComplete', 'Obsolescence', 'PcntNetCondition',\n",
       "       'Condition', 'AddnlCost'],\n",
       "      dtype='object')"
      ]
     },
     "execution_count": 82,
     "metadata": {},
     "output_type": "execute_result"
    }
   ],
   "source": [
    "resbldg_df.columns    #space in column headers"
   ]
  },
  {
   "cell_type": "code",
   "execution_count": 83,
   "metadata": {},
   "outputs": [],
   "source": [
    "resbldg_df2 = resbldg_df.rename(columns={'Major ': 'Major', 'SqFtDeck  ': 'SqFtDeck'})   #renaming column header"
   ]
  },
  {
   "cell_type": "markdown",
   "metadata": {},
   "source": [
    "## Business Understanding: \n",
    "### Build a model to predict king county house sale prices"
   ]
  },
  {
   "cell_type": "code",
   "execution_count": 84,
   "metadata": {},
   "outputs": [
    {
     "data": {
      "text/html": [
       "<div>\n",
       "<style scoped>\n",
       "    .dataframe tbody tr th:only-of-type {\n",
       "        vertical-align: middle;\n",
       "    }\n",
       "\n",
       "    .dataframe tbody tr th {\n",
       "        vertical-align: top;\n",
       "    }\n",
       "\n",
       "    .dataframe thead th {\n",
       "        text-align: right;\n",
       "    }\n",
       "</style>\n",
       "<table border=\"1\" class=\"dataframe\">\n",
       "  <thead>\n",
       "    <tr style=\"text-align: right;\">\n",
       "      <th></th>\n",
       "      <th>Major</th>\n",
       "      <th>Minor</th>\n",
       "      <th>SqFtTotLiving</th>\n",
       "      <th>Bedrooms</th>\n",
       "      <th>SqFtGarageAttached</th>\n",
       "      <th>Condition</th>\n",
       "      <th>SqFtDeck</th>\n",
       "      <th>BathFullCount</th>\n",
       "      <th>ZipCode</th>\n",
       "      <th>HeatSystem</th>\n",
       "      <th>YrBuilt</th>\n",
       "    </tr>\n",
       "  </thead>\n",
       "  <tbody>\n",
       "    <tr>\n",
       "      <th>0</th>\n",
       "      <td>440</td>\n",
       "      <td>18</td>\n",
       "      <td>1430</td>\n",
       "      <td>3</td>\n",
       "      <td>0</td>\n",
       "      <td>3</td>\n",
       "      <td>130</td>\n",
       "      <td>1</td>\n",
       "      <td>98032</td>\n",
       "      <td>5</td>\n",
       "      <td>1956</td>\n",
       "    </tr>\n",
       "    <tr>\n",
       "      <th>1</th>\n",
       "      <td>520</td>\n",
       "      <td>76</td>\n",
       "      <td>2070</td>\n",
       "      <td>3</td>\n",
       "      <td>0</td>\n",
       "      <td>3</td>\n",
       "      <td>0</td>\n",
       "      <td>2</td>\n",
       "      <td>98108</td>\n",
       "      <td>5</td>\n",
       "      <td>1942</td>\n",
       "    </tr>\n",
       "    <tr>\n",
       "      <th>2</th>\n",
       "      <td>640</td>\n",
       "      <td>9</td>\n",
       "      <td>850</td>\n",
       "      <td>2</td>\n",
       "      <td>0</td>\n",
       "      <td>5</td>\n",
       "      <td>0</td>\n",
       "      <td>1</td>\n",
       "      <td>98022</td>\n",
       "      <td>4</td>\n",
       "      <td>1945</td>\n",
       "    </tr>\n",
       "    <tr>\n",
       "      <th>3</th>\n",
       "      <td>660</td>\n",
       "      <td>11</td>\n",
       "      <td>840</td>\n",
       "      <td>2</td>\n",
       "      <td>0</td>\n",
       "      <td>4</td>\n",
       "      <td>0</td>\n",
       "      <td>1</td>\n",
       "      <td>98032</td>\n",
       "      <td>5</td>\n",
       "      <td>1928</td>\n",
       "    </tr>\n",
       "    <tr>\n",
       "      <th>4</th>\n",
       "      <td>680</td>\n",
       "      <td>24</td>\n",
       "      <td>1390</td>\n",
       "      <td>3</td>\n",
       "      <td>0</td>\n",
       "      <td>3</td>\n",
       "      <td>60</td>\n",
       "      <td>1</td>\n",
       "      <td>98032</td>\n",
       "      <td>4</td>\n",
       "      <td>1901</td>\n",
       "    </tr>\n",
       "  </tbody>\n",
       "</table>\n",
       "</div>"
      ],
      "text/plain": [
       "   Major  Minor  SqFtTotLiving  Bedrooms  SqFtGarageAttached  Condition  \\\n",
       "0    440     18           1430         3                   0          3   \n",
       "1    520     76           2070         3                   0          3   \n",
       "2    640      9            850         2                   0          5   \n",
       "3    660     11            840         2                   0          4   \n",
       "4    680     24           1390         3                   0          3   \n",
       "\n",
       "   SqFtDeck  BathFullCount ZipCode  HeatSystem  YrBuilt  \n",
       "0       130              1   98032           5     1956  \n",
       "1         0              2   98108           5     1942  \n",
       "2         0              1   98022           4     1945  \n",
       "3         0              1   98032           5     1928  \n",
       "4        60              1   98032           4     1901  "
      ]
     },
     "execution_count": 84,
     "metadata": {},
     "output_type": "execute_result"
    }
   ],
   "source": [
    "#choosing initial features\n",
    "sales_df2 = sales_df1[['Major', 'Minor', 'SalePrice']]     \n",
    "resbldg_df3 = resbldg_df2[['Major', 'Minor', 'SqFtTotLiving', 'Bedrooms', 'SqFtGarageAttached',   \n",
    "                   'Condition', 'SqFtDeck','BathFullCount', 'ZipCode','HeatSystem', 'YrBuilt']] \n",
    "\n",
    "resbldg_df3.head()"
   ]
  },
  {
   "cell_type": "code",
   "execution_count": 85,
   "metadata": {},
   "outputs": [
    {
     "name": "stderr",
     "output_type": "stream",
     "text": [
      "/Users/flatironschool/anaconda3/envs/learn/lib/python3.7/site-packages/ipykernel_launcher.py:1: SettingWithCopyWarning: \n",
      "A value is trying to be set on a copy of a slice from a DataFrame.\n",
      "Try using .loc[row_indexer,col_indexer] = value instead\n",
      "\n",
      "See the caveats in the documentation: http://pandas.pydata.org/pandas-docs/stable/indexing.html#indexing-view-versus-copy\n",
      "  \"\"\"Entry point for launching an IPython kernel.\n",
      "/Users/flatironschool/anaconda3/envs/learn/lib/python3.7/site-packages/ipykernel_launcher.py:2: SettingWithCopyWarning: \n",
      "A value is trying to be set on a copy of a slice from a DataFrame.\n",
      "Try using .loc[row_indexer,col_indexer] = value instead\n",
      "\n",
      "See the caveats in the documentation: http://pandas.pydata.org/pandas-docs/stable/indexing.html#indexing-view-versus-copy\n",
      "  \n",
      "/Users/flatironschool/anaconda3/envs/learn/lib/python3.7/site-packages/ipykernel_launcher.py:3: SettingWithCopyWarning: \n",
      "A value is trying to be set on a copy of a slice from a DataFrame.\n",
      "Try using .loc[row_indexer,col_indexer] = value instead\n",
      "\n",
      "See the caveats in the documentation: http://pandas.pydata.org/pandas-docs/stable/indexing.html#indexing-view-versus-copy\n",
      "  This is separate from the ipykernel package so we can avoid doing imports until\n"
     ]
    },
    {
     "data": {
      "text/html": [
       "<div>\n",
       "<style scoped>\n",
       "    .dataframe tbody tr th:only-of-type {\n",
       "        vertical-align: middle;\n",
       "    }\n",
       "\n",
       "    .dataframe tbody tr th {\n",
       "        vertical-align: top;\n",
       "    }\n",
       "\n",
       "    .dataframe thead th {\n",
       "        text-align: right;\n",
       "    }\n",
       "</style>\n",
       "<table border=\"1\" class=\"dataframe\">\n",
       "  <thead>\n",
       "    <tr style=\"text-align: right;\">\n",
       "      <th></th>\n",
       "      <th>Major</th>\n",
       "      <th>Minor</th>\n",
       "      <th>SalePrice</th>\n",
       "      <th>SqFtTotLiving</th>\n",
       "      <th>Bedrooms</th>\n",
       "      <th>SqFtGarageAttached</th>\n",
       "      <th>Condition</th>\n",
       "      <th>SqFtDeck</th>\n",
       "      <th>BathFullCount</th>\n",
       "      <th>ZipCode</th>\n",
       "      <th>HeatSystem</th>\n",
       "      <th>YrBuilt</th>\n",
       "    </tr>\n",
       "  </thead>\n",
       "  <tbody>\n",
       "    <tr>\n",
       "      <th>0</th>\n",
       "      <td>138860.0</td>\n",
       "      <td>110.0</td>\n",
       "      <td>245000</td>\n",
       "      <td>1490</td>\n",
       "      <td>3</td>\n",
       "      <td>500</td>\n",
       "      <td>3</td>\n",
       "      <td>0</td>\n",
       "      <td>2</td>\n",
       "      <td>98002</td>\n",
       "      <td>5</td>\n",
       "      <td>1989</td>\n",
       "    </tr>\n",
       "    <tr>\n",
       "      <th>1</th>\n",
       "      <td>138860.0</td>\n",
       "      <td>110.0</td>\n",
       "      <td>109300</td>\n",
       "      <td>1490</td>\n",
       "      <td>3</td>\n",
       "      <td>500</td>\n",
       "      <td>3</td>\n",
       "      <td>0</td>\n",
       "      <td>2</td>\n",
       "      <td>98002</td>\n",
       "      <td>5</td>\n",
       "      <td>1989</td>\n",
       "    </tr>\n",
       "    <tr>\n",
       "      <th>2</th>\n",
       "      <td>138860.0</td>\n",
       "      <td>110.0</td>\n",
       "      <td>14684</td>\n",
       "      <td>1490</td>\n",
       "      <td>3</td>\n",
       "      <td>500</td>\n",
       "      <td>3</td>\n",
       "      <td>0</td>\n",
       "      <td>2</td>\n",
       "      <td>98002</td>\n",
       "      <td>5</td>\n",
       "      <td>1989</td>\n",
       "    </tr>\n",
       "    <tr>\n",
       "      <th>3</th>\n",
       "      <td>138860.0</td>\n",
       "      <td>110.0</td>\n",
       "      <td>0</td>\n",
       "      <td>1490</td>\n",
       "      <td>3</td>\n",
       "      <td>500</td>\n",
       "      <td>3</td>\n",
       "      <td>0</td>\n",
       "      <td>2</td>\n",
       "      <td>98002</td>\n",
       "      <td>5</td>\n",
       "      <td>1989</td>\n",
       "    </tr>\n",
       "    <tr>\n",
       "      <th>4</th>\n",
       "      <td>423943.0</td>\n",
       "      <td>50.0</td>\n",
       "      <td>0</td>\n",
       "      <td>960</td>\n",
       "      <td>3</td>\n",
       "      <td>240</td>\n",
       "      <td>4</td>\n",
       "      <td>0</td>\n",
       "      <td>1</td>\n",
       "      <td>98092</td>\n",
       "      <td>4</td>\n",
       "      <td>1969</td>\n",
       "    </tr>\n",
       "  </tbody>\n",
       "</table>\n",
       "</div>"
      ],
      "text/plain": [
       "      Major  Minor  SalePrice  SqFtTotLiving  Bedrooms  SqFtGarageAttached  \\\n",
       "0  138860.0  110.0     245000           1490         3                 500   \n",
       "1  138860.0  110.0     109300           1490         3                 500   \n",
       "2  138860.0  110.0      14684           1490         3                 500   \n",
       "3  138860.0  110.0          0           1490         3                 500   \n",
       "4  423943.0   50.0          0            960         3                 240   \n",
       "\n",
       "   Condition  SqFtDeck  BathFullCount ZipCode  HeatSystem  YrBuilt  \n",
       "0          3         0              2   98002           5     1989  \n",
       "1          3         0              2   98002           5     1989  \n",
       "2          3         0              2   98002           5     1989  \n",
       "3          3         0              2   98002           5     1989  \n",
       "4          4         0              1   98092           4     1969  "
      ]
     },
     "execution_count": 85,
     "metadata": {},
     "output_type": "execute_result"
    }
   ],
   "source": [
    "sales_df2['Major'] = pd.to_numeric(sales_df2['Major'], errors='coerce')    #objects into float\n",
    "sales_df2['Minor'] = pd.to_numeric(sales_df2['Minor'], errors='coerce')\n",
    "resbldg_df3['Major'] = pd.to_numeric(resbldg_df3['Major'], errors='coerce')\n",
    "\n",
    "sales_data = pd.merge(sales_df2, resbldg_df3, on=['Major', 'Minor'])       #merge datasets\n",
    "sales_data.head()"
   ]
  },
  {
   "cell_type": "code",
   "execution_count": 63,
   "metadata": {},
   "outputs": [],
   "source": [
    "#Do a histogram to see the sale price distribution. \n",
    "#For initial visualization, droppping the top and lowest 10% of sale prices \n",
    "\n",
    "\n",
    "import numpy as np        \n",
    "lowest_10percent = np.percentile(sales_data['SalePrice'], 10)\n",
    "highest_90percent = np.percentile(sales_data['SalePrice'], 90)\n",
    "\n",
    "sales_data1 = sales_data[sales_data['SalePrice'] > lowest_10percent]\n",
    "sales_data2 = sales_data1[sales_data1['SalePrice'] < highest_90percent] "
   ]
  },
  {
   "cell_type": "code",
   "execution_count": 64,
   "metadata": {},
   "outputs": [
    {
     "data": {
      "image/png": "[encoded data removed]",
      "text/plain": [
       "<Figure size 432x288 with 1 Axes>"
      ]
     },
     "metadata": {
      "needs_background": "light"
     },
     "output_type": "display_data"
    }
   ],
   "source": [
    "import matplotlib.pyplot as plt    \n",
    "%matplotlib inline\n",
    "\n",
    "plt.hist(sales_data2['SalePrice'], bins=30000)\n",
    "plt.show()"
   ]
  },
  {
   "cell_type": "code",
   "execution_count": 65,
   "metadata": {},
   "outputs": [
    {
     "data": {
      "image/png": "[encoded data removed]",
      "text/plain": [
       "<Figure size 432x288 with 1 Axes>"
      ]
     },
     "metadata": {
      "needs_background": "light"
     },
     "output_type": "display_data"
    }
   ],
   "source": [
    "#Histogram above shows that sale prices are not normally distributed.\n",
    "# log transforming and regenerating histogram on all SalePrices. \n",
    "#Histogram shows log transformed prices are normally distributed.\n",
    "fig, ax = plt.subplots()\n",
    "ax.hist(np.log(sales_data[sales_data['SalePrice']> 0]['SalePrice']), bins=50);"
   ]
  },
  {
   "cell_type": "markdown",
   "metadata": {},
   "source": [
    "## Feature Engineering"
   ]
  },
  {
   "cell_type": "code",
   "execution_count": 86,
   "metadata": {},
   "outputs": [
    {
     "name": "stdout",
     "output_type": "stream",
     "text": [
      "                    Null Count\n",
      "Feature                       \n",
      "ZipCode                 118382\n",
      "YrBuilt                      0\n",
      "HeatSystem                   0\n",
      "BathFullCount                0\n",
      "SqFtDeck                     0\n",
      "Condition                    0\n",
      "SqFtGarageAttached           0\n",
      "Bedrooms                     0\n",
      "SqFtTotLiving                0\n",
      "SalePrice                    0\n",
      "Minor                        0\n",
      "Major                        0\n"
     ]
    }
   ],
   "source": [
    "# Handling the null values\n",
    "nulls = pd.DataFrame(sales_data.isnull().sum().sort_values(ascending=False))    \n",
    "nulls.columns = ['Null Count']\n",
    "nulls.index.name = 'Feature'\n",
    "print(nulls)"
   ]
  },
  {
   "cell_type": "code",
   "execution_count": 87,
   "metadata": {},
   "outputs": [
    {
     "name": "stdout",
     "output_type": "stream",
     "text": [
      "                        0\n",
      "ZipCode             83817\n",
      "YrBuilt                 0\n",
      "HeatSystem              0\n",
      "BathFullCount           0\n",
      "SqFtDeck                0\n",
      "Condition               0\n",
      "SqFtGarageAttached      0\n",
      "Bedrooms                0\n",
      "SqFtTotLiving           0\n",
      "SalePrice               0\n",
      "Minor                   0\n",
      "Major                   0\n"
     ]
    },
    {
     "data": {
      "text/plain": [
       "(959055, 12)"
      ]
     },
     "execution_count": 87,
     "metadata": {},
     "output_type": "execute_result"
    }
   ],
   "source": [
    "#remove nulls in ZipCode\n",
    "sales_data = sales_data.dropna(subset = ['ZipCode'])                     \n",
    "nulls1 = pd.DataFrame(sales_data1.isnull().sum().sort_values(ascending=False))\n",
    "print(nulls1)\n",
    "\n",
    "sales_data1.shape                        "
   ]
  },
  {
   "cell_type": "code",
   "execution_count": 88,
   "metadata": {},
   "outputs": [
    {
     "data": {
      "text/plain": [
       "(875238, 12)"
      ]
     },
     "execution_count": 88,
     "metadata": {},
     "output_type": "execute_result"
    }
   ],
   "source": [
    "#Keep only the positive values for sale price\n",
    "sales_data = sales_data[sales_data['SalePrice'] > 0]\n",
    "sales_data['SalePrice'].min()\n",
    "sales_data.shape"
   ]
  },
  {
   "cell_type": "code",
   "execution_count": 89,
   "metadata": {},
   "outputs": [
    {
     "data": {
      "text/html": [
       "<div>\n",
       "<style scoped>\n",
       "    .dataframe tbody tr th:only-of-type {\n",
       "        vertical-align: middle;\n",
       "    }\n",
       "\n",
       "    .dataframe tbody tr th {\n",
       "        vertical-align: top;\n",
       "    }\n",
       "\n",
       "    .dataframe thead th {\n",
       "        text-align: right;\n",
       "    }\n",
       "</style>\n",
       "<table border=\"1\" class=\"dataframe\">\n",
       "  <thead>\n",
       "    <tr style=\"text-align: right;\">\n",
       "      <th></th>\n",
       "      <th>0</th>\n",
       "      <th>1</th>\n",
       "      <th>2</th>\n",
       "      <th>6</th>\n",
       "      <th>7</th>\n",
       "    </tr>\n",
       "  </thead>\n",
       "  <tbody>\n",
       "    <tr>\n",
       "      <th>Major</th>\n",
       "      <td>138860</td>\n",
       "      <td>138860</td>\n",
       "      <td>138860</td>\n",
       "      <td>423943</td>\n",
       "      <td>423943</td>\n",
       "    </tr>\n",
       "    <tr>\n",
       "      <th>Minor</th>\n",
       "      <td>110</td>\n",
       "      <td>110</td>\n",
       "      <td>110</td>\n",
       "      <td>50</td>\n",
       "      <td>50</td>\n",
       "    </tr>\n",
       "    <tr>\n",
       "      <th>SalePrice</th>\n",
       "      <td>245000</td>\n",
       "      <td>109300</td>\n",
       "      <td>14684</td>\n",
       "      <td>96000</td>\n",
       "      <td>127500</td>\n",
       "    </tr>\n",
       "    <tr>\n",
       "      <th>SqFtTotLiving</th>\n",
       "      <td>1490</td>\n",
       "      <td>1490</td>\n",
       "      <td>1490</td>\n",
       "      <td>960</td>\n",
       "      <td>960</td>\n",
       "    </tr>\n",
       "    <tr>\n",
       "      <th>Bedrooms</th>\n",
       "      <td>3</td>\n",
       "      <td>3</td>\n",
       "      <td>3</td>\n",
       "      <td>3</td>\n",
       "      <td>3</td>\n",
       "    </tr>\n",
       "    <tr>\n",
       "      <th>SqFtGarageAttached</th>\n",
       "      <td>500</td>\n",
       "      <td>500</td>\n",
       "      <td>500</td>\n",
       "      <td>240</td>\n",
       "      <td>240</td>\n",
       "    </tr>\n",
       "    <tr>\n",
       "      <th>Condition</th>\n",
       "      <td>3</td>\n",
       "      <td>3</td>\n",
       "      <td>3</td>\n",
       "      <td>4</td>\n",
       "      <td>4</td>\n",
       "    </tr>\n",
       "    <tr>\n",
       "      <th>SqFtDeck</th>\n",
       "      <td>0</td>\n",
       "      <td>0</td>\n",
       "      <td>0</td>\n",
       "      <td>0</td>\n",
       "      <td>0</td>\n",
       "    </tr>\n",
       "    <tr>\n",
       "      <th>BathFullCount</th>\n",
       "      <td>2</td>\n",
       "      <td>2</td>\n",
       "      <td>2</td>\n",
       "      <td>1</td>\n",
       "      <td>1</td>\n",
       "    </tr>\n",
       "    <tr>\n",
       "      <th>ZipCode</th>\n",
       "      <td>98002</td>\n",
       "      <td>98002</td>\n",
       "      <td>98002</td>\n",
       "      <td>98092</td>\n",
       "      <td>98092</td>\n",
       "    </tr>\n",
       "    <tr>\n",
       "      <th>HeatSystem</th>\n",
       "      <td>5</td>\n",
       "      <td>5</td>\n",
       "      <td>5</td>\n",
       "      <td>4</td>\n",
       "      <td>4</td>\n",
       "    </tr>\n",
       "    <tr>\n",
       "      <th>YrBuilt</th>\n",
       "      <td>1989</td>\n",
       "      <td>1989</td>\n",
       "      <td>1989</td>\n",
       "      <td>1969</td>\n",
       "      <td>1969</td>\n",
       "    </tr>\n",
       "    <tr>\n",
       "      <th>LogSalePrice</th>\n",
       "      <td>12.409</td>\n",
       "      <td>11.6019</td>\n",
       "      <td>9.59451</td>\n",
       "      <td>11.4721</td>\n",
       "      <td>11.7559</td>\n",
       "    </tr>\n",
       "  </tbody>\n",
       "</table>\n",
       "</div>"
      ],
      "text/plain": [
       "                         0        1        2        6        7\n",
       "Major               138860   138860   138860   423943   423943\n",
       "Minor                  110      110      110       50       50\n",
       "SalePrice           245000   109300    14684    96000   127500\n",
       "SqFtTotLiving         1490     1490     1490      960      960\n",
       "Bedrooms                 3        3        3        3        3\n",
       "SqFtGarageAttached     500      500      500      240      240\n",
       "Condition                3        3        3        4        4\n",
       "SqFtDeck                 0        0        0        0        0\n",
       "BathFullCount            2        2        2        1        1\n",
       "ZipCode              98002    98002    98002    98092    98092\n",
       "HeatSystem               5        5        5        4        4\n",
       "YrBuilt               1989     1989     1989     1969     1969\n",
       "LogSalePrice        12.409  11.6019  9.59451  11.4721  11.7559"
      ]
     },
     "execution_count": 89,
     "metadata": {},
     "output_type": "execute_result"
    }
   ],
   "source": [
    "# Adding LogSalePrice values as a new column to build the model on log sale prices as our target   \n",
    "# instead of raw sale prices.\n",
    "sales_data['LogSalePrice']=np.log(sales_data['SalePrice'])\n",
    "sales_data.head().T"
   ]
  },
  {
   "cell_type": "code",
   "execution_count": 90,
   "metadata": {},
   "outputs": [
    {
     "name": "stdout",
     "output_type": "stream",
     "text": [
      "12.520955934374548\n",
      "0.9381028190239706\n",
      "10.644750296326606\n",
      "14.39716157242249\n"
     ]
    }
   ],
   "source": [
    "# keeping the target values above mean minus two standard deviation \n",
    "# And below mean plus two standard deviation\n",
    "#This includes 95% of our target values since logSalePrice is normally distributed. \n",
    "print(sales_data['LogSalePrice'].mean())\n",
    "print(sales_data['LogSalePrice'].std())\n",
    "\n",
    "mean_minus_twostdv = sales_data['LogSalePrice'].mean() - sales_data['LogSalePrice'].std()*2\n",
    "mean_plus_twostdv = sales_data['LogSalePrice'].mean() + sales_data['LogSalePrice'].std()*2\n",
    "print(mean_minus_twostdv)\n",
    "print(mean_plus_twostdv)"
   ]
  },
  {
   "cell_type": "code",
   "execution_count": 91,
   "metadata": {},
   "outputs": [
    {
     "data": {
      "text/plain": [
       "count    840570.000000\n",
       "mean         12.529701\n",
       "std           0.707699\n",
       "min          10.644901\n",
       "25%          12.040313\n",
       "50%          12.535376\n",
       "75%          13.008345\n",
       "max          14.396608\n",
       "Name: LogSalePrice, dtype: float64"
      ]
     },
     "execution_count": 91,
     "metadata": {},
     "output_type": "execute_result"
    }
   ],
   "source": [
    "sales_data = sales_data[(sales_data['LogSalePrice'] < mean_plus_twostdv) & \n",
    "                         (mean_minus_twostdv < sales_data['LogSalePrice'])]\n",
    "sales_data.head()\n",
    "sales_data['LogSalePrice'].describe()"
   ]
  },
  {
   "cell_type": "code",
   "execution_count": 92,
   "metadata": {},
   "outputs": [
    {
     "data": {
      "text/plain": [
       "15064    98033-4917\n",
       "15065    98033-4917\n",
       "15066    98033-4917\n",
       "15067    98033-4917\n",
       "15068    98033-4917\n",
       "Name: ZipCode, dtype: object"
      ]
     },
     "execution_count": 92,
     "metadata": {},
     "output_type": "execute_result"
    }
   ],
   "source": [
    "#keep only the first 5 digits of ZipCode.\n",
    "def is_integer(x):\n",
    "   try:\n",
    "       _ = int(x)\n",
    "   except ValueError:\n",
    "       return False\n",
    "   return True\n",
    "\n",
    "stringed_zips = sales_data.loc[sales_data['ZipCode'].apply(is_integer) == False, 'ZipCode']\n",
    "stringed_zips.head()"
   ]
  },
  {
   "cell_type": "code",
   "execution_count": 93,
   "metadata": {},
   "outputs": [
    {
     "data": {
      "text/plain": [
       "(840570, 14)"
      ]
     },
     "execution_count": 93,
     "metadata": {},
     "output_type": "execute_result"
    }
   ],
   "source": [
    "def zipcode_short(x):\n",
    "    return str(x)[:5]\n",
    "\n",
    "sales_data['New_zip'] = sales_data['ZipCode'].map(zipcode_short)\n",
    "sales_data.head().T\n",
    "sales_data.shape"
   ]
  },
  {
   "cell_type": "code",
   "execution_count": 94,
   "metadata": {},
   "outputs": [
    {
     "data": {
      "text/plain": [
       "Series([], Name: New_zip, dtype: object)"
      ]
     },
     "execution_count": 94,
     "metadata": {},
     "output_type": "execute_result"
    }
   ],
   "source": [
    "#remove \"WA\", space, and \"A\",\"B\" as ZipCodes\n",
    "sales_data.drop(sales_data[ sales_data['New_zip'] == \"WA\" ].index , inplace=True)\n",
    "sales_data.drop(sales_data[ sales_data['New_zip'] == \" \" ].index , inplace=True)\n",
    "sales_data.drop(sales_data[ sales_data['New_zip'] == \"B\" ].index , inplace=True)\n",
    "sales_data.drop(sales_data[ sales_data['New_zip'] == \"A\" ].index , inplace=True)\n",
    "\n",
    "stringed_zips = sales_data.loc[sales_data['New_zip'].apply(is_integer) == False, 'New_zip']\n",
    "stringed_zips"
   ]
  },
  {
   "cell_type": "code",
   "execution_count": 95,
   "metadata": {},
   "outputs": [],
   "source": [
    "from sklearn.preprocessing import StandardScaler\n",
    "from sklearn.linear_model import LinearRegression\n",
    "from sklearn.model_selection import train_test_split\n",
    "import sklearn.metrics as metrics\n",
    "import seaborn as sns"
   ]
  },
  {
   "cell_type": "code",
   "execution_count": 96,
   "metadata": {},
   "outputs": [
    {
     "name": "stdout",
     "output_type": "stream",
     "text": [
      "LogSalePrice          1.000000\n",
      "SalePrice             0.904433\n",
      "SqFtTotLiving         0.413686\n",
      "BathFullCount         0.249989\n",
      "Bedrooms              0.214961\n",
      "SqFtGarageAttached    0.169400\n",
      "HeatSystem            0.147714\n",
      "YrBuilt               0.140826\n",
      "SqFtDeck              0.137115\n",
      "Condition             0.022986\n",
      "Major                 0.015677\n",
      "Minor                 0.010830\n",
      "Name: LogSalePrice, dtype: float64\n"
     ]
    }
   ],
   "source": [
    "#Initial correlation top 5.\n",
    "numeric_feature = sales_data.select_dtypes(include=[np.number])\n",
    "corr = numeric_feature.corr()\n",
    "\n",
    "print(abs(corr['LogSalePrice']).sort_values(ascending=False))"
   ]
  },
  {
   "cell_type": "code",
   "execution_count": 97,
   "metadata": {},
   "outputs": [],
   "source": [
    "#concatenate Major and Minor into PIN\n",
    "sales_data['Major'] = sales_data.Major.astype(int)\n",
    "sales_data['Minor'] = sales_data.Minor.astype(int)"
   ]
  },
  {
   "cell_type": "code",
   "execution_count": 98,
   "metadata": {},
   "outputs": [
    {
     "data": {
      "text/plain": [
       "(840559, 15)"
      ]
     },
     "execution_count": 98,
     "metadata": {},
     "output_type": "execute_result"
    }
   ],
   "source": [
    "sales_data['Pin'] = sales_data.Major.astype(str) + sales_data.Minor.astype(str)\n",
    "sales_data.shape"
   ]
  },
  {
   "cell_type": "code",
   "execution_count": 99,
   "metadata": {},
   "outputs": [
    {
     "data": {
      "text/plain": [
       "(828682, 15)"
      ]
     },
     "execution_count": 99,
     "metadata": {},
     "output_type": "execute_result"
    }
   ],
   "source": [
    "#Drop duplicated rows\n",
    "sales_data = sales_data.drop_duplicates()\n",
    "sales_data.shape"
   ]
  },
  {
   "cell_type": "code",
   "execution_count": 100,
   "metadata": {},
   "outputs": [
    {
     "data": {
      "text/html": [
       "<div>\n",
       "<style scoped>\n",
       "    .dataframe tbody tr th:only-of-type {\n",
       "        vertical-align: middle;\n",
       "    }\n",
       "\n",
       "    .dataframe tbody tr th {\n",
       "        vertical-align: top;\n",
       "    }\n",
       "\n",
       "    .dataframe thead th {\n",
       "        text-align: right;\n",
       "    }\n",
       "</style>\n",
       "<table border=\"1\" class=\"dataframe\">\n",
       "  <thead>\n",
       "    <tr style=\"text-align: right;\">\n",
       "      <th></th>\n",
       "      <th>LogSalePrice</th>\n",
       "      <th>SqFtTotLiving</th>\n",
       "      <th>Bedrooms</th>\n",
       "      <th>SqFtGarageAttached</th>\n",
       "      <th>SqFtDeck</th>\n",
       "      <th>BathFullCount</th>\n",
       "      <th>YrBuilt</th>\n",
       "      <th>New_zip</th>\n",
       "      <th>Pin</th>\n",
       "    </tr>\n",
       "  </thead>\n",
       "  <tbody>\n",
       "    <tr>\n",
       "      <th>0</th>\n",
       "      <td>12.409013</td>\n",
       "      <td>1490</td>\n",
       "      <td>3</td>\n",
       "      <td>500</td>\n",
       "      <td>0</td>\n",
       "      <td>2</td>\n",
       "      <td>1989</td>\n",
       "      <td>98002</td>\n",
       "      <td>138860110</td>\n",
       "    </tr>\n",
       "    <tr>\n",
       "      <th>1</th>\n",
       "      <td>11.601852</td>\n",
       "      <td>1490</td>\n",
       "      <td>3</td>\n",
       "      <td>500</td>\n",
       "      <td>0</td>\n",
       "      <td>2</td>\n",
       "      <td>1989</td>\n",
       "      <td>98002</td>\n",
       "      <td>138860110</td>\n",
       "    </tr>\n",
       "    <tr>\n",
       "      <th>6</th>\n",
       "      <td>11.472103</td>\n",
       "      <td>960</td>\n",
       "      <td>3</td>\n",
       "      <td>240</td>\n",
       "      <td>0</td>\n",
       "      <td>1</td>\n",
       "      <td>1969</td>\n",
       "      <td>98092</td>\n",
       "      <td>42394350</td>\n",
       "    </tr>\n",
       "    <tr>\n",
       "      <th>7</th>\n",
       "      <td>11.755872</td>\n",
       "      <td>960</td>\n",
       "      <td>3</td>\n",
       "      <td>240</td>\n",
       "      <td>0</td>\n",
       "      <td>1</td>\n",
       "      <td>1969</td>\n",
       "      <td>98092</td>\n",
       "      <td>42394350</td>\n",
       "    </tr>\n",
       "    <tr>\n",
       "      <th>11</th>\n",
       "      <td>13.048717</td>\n",
       "      <td>1780</td>\n",
       "      <td>4</td>\n",
       "      <td>520</td>\n",
       "      <td>0</td>\n",
       "      <td>1</td>\n",
       "      <td>1957</td>\n",
       "      <td>98008</td>\n",
       "      <td>403700715</td>\n",
       "    </tr>\n",
       "  </tbody>\n",
       "</table>\n",
       "</div>"
      ],
      "text/plain": [
       "    LogSalePrice  SqFtTotLiving  Bedrooms  SqFtGarageAttached  SqFtDeck  \\\n",
       "0      12.409013           1490         3                 500         0   \n",
       "1      11.601852           1490         3                 500         0   \n",
       "6      11.472103            960         3                 240         0   \n",
       "7      11.755872            960         3                 240         0   \n",
       "11     13.048717           1780         4                 520         0   \n",
       "\n",
       "    BathFullCount  YrBuilt New_zip        Pin  \n",
       "0               2     1989   98002  138860110  \n",
       "1               2     1989   98002  138860110  \n",
       "6               1     1969   98092   42394350  \n",
       "7               1     1969   98092   42394350  \n",
       "11              1     1957   98008  403700715  "
      ]
     },
     "execution_count": 100,
     "metadata": {},
     "output_type": "execute_result"
    }
   ],
   "source": [
    "#Choose the top correlated features\n",
    "sales_data.columns\n",
    "sales_data = sales_data[['LogSalePrice', 'SqFtTotLiving', 'Bedrooms', 'SqFtGarageAttached', 'SqFtDeck', \n",
    "                          'BathFullCount', 'YrBuilt', 'New_zip', 'Pin']].copy()\n",
    "sales_data.head()"
   ]
  },
  {
   "cell_type": "markdown",
   "metadata": {},
   "source": [
    "## Visualization"
   ]
  },
  {
   "cell_type": "code",
   "execution_count": 101,
   "metadata": {},
   "outputs": [
    {
     "data": {
      "image/png": "[encoded data removed]",
      "text/plain": [
       "<Figure size 1080x720 with 2 Axes>"
      ]
     },
     "metadata": {
      "needs_background": "light"
     },
     "output_type": "display_data"
    }
   ],
   "source": [
    "#Heatmap of features\n",
    "def correlation_heatmap(df1):\n",
    "   _, ax = plt.subplots(figsize = (15, 10))\n",
    "   colormap= sns.diverging_palette(220, 10, as_cmap = True)\n",
    "   sns.heatmap(df1.corr(), annot=True, cmap = colormap)\n",
    "\n",
    "correlation_heatmap(sales_data)"
   ]
  },
  {
   "cell_type": "code",
   "execution_count": 102,
   "metadata": {},
   "outputs": [
    {
     "data": {
      "text/plain": [
       "(array([57.,  6.,  8., 17., 14.,  6.,  6.,  6.,  3.,  2.]),\n",
       " array([1.00000e+00, 2.62740e+03, 5.25380e+03, 7.88020e+03, 1.05066e+04,\n",
       "        1.31330e+04, 1.57594e+04, 1.83858e+04, 2.10122e+04, 2.36386e+04,\n",
       "        2.62650e+04]),\n",
       " <a list of 10 Patch objects>)"
      ]
     },
     "execution_count": 102,
     "metadata": {},
     "output_type": "execute_result"
    },
    {
     "data": {
      "image/png": "[encoded data removed]",
      "text/plain": [
       "<Figure size 432x288 with 1 Axes>"
      ]
     },
     "metadata": {
      "needs_background": "light"
     },
     "output_type": "display_data"
    }
   ],
   "source": [
    "#See the distribution of house sales based on ZipCode\n",
    "plt.xlabel('houses sold')\n",
    "plt.ylabel('counts')\n",
    "\n",
    "plt.hist(sales_data['New_zip'].value_counts())"
   ]
  },
  {
   "cell_type": "code",
   "execution_count": 103,
   "metadata": {},
   "outputs": [],
   "source": [
    "zipcode_counts = sales_data['New_zip'].value_counts().to_dict()"
   ]
  },
  {
   "cell_type": "code",
   "execution_count": 104,
   "metadata": {},
   "outputs": [],
   "source": [
    "sales_data['Zip_count'] = sales_data['New_zip'].apply(lambda z: zipcode_counts[z])"
   ]
  },
  {
   "cell_type": "code",
   "execution_count": 105,
   "metadata": {},
   "outputs": [
    {
     "data": {
      "text/html": [
       "<div>\n",
       "<style scoped>\n",
       "    .dataframe tbody tr th:only-of-type {\n",
       "        vertical-align: middle;\n",
       "    }\n",
       "\n",
       "    .dataframe tbody tr th {\n",
       "        vertical-align: top;\n",
       "    }\n",
       "\n",
       "    .dataframe thead th {\n",
       "        text-align: right;\n",
       "    }\n",
       "</style>\n",
       "<table border=\"1\" class=\"dataframe\">\n",
       "  <thead>\n",
       "    <tr style=\"text-align: right;\">\n",
       "      <th></th>\n",
       "      <th>LogSalePrice</th>\n",
       "      <th>SqFtTotLiving</th>\n",
       "      <th>Bedrooms</th>\n",
       "      <th>SqFtGarageAttached</th>\n",
       "      <th>SqFtDeck</th>\n",
       "      <th>BathFullCount</th>\n",
       "      <th>YrBuilt</th>\n",
       "      <th>New_zip</th>\n",
       "      <th>Pin</th>\n",
       "      <th>Zip_count</th>\n",
       "    </tr>\n",
       "  </thead>\n",
       "  <tbody>\n",
       "    <tr>\n",
       "      <th>16</th>\n",
       "      <td>11.849040</td>\n",
       "      <td>2050</td>\n",
       "      <td>4</td>\n",
       "      <td>0</td>\n",
       "      <td>260</td>\n",
       "      <td>1</td>\n",
       "      <td>1967</td>\n",
       "      <td>98058</td>\n",
       "      <td>98400380</td>\n",
       "      <td>19750</td>\n",
       "    </tr>\n",
       "    <tr>\n",
       "      <th>17</th>\n",
       "      <td>12.993393</td>\n",
       "      <td>2050</td>\n",
       "      <td>4</td>\n",
       "      <td>0</td>\n",
       "      <td>260</td>\n",
       "      <td>1</td>\n",
       "      <td>1967</td>\n",
       "      <td>98058</td>\n",
       "      <td>98400380</td>\n",
       "      <td>19750</td>\n",
       "    </tr>\n",
       "    <tr>\n",
       "      <th>19</th>\n",
       "      <td>12.721886</td>\n",
       "      <td>2210</td>\n",
       "      <td>3</td>\n",
       "      <td>650</td>\n",
       "      <td>500</td>\n",
       "      <td>2</td>\n",
       "      <td>1994</td>\n",
       "      <td>98038</td>\n",
       "      <td>3303951610</td>\n",
       "      <td>21369</td>\n",
       "    </tr>\n",
       "    <tr>\n",
       "      <th>20</th>\n",
       "      <td>12.820988</td>\n",
       "      <td>2210</td>\n",
       "      <td>3</td>\n",
       "      <td>650</td>\n",
       "      <td>500</td>\n",
       "      <td>2</td>\n",
       "      <td>1994</td>\n",
       "      <td>98038</td>\n",
       "      <td>3303951610</td>\n",
       "      <td>21369</td>\n",
       "    </tr>\n",
       "    <tr>\n",
       "      <th>21</th>\n",
       "      <td>12.170186</td>\n",
       "      <td>2210</td>\n",
       "      <td>3</td>\n",
       "      <td>650</td>\n",
       "      <td>500</td>\n",
       "      <td>2</td>\n",
       "      <td>1994</td>\n",
       "      <td>98038</td>\n",
       "      <td>3303951610</td>\n",
       "      <td>21369</td>\n",
       "    </tr>\n",
       "  </tbody>\n",
       "</table>\n",
       "</div>"
      ],
      "text/plain": [
       "    LogSalePrice  SqFtTotLiving  Bedrooms  SqFtGarageAttached  SqFtDeck  \\\n",
       "16     11.849040           2050         4                   0       260   \n",
       "17     12.993393           2050         4                   0       260   \n",
       "19     12.721886           2210         3                 650       500   \n",
       "20     12.820988           2210         3                 650       500   \n",
       "21     12.170186           2210         3                 650       500   \n",
       "\n",
       "    BathFullCount  YrBuilt New_zip         Pin  Zip_count  \n",
       "16              1     1967   98058    98400380      19750  \n",
       "17              1     1967   98058    98400380      19750  \n",
       "19              2     1994   98038  3303951610      21369  \n",
       "20              2     1994   98038  3303951610      21369  \n",
       "21              2     1994   98038  3303951610      21369  "
      ]
     },
     "execution_count": 105,
     "metadata": {},
     "output_type": "execute_result"
    }
   ],
   "source": [
    "#Keep the ZipCodes with over 15000 house sales\n",
    "sales_data_over_15k = sales_data[sales_data['Zip_count'] > 15000]\n",
    "sales_data_over_15k.head()"
   ]
  },
  {
   "cell_type": "code",
   "execution_count": 106,
   "metadata": {},
   "outputs": [
    {
     "data": {
      "text/plain": [
       "New_zip\n",
       "98023    12.199940\n",
       "98001    12.209329\n",
       "98031    12.276511\n",
       "98118    12.295413\n",
       "98042    12.316935\n",
       "98133    12.359890\n",
       "98058    12.366849\n",
       "98155    12.375569\n",
       "98056    12.461578\n",
       "98038    12.488983\n",
       "98034    12.535419\n",
       "98117    12.567963\n",
       "98059    12.606677\n",
       "98103    12.630655\n",
       "98115    12.640037\n",
       "98052    12.723718\n",
       "98033    12.805536\n",
       "98074    12.849898\n",
       "98006    12.873801\n",
       "Name: LogSalePrice, dtype: float64"
      ]
     },
     "execution_count": 106,
     "metadata": {},
     "output_type": "execute_result"
    }
   ],
   "source": [
    "Zip_by_price = sales_data_over_15k.groupby('New_zip')['LogSalePrice'].mean().sort_values()\n",
    "Zip_by_price"
   ]
  },
  {
   "cell_type": "code",
   "execution_count": 107,
   "metadata": {},
   "outputs": [
    {
     "name": "stderr",
     "output_type": "stream",
     "text": [
      "/Users/flatironschool/anaconda3/envs/learn/lib/python3.7/site-packages/ipykernel_launcher.py:3: SettingWithCopyWarning: \n",
      "A value is trying to be set on a copy of a slice from a DataFrame.\n",
      "Try using .loc[row_indexer,col_indexer] = value instead\n",
      "\n",
      "See the caveats in the documentation: http://pandas.pydata.org/pandas-docs/stable/indexing.html#indexing-view-versus-copy\n",
      "  This is separate from the ipykernel package so we can avoid doing imports until\n"
     ]
    }
   ],
   "source": [
    "zcodes = list(Zip_by_price.index)\n",
    "for zc in zcodes:\n",
    "    sales_data_over_15k[zc] = (sales_data_over_15k['New_zip'] == zc).astype(int)"
   ]
  },
  {
   "cell_type": "code",
   "execution_count": 108,
   "metadata": {},
   "outputs": [
    {
     "data": {
      "text/html": [
       "<div>\n",
       "<style scoped>\n",
       "    .dataframe tbody tr th:only-of-type {\n",
       "        vertical-align: middle;\n",
       "    }\n",
       "\n",
       "    .dataframe tbody tr th {\n",
       "        vertical-align: top;\n",
       "    }\n",
       "\n",
       "    .dataframe thead th {\n",
       "        text-align: right;\n",
       "    }\n",
       "</style>\n",
       "<table border=\"1\" class=\"dataframe\">\n",
       "  <thead>\n",
       "    <tr style=\"text-align: right;\">\n",
       "      <th></th>\n",
       "      <th>LogSalePrice</th>\n",
       "      <th>SqFtTotLiving</th>\n",
       "      <th>Bedrooms</th>\n",
       "      <th>SqFtGarageAttached</th>\n",
       "      <th>SqFtDeck</th>\n",
       "      <th>BathFullCount</th>\n",
       "      <th>YrBuilt</th>\n",
       "      <th>New_zip</th>\n",
       "      <th>Pin</th>\n",
       "      <th>Zip_count</th>\n",
       "      <th>...</th>\n",
       "      <th>98038</th>\n",
       "      <th>98034</th>\n",
       "      <th>98117</th>\n",
       "      <th>98059</th>\n",
       "      <th>98103</th>\n",
       "      <th>98115</th>\n",
       "      <th>98052</th>\n",
       "      <th>98033</th>\n",
       "      <th>98074</th>\n",
       "      <th>98006</th>\n",
       "    </tr>\n",
       "  </thead>\n",
       "  <tbody>\n",
       "    <tr>\n",
       "      <th>16</th>\n",
       "      <td>11.849040</td>\n",
       "      <td>2050</td>\n",
       "      <td>4</td>\n",
       "      <td>0</td>\n",
       "      <td>260</td>\n",
       "      <td>1</td>\n",
       "      <td>1967</td>\n",
       "      <td>98058</td>\n",
       "      <td>98400380</td>\n",
       "      <td>19750</td>\n",
       "      <td>...</td>\n",
       "      <td>0</td>\n",
       "      <td>0</td>\n",
       "      <td>0</td>\n",
       "      <td>0</td>\n",
       "      <td>0</td>\n",
       "      <td>0</td>\n",
       "      <td>0</td>\n",
       "      <td>0</td>\n",
       "      <td>0</td>\n",
       "      <td>0</td>\n",
       "    </tr>\n",
       "    <tr>\n",
       "      <th>17</th>\n",
       "      <td>12.993393</td>\n",
       "      <td>2050</td>\n",
       "      <td>4</td>\n",
       "      <td>0</td>\n",
       "      <td>260</td>\n",
       "      <td>1</td>\n",
       "      <td>1967</td>\n",
       "      <td>98058</td>\n",
       "      <td>98400380</td>\n",
       "      <td>19750</td>\n",
       "      <td>...</td>\n",
       "      <td>0</td>\n",
       "      <td>0</td>\n",
       "      <td>0</td>\n",
       "      <td>0</td>\n",
       "      <td>0</td>\n",
       "      <td>0</td>\n",
       "      <td>0</td>\n",
       "      <td>0</td>\n",
       "      <td>0</td>\n",
       "      <td>0</td>\n",
       "    </tr>\n",
       "    <tr>\n",
       "      <th>19</th>\n",
       "      <td>12.721886</td>\n",
       "      <td>2210</td>\n",
       "      <td>3</td>\n",
       "      <td>650</td>\n",
       "      <td>500</td>\n",
       "      <td>2</td>\n",
       "      <td>1994</td>\n",
       "      <td>98038</td>\n",
       "      <td>3303951610</td>\n",
       "      <td>21369</td>\n",
       "      <td>...</td>\n",
       "      <td>1</td>\n",
       "      <td>0</td>\n",
       "      <td>0</td>\n",
       "      <td>0</td>\n",
       "      <td>0</td>\n",
       "      <td>0</td>\n",
       "      <td>0</td>\n",
       "      <td>0</td>\n",
       "      <td>0</td>\n",
       "      <td>0</td>\n",
       "    </tr>\n",
       "    <tr>\n",
       "      <th>20</th>\n",
       "      <td>12.820988</td>\n",
       "      <td>2210</td>\n",
       "      <td>3</td>\n",
       "      <td>650</td>\n",
       "      <td>500</td>\n",
       "      <td>2</td>\n",
       "      <td>1994</td>\n",
       "      <td>98038</td>\n",
       "      <td>3303951610</td>\n",
       "      <td>21369</td>\n",
       "      <td>...</td>\n",
       "      <td>1</td>\n",
       "      <td>0</td>\n",
       "      <td>0</td>\n",
       "      <td>0</td>\n",
       "      <td>0</td>\n",
       "      <td>0</td>\n",
       "      <td>0</td>\n",
       "      <td>0</td>\n",
       "      <td>0</td>\n",
       "      <td>0</td>\n",
       "    </tr>\n",
       "    <tr>\n",
       "      <th>21</th>\n",
       "      <td>12.170186</td>\n",
       "      <td>2210</td>\n",
       "      <td>3</td>\n",
       "      <td>650</td>\n",
       "      <td>500</td>\n",
       "      <td>2</td>\n",
       "      <td>1994</td>\n",
       "      <td>98038</td>\n",
       "      <td>3303951610</td>\n",
       "      <td>21369</td>\n",
       "      <td>...</td>\n",
       "      <td>1</td>\n",
       "      <td>0</td>\n",
       "      <td>0</td>\n",
       "      <td>0</td>\n",
       "      <td>0</td>\n",
       "      <td>0</td>\n",
       "      <td>0</td>\n",
       "      <td>0</td>\n",
       "      <td>0</td>\n",
       "      <td>0</td>\n",
       "    </tr>\n",
       "  </tbody>\n",
       "</table>\n",
       "<p>5 rows × 29 columns</p>\n",
       "</div>"
      ],
      "text/plain": [
       "    LogSalePrice  SqFtTotLiving  Bedrooms  SqFtGarageAttached  SqFtDeck  \\\n",
       "16     11.849040           2050         4                   0       260   \n",
       "17     12.993393           2050         4                   0       260   \n",
       "19     12.721886           2210         3                 650       500   \n",
       "20     12.820988           2210         3                 650       500   \n",
       "21     12.170186           2210         3                 650       500   \n",
       "\n",
       "    BathFullCount  YrBuilt New_zip         Pin  Zip_count  ...  98038  98034  \\\n",
       "16              1     1967   98058    98400380      19750  ...      0      0   \n",
       "17              1     1967   98058    98400380      19750  ...      0      0   \n",
       "19              2     1994   98038  3303951610      21369  ...      1      0   \n",
       "20              2     1994   98038  3303951610      21369  ...      1      0   \n",
       "21              2     1994   98038  3303951610      21369  ...      1      0   \n",
       "\n",
       "    98117  98059  98103  98115  98052  98033  98074  98006  \n",
       "16      0      0      0      0      0      0      0      0  \n",
       "17      0      0      0      0      0      0      0      0  \n",
       "19      0      0      0      0      0      0      0      0  \n",
       "20      0      0      0      0      0      0      0      0  \n",
       "21      0      0      0      0      0      0      0      0  \n",
       "\n",
       "[5 rows x 29 columns]"
      ]
     },
     "execution_count": 108,
     "metadata": {},
     "output_type": "execute_result"
    }
   ],
   "source": [
    "sales_data_over_15k.head()"
   ]
  },
  {
   "cell_type": "code",
   "execution_count": 109,
   "metadata": {},
   "outputs": [
    {
     "name": "stdout",
     "output_type": "stream",
     "text": [
      "LogSalePrice          1.000000\n",
      "SqFtTotLiving         0.388788\n",
      "BathFullCount         0.246095\n",
      "Bedrooms              0.207515\n",
      "SqFtGarageAttached    0.161473\n",
      "YrBuilt               0.153678\n",
      "98006                 0.132266\n",
      "98023                 0.118022\n",
      "SqFtDeck              0.113968\n",
      "98074                 0.112933\n",
      "98033                 0.097534\n",
      "98001                 0.093402\n",
      "98052                 0.080995\n",
      "98042                 0.076237\n",
      "98031                 0.070777\n",
      "98118                 0.070473\n",
      "98115                 0.052749\n",
      "98058                 0.047876\n",
      "98133                 0.046960\n",
      "98103                 0.044952\n",
      "98155                 0.040634\n",
      "Zip_count             0.036575\n",
      "98059                 0.032812\n",
      "98117                 0.022996\n",
      "98056                 0.012574\n",
      "98034                 0.011968\n",
      "98038                 0.004999\n",
      "Name: LogSalePrice, dtype: float64\n"
     ]
    }
   ],
   "source": [
    "#Initial correlation of zipcodes with logsalePrice.\n",
    "numeric_feature = sales_data_over_15k.select_dtypes(include=[np.number])\n",
    "corr = numeric_feature.corr()\n",
    "\n",
    "print(abs(corr['LogSalePrice']).sort_values(ascending = False))"
   ]
  },
  {
   "cell_type": "code",
   "execution_count": 124,
   "metadata": {},
   "outputs": [],
   "source": [
    "#Build a multiple linear regression with the top 7 features\n",
    "Y = sales_data_over_15k['LogSalePrice']\n",
    "important_feat = [ele for ele in sales_data_over_15k.columns if ele in {'SqFtTotLiving', 'BathFullCount', 'Bedrooms', 'SqFtGarageAttached','SqFtDeck','YrBuilt','98006'}] \n",
    "X = sales_data_over_15k[important_feat]\n"
   ]
  },
  {
   "cell_type": "code",
   "execution_count": 125,
   "metadata": {},
   "outputs": [],
   "source": [
    "from sklearn.model_selection import train_test_split\n",
    "from sklearn.metrics import mean_squared_error\n",
    "from sklearn import linear_model\n",
    "\n",
    "X_train, X_test, y_train, y_test = train_test_split(X, Y, random_state = 1000, test_size=.3)\n",
    "\n",
    "lr = linear_model.LinearRegression()"
   ]
  },
  {
   "cell_type": "code",
   "execution_count": 126,
   "metadata": {},
   "outputs": [
    {
     "name": "stdout",
     "output_type": "stream",
     "text": [
      "R^2 is: 0.15577869013095447\n"
     ]
    }
   ],
   "source": [
    "model = lr.fit(X_train, y_train)\n",
    "print(\"R^2 is:\", model.score(X_test, y_test))"
   ]
  },
  {
   "cell_type": "code",
   "execution_count": 113,
   "metadata": {},
   "outputs": [
    {
     "data": {
      "text/plain": [
       "0.4921284621094131"
      ]
     },
     "execution_count": 113,
     "metadata": {},
     "output_type": "execute_result"
    }
   ],
   "source": [
    "metrics.mean_absolute_error(y_test, lr.predict(X_test))"
   ]
  },
  {
   "cell_type": "code",
   "execution_count": 114,
   "metadata": {},
   "outputs": [
    {
     "name": "stdout",
     "output_type": "stream",
     "text": [
      "RSSE is: 0.6227371034500055\n"
     ]
    }
   ],
   "source": [
    "prediction = model.predict(X_test)\n",
    "print(\"RSSE is:\", (mean_squared_error(y_test, prediction)**.5))"
   ]
  },
  {
   "cell_type": "code",
   "execution_count": 115,
   "metadata": {},
   "outputs": [
    {
     "data": {
      "image/png": "[encoded data removed]",
      "text/plain": [
       "<Figure size 432x288 with 1 Axes>"
      ]
     },
     "metadata": {
      "needs_background": "light"
     },
     "output_type": "display_data"
    }
   ],
   "source": [
    "actual_values = y_test\n",
    "plt.scatter(prediction, actual_values, alpha=.2, color='b') \n",
    "plt.xlabel('Predicted Price')\n",
    "plt.ylabel('Actual Price')\n",
    "plt.show()"
   ]
  },
  {
   "cell_type": "code",
   "execution_count": 145,
   "metadata": {},
   "outputs": [],
   "source": [
    "#Build a multiple linear regression with each of the top 7 features\n",
    "featurelist = ['SqFtTotLiving', 'BathFullCount', 'Bedrooms', 'SqFtGarageAttached','SqFtDeck','YrBuilt','98006'] \n",
    "def eachfeature(featurelist):\n",
    "    X = None\n",
    "    for feature in featurelist:\n",
    "        X_train, X_test, y_train, y_test = train_test_split(np.array(sales_data_over_15k[feature]).reshape(-1,1), Y, random_state = 1000, test_size=.3)\n",
    "        lr = linear_model.LinearRegression()\n",
    "        model = lr.fit(X_train, y_train)\n",
    "        print(f\"R^2 for {feature} is:{model.score(X_test, y_test)}\") \n",
    "        print(f\"mean_absolute_error for {feature} is: {metrics.mean_absolute_error(y_test, lr.predict(X_test))}\")\n",
    "        \n",
    "        "
   ]
  },
  {
   "cell_type": "code",
   "execution_count": 146,
   "metadata": {},
   "outputs": [
    {
     "name": "stdout",
     "output_type": "stream",
     "text": [
      "R^2 for SqFtTotLiving is:0.15050223380323324\n",
      "mean_absolute_error for SqFtTotLiving is: 0.4940192106761743\n",
      "R^2 for BathFullCount is:0.05875530684431396\n",
      "mean_absolute_error for BathFullCount is: 0.5246076767507756\n",
      "R^2 for Bedrooms is:0.04284622089692025\n",
      "mean_absolute_error for Bedrooms is: 0.5301587008866037\n",
      "R^2 for SqFtGarageAttached is:0.02543090473911924\n",
      "mean_absolute_error for SqFtGarageAttached is: 0.5354292324795797\n",
      "R^2 for SqFtDeck is:0.013637627013064701\n",
      "mean_absolute_error for SqFtDeck is: 0.5397364712800606\n",
      "R^2 for YrBuilt is:0.02335896244856439\n",
      "mean_absolute_error for YrBuilt is: 0.5364148646042672\n",
      "R^2 for 98006 is:0.01723059195330523\n",
      "mean_absolute_error for 98006 is: 0.538528834479249\n"
     ]
    }
   ],
   "source": [
    "eachfeature(featurelist)"
   ]
  }
 ],
 "metadata": {
  "kernelspec": {
   "display_name": "Python 3",
   "language": "python",
   "name": "python3"
  },
  "language_info": {
   "codemirror_mode": {
    "name": "ipython",
    "version": 3
   },
   "file_extension": ".py",
   "mimetype": "text/x-python",
   "name": "python",
   "nbconvert_exporter": "python",
   "pygments_lexer": "ipython3",
   "version": "3.7.3"
  }
 },
 "nbformat": 4,
 "nbformat_minor": 2
}
